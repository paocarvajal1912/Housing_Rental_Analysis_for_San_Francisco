{
 "cells": [
  {
   "cell_type": "markdown",
   "metadata": {},
   "source": [
    "# Housing Rental Analysis for San Francisco\n",
    "\n",
    "In this projet, we use data visualization tools, including aggregation, interactive visualizations, and geospatial analysis, to find properties in the San Francisco market that are viable investment opportunities.\n",
    "\n",
    "Description:\n",
    "\n",
    "We use the `san_francisco_housing.ipynb` notebook to visualize and analyze the real-estate data.\n",
    "\n",
    "We create a visualization by using the integration between Plotly and the Mapbox API. Be sure to create your environment file (`.env`) and include your Mapbox API access token. Then import your Mapbox API access token into the `san_francisco_housing.ipynb` notebook, and set it by using the `px.set_mapbox_access_token` function.\n",
    "\n",
    "The project uses the `sfo_neighborhoods_census_data.csv` file from the `Resources` folder into the notebook and create the DataFrame that we’ll use in the analysis.\n",
    "\n",
    "The main task in this project is to visualize and analyze the real-estate data in a Jupyter notebook. We use the `san_francisco_housing.ipynb` notebook to complete the following tasks:\n",
    "\n",
    "* Calculate and plot the housing units per year.\n",
    "\n",
    "* Calculate and plot the average prices per square foot.\n",
    "\n",
    "* Compare the average prices by neighborhood.\n",
    "\n",
    "* Build an interactive neighborhood map.\n",
    "\n",
    "* Compose your data story.\n",
    "\n",
    "##### Calculate and Plot the Housing Units per Year\n",
    "\n",
    "For this part, we use numerical and visual aggregation to calculate the number of housing units per year, and then visualize the results as a bar chart. To do so, we complete the following steps:\n",
    "\n",
    "1. Use the `groupby` function to group the data by year. Aggregate the results by the `mean` of the groups.\n",
    "\n",
    "2. Use the `hvplot` function to plot the `housing_units_by_year` DataFrame as a bar chart. Make the x-axis represent the `year` and the y-axis represent the `housing_units`.\n",
    "\n",
    "3. Style and format the line plot to ensure a professionally styled visualization.\n",
    "\n",
    "4. Note that your resulting plot should appear similar to the following image:\n",
    "\n",
    "![A screenshot depicts an example of the resulting bar chart.](Images/zoomed-housing-units-by-year.png)\n",
    "\n",
    "5. Answer the following question:\n",
    "\n",
    "    * What’s the overall trend in housing units over the period that you’re analyzing?\n",
    "\n",
    "##### Calculate and Plot the Average Sale Prices per Square Foot\n",
    "\n",
    "For this part, we use numerical and visual aggregation to calculate the average prices per square foot, and then visualize the results as a bar chart. To do so, we complete the following steps:\n",
    "\n",
    "1. Group the data by year, and then average the results. What’s the lowest gross rent that’s reported for the years that the DataFrame includes?\n",
    "\n",
    "2. Create a new DataFrame named `prices_square_foot_by_year` by filtering out the “housing_units” column. The new DataFrame should include the averages per year for only the sale price per square foot and the gross rent.\n",
    "\n",
    "3. Use hvPlot to plot the `prices_square_foot_by_year` DataFrame as a line plot.\n",
    "\n",
    "    > **Hint** This single plot will include lines for both `sale_price_sqr_foot` and `gross_rent`.\n",
    "\n",
    "4. Style and format the line plot to ensure a professionally styled visualization.\n",
    "\n",
    "5. Note that your resulting plot should appear similar to the following image:\n",
    "\n",
    "![A screenshot depicts an example of the resulting plot.](Images/avg-sale-px-sq-foot-gross-rent.png)\n",
    "\n",
    "6. Use both the `prices_square_foot_by_year` DataFrame and interactive plots to answer the following questions:\n",
    "\n",
    "    * Did any year experience a drop in the average sale price per square foot compared to the previous year?\n",
    "\n",
    "    * If so, did the gross rent increase or decrease during that year?\n",
    "\n",
    "##### Compare the Average Sale Prices by Neighborhood\n",
    "\n",
    "For this part, we use interactive visualizations and widgets to explore the average sale price per square foot by neighborhood. To do so, we complete the following steps:\n",
    "\n",
    "1. Create a new DataFrame that groups the original DataFrame by year and neighborhood. Aggregate the results by the `mean` of the groups.\n",
    "\n",
    "2. Filter out the “housing_units” column to create a DataFrame that includes only the `sale_price_sqr_foot` and `gross_rent` averages per year.\n",
    "\n",
    "3. Create an interactive line plot with hvPlot that visualizes both `sale_price_sqr_foot` and `gross_rent`. Set the x-axis parameter to the year (`x=\"year\"`). Use the `groupby` parameter to create an interactive widget for `neighborhood`.\n",
    "\n",
    "4. Style and format the line plot to ensure a professionally styled visualization.\n",
    "\n",
    "5. Note that your resulting plot should appear similar to the following image:\n",
    "\n",
    "![A screenshot depicts an example of the resulting plot.](Images/pricing-info-by-neighborhood.png)\n",
    "\n",
    "6. Use the interactive visualization to answer the following question:\n",
    "\n",
    "    * For the Anza Vista neighborhood, is the average sale price per square foot for 2016 more or less than the price that’s listed for 2012? \n",
    "\n",
    "##### Build an Interactive Neighborhood Map\n",
    "\n",
    "For this part, we explore the geospatial relationships in the data by using interactive visualizations with Plotly and the Mapbox API. To build your map, use the `sfo_data_df` DataFrame (created during the initial import), which includes the neighborhood location data with the average prices. To do all this, complete the following steps:\n",
    "\n",
    "1. Read the `neighborhood_coordinates.csv` file from the `Resources` folder into the notebook, and create a DataFrame named `neighborhood_locations_df`. Be sure to set the `index_col` of the DataFrame as “Neighborhood”.\n",
    "\n",
    "2. Using the original `sfo_data_df` Dataframe, create a DataFrame named `all_neighborhood_info_df` that groups the data by neighborhood. Aggregate the results by the `mean` of the group.\n",
    "\n",
    "3. Review the two code cells that concatenate the `neighborhood_locations_df` DataFrame with the `all_neighborhood_info_df` DataFrame. Note that the first cell uses the [Pandas concat function](https://pandas.pydata.org/pandas-docs/stable/reference/api/pandas.concat.html) to create a DataFrame named `all_neighborhoods_df`. The second cell cleans the data and sets the “Neighborhood” column. Be sure to run these cells to create the `all_neighborhoods_df` DataFrame, which you’ll need to create the geospatial visualization.\n",
    "\n",
    "4. Using Plotly Express, create a `scatter_mapbox` for the `all_neighborhoods_df` DataFrame. Remember that you need your MapBox API key. Be sure to do the following:\n",
    "\n",
    "    * Set the `size` parameter to “sale_price_sqr_foot”.\n",
    "\n",
    "    * Set the `color` parameter to “gross_rent”.\n",
    "\n",
    "    * Set the `size_max` parameter to “25”.\n",
    "\n",
    "    * Set the `zoom` parameter to “11”.\n",
    "\n",
    "5. Style and format the line plot to ensure a professionally styled visualization.\n",
    "\n",
    "6. Note that your resulting plot should appear similar to the following image:\n",
    "\n",
    "![A screenshot depicts an example of a scatter plot created with the Mapbox API.](Images/mapbox-plot.png)\n",
    "\n",
    "7. Use the interactive map to answer the following question:\n",
    "\n",
    "    * Which neighborhood has the highest gross rent, and which has the highest sale price per square foot?\n",
    "\n",
    "##### Compose Your Data Story\n",
    "\n",
    "Based on the visualizations that you created, answer the following questions:\n",
    "\n",
    "* How does the trend in rental income growth compare to the trend in sales prices? Does this same trend hold true for all the neighborhoods across San Francisco?\n",
    "\n",
    "* What insights can you share with your company about the potential one-click, buy-and-rent strategy that they're pursuing? Do neighborhoods exist that you would suggest for investment, and why?"
   ]
  },
  {
   "cell_type": "code",
   "execution_count": 61,
   "metadata": {},
   "outputs": [],
   "source": [
    "# Import the required libraries and dependencies\n",
    "import os\n",
    "import pandas as pd\n",
    "import plotly.express as px\n",
    "import hvplot.pandas\n",
    "from pathlib import Path\n",
    "from dotenv import load_dotenv\n",
    "import dash"
   ]
  },
  {
   "cell_type": "markdown",
   "metadata": {},
   "source": [
    "## Enable your Mapbox API access token"
   ]
  },
  {
   "cell_type": "code",
   "execution_count": 23,
   "metadata": {},
   "outputs": [
    {
     "name": "stderr",
     "output_type": "stream",
     "text": [
      "Python-dotenv could not parse statement starting at line 1\n"
     ]
    },
    {
     "data": {
      "text/plain": [
       "str"
      ]
     },
     "execution_count": 23,
     "metadata": {},
     "output_type": "execute_result"
    }
   ],
   "source": [
    "# Load the .env file into the notebook\n",
    "load_dotenv()\n",
    "\n",
    "# Read in your MAPBOX_API_KEY\n",
    "map_box_api_access_token = os.getenv(\"MAPBOX_API_ACCESS_TOKEN\")\n",
    "\n",
    "# Confirm the availability of your Mapbox API access token by checking its type\n",
    "type(map_box_api_access_token)"
   ]
  },
  {
   "cell_type": "code",
   "execution_count": 24,
   "metadata": {},
   "outputs": [],
   "source": [
    "# Set your Mapbox API access token\n",
    "px.set_mapbox_access_token(map_box_api_access_token)"
   ]
  },
  {
   "cell_type": "markdown",
   "metadata": {},
   "source": [
    "## Import the data "
   ]
  },
  {
   "cell_type": "code",
   "execution_count": 25,
   "metadata": {},
   "outputs": [
    {
     "data": {
      "text/html": [
       "<div>\n",
       "<style scoped>\n",
       "    .dataframe tbody tr th:only-of-type {\n",
       "        vertical-align: middle;\n",
       "    }\n",
       "\n",
       "    .dataframe tbody tr th {\n",
       "        vertical-align: top;\n",
       "    }\n",
       "\n",
       "    .dataframe thead th {\n",
       "        text-align: right;\n",
       "    }\n",
       "</style>\n",
       "<table border=\"1\" class=\"dataframe\">\n",
       "  <thead>\n",
       "    <tr style=\"text-align: right;\">\n",
       "      <th></th>\n",
       "      <th>neighborhood</th>\n",
       "      <th>sale_price_sqr_foot</th>\n",
       "      <th>housing_units</th>\n",
       "      <th>gross_rent</th>\n",
       "    </tr>\n",
       "    <tr>\n",
       "      <th>year</th>\n",
       "      <th></th>\n",
       "      <th></th>\n",
       "      <th></th>\n",
       "      <th></th>\n",
       "    </tr>\n",
       "  </thead>\n",
       "  <tbody>\n",
       "    <tr>\n",
       "      <th>2010</th>\n",
       "      <td>Alamo Square</td>\n",
       "      <td>291.182945</td>\n",
       "      <td>372560</td>\n",
       "      <td>1239</td>\n",
       "    </tr>\n",
       "    <tr>\n",
       "      <th>2010</th>\n",
       "      <td>Anza Vista</td>\n",
       "      <td>267.932583</td>\n",
       "      <td>372560</td>\n",
       "      <td>1239</td>\n",
       "    </tr>\n",
       "    <tr>\n",
       "      <th>2010</th>\n",
       "      <td>Bayview</td>\n",
       "      <td>170.098665</td>\n",
       "      <td>372560</td>\n",
       "      <td>1239</td>\n",
       "    </tr>\n",
       "    <tr>\n",
       "      <th>2010</th>\n",
       "      <td>Buena Vista Park</td>\n",
       "      <td>347.394919</td>\n",
       "      <td>372560</td>\n",
       "      <td>1239</td>\n",
       "    </tr>\n",
       "    <tr>\n",
       "      <th>2010</th>\n",
       "      <td>Central Richmond</td>\n",
       "      <td>319.027623</td>\n",
       "      <td>372560</td>\n",
       "      <td>1239</td>\n",
       "    </tr>\n",
       "  </tbody>\n",
       "</table>\n",
       "</div>"
      ],
      "text/plain": [
       "          neighborhood  sale_price_sqr_foot  housing_units  gross_rent\n",
       "year                                                                  \n",
       "2010      Alamo Square           291.182945         372560        1239\n",
       "2010        Anza Vista           267.932583         372560        1239\n",
       "2010           Bayview           170.098665         372560        1239\n",
       "2010  Buena Vista Park           347.394919         372560        1239\n",
       "2010  Central Richmond           319.027623         372560        1239"
      ]
     },
     "metadata": {},
     "output_type": "display_data"
    },
    {
     "data": {
      "text/html": [
       "<div>\n",
       "<style scoped>\n",
       "    .dataframe tbody tr th:only-of-type {\n",
       "        vertical-align: middle;\n",
       "    }\n",
       "\n",
       "    .dataframe tbody tr th {\n",
       "        vertical-align: top;\n",
       "    }\n",
       "\n",
       "    .dataframe thead th {\n",
       "        text-align: right;\n",
       "    }\n",
       "</style>\n",
       "<table border=\"1\" class=\"dataframe\">\n",
       "  <thead>\n",
       "    <tr style=\"text-align: right;\">\n",
       "      <th></th>\n",
       "      <th>neighborhood</th>\n",
       "      <th>sale_price_sqr_foot</th>\n",
       "      <th>housing_units</th>\n",
       "      <th>gross_rent</th>\n",
       "    </tr>\n",
       "    <tr>\n",
       "      <th>year</th>\n",
       "      <th></th>\n",
       "      <th></th>\n",
       "      <th></th>\n",
       "      <th></th>\n",
       "    </tr>\n",
       "  </thead>\n",
       "  <tbody>\n",
       "    <tr>\n",
       "      <th>2016</th>\n",
       "      <td>Telegraph Hill</td>\n",
       "      <td>903.049771</td>\n",
       "      <td>384242</td>\n",
       "      <td>4390</td>\n",
       "    </tr>\n",
       "    <tr>\n",
       "      <th>2016</th>\n",
       "      <td>Twin Peaks</td>\n",
       "      <td>970.085470</td>\n",
       "      <td>384242</td>\n",
       "      <td>4390</td>\n",
       "    </tr>\n",
       "    <tr>\n",
       "      <th>2016</th>\n",
       "      <td>Van Ness/ Civic Center</td>\n",
       "      <td>552.602567</td>\n",
       "      <td>384242</td>\n",
       "      <td>4390</td>\n",
       "    </tr>\n",
       "    <tr>\n",
       "      <th>2016</th>\n",
       "      <td>Visitacion Valley</td>\n",
       "      <td>328.319007</td>\n",
       "      <td>384242</td>\n",
       "      <td>4390</td>\n",
       "    </tr>\n",
       "    <tr>\n",
       "      <th>2016</th>\n",
       "      <td>Westwood Park</td>\n",
       "      <td>631.195426</td>\n",
       "      <td>384242</td>\n",
       "      <td>4390</td>\n",
       "    </tr>\n",
       "  </tbody>\n",
       "</table>\n",
       "</div>"
      ],
      "text/plain": [
       "                neighborhood  sale_price_sqr_foot  housing_units  gross_rent\n",
       "year                                                                        \n",
       "2016          Telegraph Hill           903.049771         384242        4390\n",
       "2016              Twin Peaks           970.085470         384242        4390\n",
       "2016  Van Ness/ Civic Center           552.602567         384242        4390\n",
       "2016       Visitacion Valley           328.319007         384242        4390\n",
       "2016           Westwood Park           631.195426         384242        4390"
      ]
     },
     "metadata": {},
     "output_type": "display_data"
    }
   ],
   "source": [
    "# Using the read_csv function and Path module, create a DataFrame \n",
    "# by importing the sfo_neighborhoods_census_data.csv file from the Resources folder\n",
    "sfo_data_df = pd.read_csv(Path(\"Resources/sfo_neighborhoods_census_data.csv\"), index_col=\"year\")\n",
    "\n",
    "# Review the first and last five rows of the DataFrame\n",
    "display(sfo_data_df.head())\n",
    "display(sfo_data_df.tail())\n"
   ]
  },
  {
   "cell_type": "markdown",
   "metadata": {},
   "source": [
    "---"
   ]
  },
  {
   "cell_type": "markdown",
   "metadata": {},
   "source": [
    "## Calculate and Plot the Housing Units per Year\n",
    "\n",
    "For this part of the assignment, use numerical and visual aggregation to calculate the number of housing units per year, and then visualize the results as a bar chart. To do so, complete the following steps:\n",
    "\n",
    "1. Use the `groupby` function to group the data by year. Aggregate the results by the `mean` of the groups.\n",
    "\n",
    "2. Use the `hvplot` function to plot the `housing_units_by_year` DataFrame as a bar chart. Make the x-axis represent the `year` and the y-axis represent the `housing_units`.\n",
    "\n",
    "3. Style and format the line plot to ensure a professionally styled visualization.\n",
    "\n",
    "4. Note that your resulting plot should appear similar to the following image:\n",
    "\n",
    "![A screenshot depicts an example of the resulting bar chart.](Images/zoomed-housing-units-by-year.png)\n",
    "\n",
    "5. Answer the following question:\n",
    "\n",
    "    * What’s the overall trend in housing units over the period that you’re analyzing?\n",
    "\n"
   ]
  },
  {
   "cell_type": "markdown",
   "metadata": {},
   "source": [
    "### Step 1: Use the `groupby` function to group the data by year. Aggregate the results by the `mean` of the groups."
   ]
  },
  {
   "cell_type": "code",
   "execution_count": 26,
   "metadata": {},
   "outputs": [
    {
     "data": {
      "text/html": [
       "<div>\n",
       "<style scoped>\n",
       "    .dataframe tbody tr th:only-of-type {\n",
       "        vertical-align: middle;\n",
       "    }\n",
       "\n",
       "    .dataframe tbody tr th {\n",
       "        vertical-align: top;\n",
       "    }\n",
       "\n",
       "    .dataframe thead th {\n",
       "        text-align: right;\n",
       "    }\n",
       "</style>\n",
       "<table border=\"1\" class=\"dataframe\">\n",
       "  <thead>\n",
       "    <tr style=\"text-align: right;\">\n",
       "      <th></th>\n",
       "      <th>sale_price_sqr_foot</th>\n",
       "      <th>housing_units</th>\n",
       "      <th>gross_rent</th>\n",
       "    </tr>\n",
       "    <tr>\n",
       "      <th>year</th>\n",
       "      <th></th>\n",
       "      <th></th>\n",
       "      <th></th>\n",
       "    </tr>\n",
       "  </thead>\n",
       "  <tbody>\n",
       "    <tr>\n",
       "      <th>2010</th>\n",
       "      <td>369.344353</td>\n",
       "      <td>372560</td>\n",
       "      <td>1239</td>\n",
       "    </tr>\n",
       "    <tr>\n",
       "      <th>2011</th>\n",
       "      <td>341.903429</td>\n",
       "      <td>374507</td>\n",
       "      <td>1530</td>\n",
       "    </tr>\n",
       "    <tr>\n",
       "      <th>2012</th>\n",
       "      <td>399.389968</td>\n",
       "      <td>376454</td>\n",
       "      <td>2324</td>\n",
       "    </tr>\n",
       "    <tr>\n",
       "      <th>2013</th>\n",
       "      <td>483.600304</td>\n",
       "      <td>378401</td>\n",
       "      <td>2971</td>\n",
       "    </tr>\n",
       "    <tr>\n",
       "      <th>2014</th>\n",
       "      <td>556.277273</td>\n",
       "      <td>380348</td>\n",
       "      <td>3528</td>\n",
       "    </tr>\n",
       "    <tr>\n",
       "      <th>2015</th>\n",
       "      <td>632.540352</td>\n",
       "      <td>382295</td>\n",
       "      <td>3739</td>\n",
       "    </tr>\n",
       "    <tr>\n",
       "      <th>2016</th>\n",
       "      <td>697.643709</td>\n",
       "      <td>384242</td>\n",
       "      <td>4390</td>\n",
       "    </tr>\n",
       "  </tbody>\n",
       "</table>\n",
       "</div>"
      ],
      "text/plain": [
       "      sale_price_sqr_foot  housing_units  gross_rent\n",
       "year                                                \n",
       "2010           369.344353         372560        1239\n",
       "2011           341.903429         374507        1530\n",
       "2012           399.389968         376454        2324\n",
       "2013           483.600304         378401        2971\n",
       "2014           556.277273         380348        3528\n",
       "2015           632.540352         382295        3739\n",
       "2016           697.643709         384242        4390"
      ]
     },
     "metadata": {},
     "output_type": "display_data"
    },
    {
     "name": "stdout",
     "output_type": "stream",
     "text": [
      "During the period 2010-2016:\n",
      "Growth of housing units         : 3.14%\n",
      "Average Annual growth of housing: 0.52%\n"
     ]
    }
   ],
   "source": [
    "# Create a numerical aggregation that groups the data by the year and then averages the results.\n",
    "housing_units_by_year = sfo_data_df.groupby(\"year\").mean()\n",
    "\n",
    "growth_6y=housing_units_by_year[\"housing_units\"].pct_change(6).dropna()\n",
    "average_growth_1y=housing_units_by_year[\"housing_units\"].pct_change().dropna().mean()\n",
    "\n",
    "# Review the DataFrame\n",
    "display(housing_units_by_year)\n",
    "print(f\"During the period 2010-2016:\")\n",
    "print(f\"Growth of housing units         : {100*growth_6y.iloc[0]:.2f}%\" )\n",
    "print(f\"Average Annual growth of housing: {100*average_growth_1y:.2f}%\" )\n"
   ]
  },
  {
   "cell_type": "markdown",
   "metadata": {},
   "source": [
    "### Step 2: Use the `hvplot` function to plot the `housing_units_by_year` DataFrame as a bar chart. Make the x-axis represent the `year` and the y-axis represent the `housing_units`.\n",
    "\n",
    "### Step 3: Style and format the line plot to ensure a professionally styled visualization."
   ]
  },
  {
   "cell_type": "code",
   "execution_count": 60,
   "metadata": {},
   "outputs": [
    {
     "data": {},
     "metadata": {},
     "output_type": "display_data"
    },
    {
     "data": {
      "application/vnd.holoviews_exec.v0+json": "",
      "text/html": [
       "<div id='2606'>\n",
       "\n",
       "\n",
       "\n",
       "\n",
       "\n",
       "  <div class=\"bk-root\" id=\"3b3a39c3-c726-4141-a2aa-98adf7af6b1b\" data-root-id=\"2606\"></div>\n",
       "</div>\n",
       "<script type=\"application/javascript\">(function(root) {\n",
       "  function embed_document(root) {\n",
       "    var docs_json = {\"5a001951-5717-44fe-ba9f-2ee8f8d8de0e\":{\"defs\":[{\"extends\":null,\"module\":null,\"name\":\"ReactiveHTML1\",\"overrides\":[],\"properties\":[]},{\"extends\":null,\"module\":null,\"name\":\"FlexBox1\",\"overrides\":[],\"properties\":[{\"default\":\"flex-start\",\"kind\":null,\"name\":\"align_content\"},{\"default\":\"flex-start\",\"kind\":null,\"name\":\"align_items\"},{\"default\":\"row\",\"kind\":null,\"name\":\"flex_direction\"},{\"default\":\"wrap\",\"kind\":null,\"name\":\"flex_wrap\"},{\"default\":\"flex-start\",\"kind\":null,\"name\":\"justify_content\"}]},{\"extends\":null,\"module\":null,\"name\":\"TemplateActions1\",\"overrides\":[],\"properties\":[{\"default\":0,\"kind\":null,\"name\":\"open_modal\"},{\"default\":0,\"kind\":null,\"name\":\"close_modal\"}]},{\"extends\":null,\"module\":null,\"name\":\"MaterialTemplateActions1\",\"overrides\":[],\"properties\":[{\"default\":0,\"kind\":null,\"name\":\"open_modal\"},{\"default\":0,\"kind\":null,\"name\":\"close_modal\"}]}],\"roots\":{\"references\":[{\"attributes\":{\"text\":\"Housing Units in San Francisco By Year (in Thousands) -- Period 2010-2016\",\"text_color\":\"black\",\"text_font_size\":\"12pt\"},\"id\":\"2612\",\"type\":\"Title\"},{\"attributes\":{\"axis\":{\"id\":\"2620\"},\"grid_line_color\":null,\"ticker\":null},\"id\":\"2622\",\"type\":\"Grid\"},{\"attributes\":{\"bottom_units\":\"screen\",\"fill_alpha\":0.5,\"fill_color\":\"lightgrey\",\"left_units\":\"screen\",\"level\":\"overlay\",\"line_alpha\":1.0,\"line_color\":\"black\",\"line_dash\":[4,4],\"line_width\":2,\"right_units\":\"screen\",\"syncable\":false,\"top_units\":\"screen\"},\"id\":\"2632\",\"type\":\"BoxAnnotation\"},{\"attributes\":{\"fill_color\":{\"value\":\"pink\"},\"top\":{\"field\":\"housing_units\"},\"width\":{\"value\":0.8},\"x\":{\"field\":\"year\"}},\"id\":\"2643\",\"type\":\"VBar\"},{\"attributes\":{},\"id\":\"2618\",\"type\":\"LinearScale\"},{\"attributes\":{\"overlay\":{\"id\":\"2632\"}},\"id\":\"2630\",\"type\":\"BoxZoomTool\"},{\"attributes\":{},\"id\":\"2650\",\"type\":\"AllLabels\"},{\"attributes\":{},\"id\":\"2649\",\"type\":\"CategoricalTickFormatter\"},{\"attributes\":{},\"id\":\"2629\",\"type\":\"WheelZoomTool\"},{\"attributes\":{\"axis_label\":\"Year\",\"formatter\":{\"id\":\"2649\"},\"major_label_orientation\":1.5707963267948966,\"major_label_policy\":{\"id\":\"2650\"},\"ticker\":{\"id\":\"2621\"}},\"id\":\"2620\",\"type\":\"CategoricalAxis\"},{\"attributes\":{},\"id\":\"2631\",\"type\":\"ResetTool\"},{\"attributes\":{},\"id\":\"2621\",\"type\":\"CategoricalTicker\"},{\"attributes\":{},\"id\":\"2641\",\"type\":\"Selection\"},{\"attributes\":{\"end\":400,\"reset_end\":400,\"reset_start\":300,\"start\":300,\"tags\":[[[\"housing_units\",\"housing_units\",null]]]},\"id\":\"2609\",\"type\":\"Range1d\"},{\"attributes\":{},\"id\":\"2628\",\"type\":\"PanTool\"},{\"attributes\":{\"children\":[{\"id\":\"2607\"},{\"id\":\"2611\"},{\"id\":\"2675\"}],\"margin\":[0,0,0,0],\"name\":\"Row04589\",\"tags\":[\"embedded\"]},\"id\":\"2606\",\"type\":\"Row\"},{\"attributes\":{\"data_source\":{\"id\":\"2640\"},\"glyph\":{\"id\":\"2643\"},\"hover_glyph\":null,\"muted_glyph\":{\"id\":\"2645\"},\"nonselection_glyph\":{\"id\":\"2644\"},\"selection_glyph\":{\"id\":\"2648\"},\"view\":{\"id\":\"2647\"}},\"id\":\"2646\",\"type\":\"GlyphRenderer\"},{\"attributes\":{\"data\":{\"housing_units\":{\"__ndarray__\":\"KVyPwvVId0AnMQisHGh3QCUGgZVDh3dAI9v5fmqmd0AhsHJokcV3QB+F61G45HdAHVpkO98DeEA=\",\"dtype\":\"float64\",\"order\":\"little\",\"shape\":[7]},\"year\":[\"2010\",\"2011\",\"2012\",\"2013\",\"2014\",\"2015\",\"2016\"]},\"selected\":{\"id\":\"2641\"},\"selection_policy\":{\"id\":\"2662\"}},\"id\":\"2640\",\"type\":\"ColumnDataSource\"},{\"attributes\":{\"fill_alpha\":{\"value\":0.2},\"fill_color\":{\"value\":\"pink\"},\"line_alpha\":{\"value\":0.2},\"top\":{\"field\":\"housing_units\"},\"width\":{\"value\":0.8},\"x\":{\"field\":\"year\"}},\"id\":\"2645\",\"type\":\"VBar\"},{\"attributes\":{\"callback\":null,\"renderers\":[{\"id\":\"2646\"}],\"tags\":[\"hv_created\"],\"tooltips\":[[\"year\",\"@{year}\"],[\"housing_units\",\"@{housing_units}\"]]},\"id\":\"2610\",\"type\":\"HoverTool\"},{\"attributes\":{\"margin\":[5,5,5,5],\"name\":\"HSpacer04593\",\"sizing_mode\":\"stretch_width\"},\"id\":\"2607\",\"type\":\"Spacer\"},{\"attributes\":{\"axis_label\":\"Housing Units (Thousands)\",\"formatter\":{\"id\":\"2652\"},\"major_label_policy\":{\"id\":\"2654\"},\"ticker\":{\"id\":\"2624\"}},\"id\":\"2623\",\"type\":\"LinearAxis\"},{\"attributes\":{},\"id\":\"2627\",\"type\":\"SaveTool\"},{\"attributes\":{\"bottom\":{\"value\":0},\"fill_alpha\":{\"value\":1.0},\"fill_color\":{\"value\":\"pink\"},\"hatch_alpha\":{\"value\":1.0},\"hatch_color\":{\"value\":\"black\"},\"hatch_scale\":{\"value\":12.0},\"hatch_weight\":{\"value\":1.0},\"line_alpha\":{\"value\":1.0},\"line_cap\":{\"value\":\"butt\"},\"line_color\":{\"value\":\"black\"},\"line_dash\":{\"value\":[]},\"line_dash_offset\":{\"value\":0},\"line_join\":{\"value\":\"bevel\"},\"line_width\":{\"value\":1},\"top\":{\"field\":\"housing_units\"},\"width\":{\"value\":0.8},\"x\":{\"field\":\"year\"}},\"id\":\"2648\",\"type\":\"VBar\"},{\"attributes\":{\"active_multi\":null,\"tools\":[{\"id\":\"2610\"},{\"id\":\"2627\"},{\"id\":\"2628\"},{\"id\":\"2629\"},{\"id\":\"2630\"},{\"id\":\"2631\"}]},\"id\":\"2633\",\"type\":\"Toolbar\"},{\"attributes\":{\"below\":[{\"id\":\"2620\"}],\"center\":[{\"id\":\"2622\"},{\"id\":\"2626\"}],\"height\":300,\"left\":[{\"id\":\"2623\"}],\"margin\":[5,5,5,5],\"min_border_bottom\":10,\"min_border_left\":10,\"min_border_right\":10,\"min_border_top\":10,\"renderers\":[{\"id\":\"2646\"}],\"sizing_mode\":\"fixed\",\"title\":{\"id\":\"2612\"},\"toolbar\":{\"id\":\"2633\"},\"width\":700,\"x_range\":{\"id\":\"2608\"},\"x_scale\":{\"id\":\"2616\"},\"y_range\":{\"id\":\"2609\"},\"y_scale\":{\"id\":\"2618\"}},\"id\":\"2611\",\"subtype\":\"Figure\",\"type\":\"Plot\"},{\"attributes\":{},\"id\":\"2616\",\"type\":\"CategoricalScale\"},{\"attributes\":{},\"id\":\"2654\",\"type\":\"AllLabels\"},{\"attributes\":{\"axis\":{\"id\":\"2623\"},\"dimension\":1,\"grid_line_color\":null,\"ticker\":null},\"id\":\"2626\",\"type\":\"Grid\"},{\"attributes\":{\"source\":{\"id\":\"2640\"}},\"id\":\"2647\",\"type\":\"CDSView\"},{\"attributes\":{},\"id\":\"2652\",\"type\":\"BasicTickFormatter\"},{\"attributes\":{},\"id\":\"2624\",\"type\":\"BasicTicker\"},{\"attributes\":{\"factors\":[\"2010\",\"2011\",\"2012\",\"2013\",\"2014\",\"2015\",\"2016\"],\"tags\":[[[\"year\",\"year\",null]]]},\"id\":\"2608\",\"type\":\"FactorRange\"},{\"attributes\":{},\"id\":\"2662\",\"type\":\"UnionRenderers\"},{\"attributes\":{\"margin\":[5,5,5,5],\"name\":\"HSpacer04594\",\"sizing_mode\":\"stretch_width\"},\"id\":\"2675\",\"type\":\"Spacer\"},{\"attributes\":{\"fill_alpha\":{\"value\":0.1},\"fill_color\":{\"value\":\"pink\"},\"line_alpha\":{\"value\":0.1},\"top\":{\"field\":\"housing_units\"},\"width\":{\"value\":0.8},\"x\":{\"field\":\"year\"}},\"id\":\"2644\",\"type\":\"VBar\"}],\"root_ids\":[\"2606\"]},\"title\":\"Bokeh Application\",\"version\":\"2.3.2\"}};\n",
       "    var render_items = [{\"docid\":\"5a001951-5717-44fe-ba9f-2ee8f8d8de0e\",\"root_ids\":[\"2606\"],\"roots\":{\"2606\":\"3b3a39c3-c726-4141-a2aa-98adf7af6b1b\"}}];\n",
       "    root.Bokeh.embed.embed_items_notebook(docs_json, render_items);\n",
       "  }\n",
       "  if (root.Bokeh !== undefined && root.Bokeh.Panel !== undefined) {\n",
       "    embed_document(root);\n",
       "  } else {\n",
       "    var attempts = 0;\n",
       "    var timer = setInterval(function(root) {\n",
       "      if (root.Bokeh !== undefined && root.Bokeh.Panel !== undefined) {\n",
       "        clearInterval(timer);\n",
       "        embed_document(root);\n",
       "      } else if (document.readyState == \"complete\") {\n",
       "        attempts++;\n",
       "        if (attempts > 200) {\n",
       "          clearInterval(timer);\n",
       "          console.log(\"Bokeh: ERROR: Unable to run BokehJS code because BokehJS library is missing\");\n",
       "        }\n",
       "      }\n",
       "    }, 25, root)\n",
       "  }\n",
       "})(window);</script>"
      ],
      "text/plain": [
       ":Bars   [year]   (housing_units)"
      ]
     },
     "execution_count": 60,
     "metadata": {
      "application/vnd.holoviews_exec.v0+json": {
       "id": "2606"
      }
     },
     "output_type": "execute_result"
    }
   ],
   "source": [
    "# Create a visual aggregation explore the housing units by year\n",
    "thousands_of_housing_units_by_year=housing_units_by_year[\"housing_units\"]/1000\n",
    "\n",
    "thousands_of_housing_units_by_year.hvplot.bar(\n",
    "    rot=90\n",
    "    ,title=\"Housing Units in San Francisco By Year (in Thousands) -- Period 2010-2016\"\n",
    "    ,xlabel= 'Year'\n",
    "    ,ylabel='Housing Units (Thousands)'\n",
    "    ,ylim=[300,400]\n",
    ").opts(\n",
    "    color='pink'\n",
    ")\n"
   ]
  },
  {
   "cell_type": "markdown",
   "metadata": {},
   "source": [
    "### Step 5: Answer the following question:"
   ]
  },
  {
   "cell_type": "markdown",
   "metadata": {},
   "source": [
    "**Question** What is the overall trend in housing_units over the period being analyzed?\n",
    "\n",
    "**Answer** # The overall trend is flat, as can be seen in the plot. Development of new housing appear to be very limited. In 6 years, the increment of housing units in San Francisco is the only 3.14%. Annualy, the average increment of housing units is of only 0.52%. Clearly almost not new housing is available every year in the city. "
   ]
  },
  {
   "cell_type": "markdown",
   "metadata": {},
   "source": [
    "---"
   ]
  },
  {
   "cell_type": "markdown",
   "metadata": {},
   "source": [
    "## Calculate and Plot the Average Sale Prices per Square Foot\n",
    "\n",
    "For this part of the assignment, use numerical and visual aggregation to calculate the average prices per square foot, and then visualize the results as a bar chart. To do so, complete the following steps:\n",
    "\n",
    "1. Group the data by year, and then average the results. What’s the lowest gross rent that’s reported for the years that the DataFrame includes?\n",
    "\n",
    "2. Create a new DataFrame named `prices_square_foot_by_year` by filtering out the “housing_units” column. The new DataFrame should include the averages per year for only the sale price per square foot and the gross rent.\n",
    "\n",
    "3. Use hvPlot to plot the `prices_square_foot_by_year` DataFrame as a line plot.\n",
    "\n",
    "    > **Hint** This single plot will include lines for both `sale_price_sqr_foot` and `gross_rent`.\n",
    "\n",
    "4. Style and format the line plot to ensure a professionally styled visualization.\n",
    "\n",
    "5. Note that your resulting plot should appear similar to the following image:\n",
    "\n",
    "![A screenshot depicts an example of the resulting plot.](Images/avg-sale-px-sq-foot-gross-rent.png)\n",
    "\n",
    "6. Use both the `prices_square_foot_by_year` DataFrame and interactive plots to answer the following questions:\n",
    "\n",
    "    * Did any year experience a drop in the average sale price per square foot compared to the previous year?\n",
    "\n",
    "    * If so, did the gross rent increase or decrease during that year?\n",
    "\n"
   ]
  },
  {
   "cell_type": "markdown",
   "metadata": {},
   "source": [
    "### Step 1: Group the data by year, and then average the results."
   ]
  },
  {
   "cell_type": "code",
   "execution_count": 33,
   "metadata": {},
   "outputs": [
    {
     "data": {
      "text/html": [
       "<div>\n",
       "<style scoped>\n",
       "    .dataframe tbody tr th:only-of-type {\n",
       "        vertical-align: middle;\n",
       "    }\n",
       "\n",
       "    .dataframe tbody tr th {\n",
       "        vertical-align: top;\n",
       "    }\n",
       "\n",
       "    .dataframe thead th {\n",
       "        text-align: right;\n",
       "    }\n",
       "</style>\n",
       "<table border=\"1\" class=\"dataframe\">\n",
       "  <thead>\n",
       "    <tr style=\"text-align: right;\">\n",
       "      <th></th>\n",
       "      <th>sale_price_sqr_foot</th>\n",
       "      <th>housing_units</th>\n",
       "      <th>gross_rent</th>\n",
       "    </tr>\n",
       "    <tr>\n",
       "      <th>year</th>\n",
       "      <th></th>\n",
       "      <th></th>\n",
       "      <th></th>\n",
       "    </tr>\n",
       "  </thead>\n",
       "  <tbody>\n",
       "    <tr>\n",
       "      <th>2010</th>\n",
       "      <td>369.344353</td>\n",
       "      <td>372560</td>\n",
       "      <td>1239</td>\n",
       "    </tr>\n",
       "    <tr>\n",
       "      <th>2011</th>\n",
       "      <td>341.903429</td>\n",
       "      <td>374507</td>\n",
       "      <td>1530</td>\n",
       "    </tr>\n",
       "    <tr>\n",
       "      <th>2012</th>\n",
       "      <td>399.389968</td>\n",
       "      <td>376454</td>\n",
       "      <td>2324</td>\n",
       "    </tr>\n",
       "    <tr>\n",
       "      <th>2013</th>\n",
       "      <td>483.600304</td>\n",
       "      <td>378401</td>\n",
       "      <td>2971</td>\n",
       "    </tr>\n",
       "    <tr>\n",
       "      <th>2014</th>\n",
       "      <td>556.277273</td>\n",
       "      <td>380348</td>\n",
       "      <td>3528</td>\n",
       "    </tr>\n",
       "    <tr>\n",
       "      <th>2015</th>\n",
       "      <td>632.540352</td>\n",
       "      <td>382295</td>\n",
       "      <td>3739</td>\n",
       "    </tr>\n",
       "    <tr>\n",
       "      <th>2016</th>\n",
       "      <td>697.643709</td>\n",
       "      <td>384242</td>\n",
       "      <td>4390</td>\n",
       "    </tr>\n",
       "  </tbody>\n",
       "</table>\n",
       "</div>"
      ],
      "text/plain": [
       "      sale_price_sqr_foot  housing_units  gross_rent\n",
       "year                                                \n",
       "2010           369.344353         372560        1239\n",
       "2011           341.903429         374507        1530\n",
       "2012           399.389968         376454        2324\n",
       "2013           483.600304         378401        2971\n",
       "2014           556.277273         380348        3528\n",
       "2015           632.540352         382295        3739\n",
       "2016           697.643709         384242        4390"
      ]
     },
     "execution_count": 33,
     "metadata": {},
     "output_type": "execute_result"
    }
   ],
   "source": [
    "# Create a numerical aggregation by grouping the data by year and averaging the results\n",
    "prices_square_foot_by_year = sfo_data_df.groupby(\"year\").mean()\n",
    "\n",
    "# Review the resulting DataFrame\n",
    "prices_square_foot_by_year"
   ]
  },
  {
   "cell_type": "code",
   "execution_count": 34,
   "metadata": {},
   "outputs": [
    {
     "data": {
      "text/html": [
       "<div>\n",
       "<style scoped>\n",
       "    .dataframe tbody tr th:only-of-type {\n",
       "        vertical-align: middle;\n",
       "    }\n",
       "\n",
       "    .dataframe tbody tr th {\n",
       "        vertical-align: top;\n",
       "    }\n",
       "\n",
       "    .dataframe thead tr th {\n",
       "        text-align: left;\n",
       "    }\n",
       "\n",
       "    .dataframe thead tr:last-of-type th {\n",
       "        text-align: right;\n",
       "    }\n",
       "</style>\n",
       "<table border=\"1\" class=\"dataframe\">\n",
       "  <thead>\n",
       "    <tr>\n",
       "      <th></th>\n",
       "      <th colspan=\"8\" halign=\"left\">gross_rent</th>\n",
       "    </tr>\n",
       "    <tr>\n",
       "      <th></th>\n",
       "      <th>count</th>\n",
       "      <th>mean</th>\n",
       "      <th>std</th>\n",
       "      <th>min</th>\n",
       "      <th>25%</th>\n",
       "      <th>50%</th>\n",
       "      <th>75%</th>\n",
       "      <th>max</th>\n",
       "    </tr>\n",
       "    <tr>\n",
       "      <th>year</th>\n",
       "      <th></th>\n",
       "      <th></th>\n",
       "      <th></th>\n",
       "      <th></th>\n",
       "      <th></th>\n",
       "      <th></th>\n",
       "      <th></th>\n",
       "      <th></th>\n",
       "    </tr>\n",
       "  </thead>\n",
       "  <tbody>\n",
       "    <tr>\n",
       "      <th>2010</th>\n",
       "      <td>59.0</td>\n",
       "      <td>1239.0</td>\n",
       "      <td>0.0</td>\n",
       "      <td>1239.0</td>\n",
       "      <td>1239.0</td>\n",
       "      <td>1239.0</td>\n",
       "      <td>1239.0</td>\n",
       "      <td>1239.0</td>\n",
       "    </tr>\n",
       "    <tr>\n",
       "      <th>2011</th>\n",
       "      <td>59.0</td>\n",
       "      <td>1530.0</td>\n",
       "      <td>0.0</td>\n",
       "      <td>1530.0</td>\n",
       "      <td>1530.0</td>\n",
       "      <td>1530.0</td>\n",
       "      <td>1530.0</td>\n",
       "      <td>1530.0</td>\n",
       "    </tr>\n",
       "    <tr>\n",
       "      <th>2012</th>\n",
       "      <td>58.0</td>\n",
       "      <td>2324.0</td>\n",
       "      <td>0.0</td>\n",
       "      <td>2324.0</td>\n",
       "      <td>2324.0</td>\n",
       "      <td>2324.0</td>\n",
       "      <td>2324.0</td>\n",
       "      <td>2324.0</td>\n",
       "    </tr>\n",
       "    <tr>\n",
       "      <th>2013</th>\n",
       "      <td>57.0</td>\n",
       "      <td>2971.0</td>\n",
       "      <td>0.0</td>\n",
       "      <td>2971.0</td>\n",
       "      <td>2971.0</td>\n",
       "      <td>2971.0</td>\n",
       "      <td>2971.0</td>\n",
       "      <td>2971.0</td>\n",
       "    </tr>\n",
       "    <tr>\n",
       "      <th>2014</th>\n",
       "      <td>60.0</td>\n",
       "      <td>3528.0</td>\n",
       "      <td>0.0</td>\n",
       "      <td>3528.0</td>\n",
       "      <td>3528.0</td>\n",
       "      <td>3528.0</td>\n",
       "      <td>3528.0</td>\n",
       "      <td>3528.0</td>\n",
       "    </tr>\n",
       "    <tr>\n",
       "      <th>2015</th>\n",
       "      <td>58.0</td>\n",
       "      <td>3739.0</td>\n",
       "      <td>0.0</td>\n",
       "      <td>3739.0</td>\n",
       "      <td>3739.0</td>\n",
       "      <td>3739.0</td>\n",
       "      <td>3739.0</td>\n",
       "      <td>3739.0</td>\n",
       "    </tr>\n",
       "    <tr>\n",
       "      <th>2016</th>\n",
       "      <td>46.0</td>\n",
       "      <td>4390.0</td>\n",
       "      <td>0.0</td>\n",
       "      <td>4390.0</td>\n",
       "      <td>4390.0</td>\n",
       "      <td>4390.0</td>\n",
       "      <td>4390.0</td>\n",
       "      <td>4390.0</td>\n",
       "    </tr>\n",
       "  </tbody>\n",
       "</table>\n",
       "</div>"
      ],
      "text/plain": [
       "     gross_rent                                                     \n",
       "          count    mean  std     min     25%     50%     75%     max\n",
       "year                                                                \n",
       "2010       59.0  1239.0  0.0  1239.0  1239.0  1239.0  1239.0  1239.0\n",
       "2011       59.0  1530.0  0.0  1530.0  1530.0  1530.0  1530.0  1530.0\n",
       "2012       58.0  2324.0  0.0  2324.0  2324.0  2324.0  2324.0  2324.0\n",
       "2013       57.0  2971.0  0.0  2971.0  2971.0  2971.0  2971.0  2971.0\n",
       "2014       60.0  3528.0  0.0  3528.0  3528.0  3528.0  3528.0  3528.0\n",
       "2015       58.0  3739.0  0.0  3739.0  3739.0  3739.0  3739.0  3739.0\n",
       "2016       46.0  4390.0  0.0  4390.0  4390.0  4390.0  4390.0  4390.0"
      ]
     },
     "execution_count": 34,
     "metadata": {},
     "output_type": "execute_result"
    }
   ],
   "source": [
    "#OBS: there is no standard deviation among years for the gross_rent. \n",
    "# That means, the value presented in the data corresponds to an average.\n",
    "sfo_data_df[[\"gross_rent\"]].groupby(\"year\").describe()"
   ]
  },
  {
   "cell_type": "markdown",
   "metadata": {},
   "source": [
    "**Question** What is the lowest gross rent reported for the years included in the DataFrame?\n",
    "\n",
    "**Answer** # The lowest monthly gross rent value is $1,239, and occur in the year 2010."
   ]
  },
  {
   "cell_type": "markdown",
   "metadata": {},
   "source": [
    "### Step 2: Create a new DataFrame named `prices_square_foot_by_year` by filtering out the “housing_units” column. The new DataFrame should include the averages per year for only the sale price per square foot and the gross rent."
   ]
  },
  {
   "cell_type": "code",
   "execution_count": 35,
   "metadata": {},
   "outputs": [
    {
     "data": {
      "text/html": [
       "<div>\n",
       "<style scoped>\n",
       "    .dataframe tbody tr th:only-of-type {\n",
       "        vertical-align: middle;\n",
       "    }\n",
       "\n",
       "    .dataframe tbody tr th {\n",
       "        vertical-align: top;\n",
       "    }\n",
       "\n",
       "    .dataframe thead th {\n",
       "        text-align: right;\n",
       "    }\n",
       "</style>\n",
       "<table border=\"1\" class=\"dataframe\">\n",
       "  <thead>\n",
       "    <tr style=\"text-align: right;\">\n",
       "      <th></th>\n",
       "      <th>sale_price_sqr_foot</th>\n",
       "      <th>gross_rent</th>\n",
       "    </tr>\n",
       "    <tr>\n",
       "      <th>year</th>\n",
       "      <th></th>\n",
       "      <th></th>\n",
       "    </tr>\n",
       "  </thead>\n",
       "  <tbody>\n",
       "    <tr>\n",
       "      <th>2010</th>\n",
       "      <td>369.344353</td>\n",
       "      <td>1239</td>\n",
       "    </tr>\n",
       "    <tr>\n",
       "      <th>2011</th>\n",
       "      <td>341.903429</td>\n",
       "      <td>1530</td>\n",
       "    </tr>\n",
       "    <tr>\n",
       "      <th>2012</th>\n",
       "      <td>399.389968</td>\n",
       "      <td>2324</td>\n",
       "    </tr>\n",
       "    <tr>\n",
       "      <th>2013</th>\n",
       "      <td>483.600304</td>\n",
       "      <td>2971</td>\n",
       "    </tr>\n",
       "    <tr>\n",
       "      <th>2014</th>\n",
       "      <td>556.277273</td>\n",
       "      <td>3528</td>\n",
       "    </tr>\n",
       "    <tr>\n",
       "      <th>2015</th>\n",
       "      <td>632.540352</td>\n",
       "      <td>3739</td>\n",
       "    </tr>\n",
       "    <tr>\n",
       "      <th>2016</th>\n",
       "      <td>697.643709</td>\n",
       "      <td>4390</td>\n",
       "    </tr>\n",
       "  </tbody>\n",
       "</table>\n",
       "</div>"
      ],
      "text/plain": [
       "      sale_price_sqr_foot  gross_rent\n",
       "year                                 \n",
       "2010           369.344353        1239\n",
       "2011           341.903429        1530\n",
       "2012           399.389968        2324\n",
       "2013           483.600304        2971\n",
       "2014           556.277273        3528\n",
       "2015           632.540352        3739\n",
       "2016           697.643709        4390"
      ]
     },
     "execution_count": 35,
     "metadata": {},
     "output_type": "execute_result"
    }
   ],
   "source": [
    "# Filter out the housing_units column, creating a new DataFrame \n",
    "# Keep only sale_price_sqr_foot and gross_rent averages per year\n",
    "prices_square_foot_by_year = sfo_data_df.groupby(\"year\").mean()[[\"sale_price_sqr_foot\",\"gross_rent\"]]\n",
    "\n",
    "# Review the DataFrame\n",
    "prices_square_foot_by_year\n"
   ]
  },
  {
   "cell_type": "code",
   "execution_count": 134,
   "metadata": {},
   "outputs": [
    {
     "data": {
      "text/html": [
       "<div>\n",
       "<style scoped>\n",
       "    .dataframe tbody tr th:only-of-type {\n",
       "        vertical-align: middle;\n",
       "    }\n",
       "\n",
       "    .dataframe tbody tr th {\n",
       "        vertical-align: top;\n",
       "    }\n",
       "\n",
       "    .dataframe thead th {\n",
       "        text-align: right;\n",
       "    }\n",
       "</style>\n",
       "<table border=\"1\" class=\"dataframe\">\n",
       "  <thead>\n",
       "    <tr style=\"text-align: right;\">\n",
       "      <th></th>\n",
       "      <th>Annual_change_sale_price_sqr_foot(%)</th>\n",
       "      <th>Annual_change_gross_rent(%)</th>\n",
       "    </tr>\n",
       "    <tr>\n",
       "      <th>year</th>\n",
       "      <th></th>\n",
       "      <th></th>\n",
       "    </tr>\n",
       "  </thead>\n",
       "  <tbody>\n",
       "    <tr>\n",
       "      <th>2011</th>\n",
       "      <td>-7.4</td>\n",
       "      <td>23.5</td>\n",
       "    </tr>\n",
       "    <tr>\n",
       "      <th>2012</th>\n",
       "      <td>16.8</td>\n",
       "      <td>51.9</td>\n",
       "    </tr>\n",
       "    <tr>\n",
       "      <th>2013</th>\n",
       "      <td>21.1</td>\n",
       "      <td>27.8</td>\n",
       "    </tr>\n",
       "    <tr>\n",
       "      <th>2014</th>\n",
       "      <td>15.0</td>\n",
       "      <td>18.7</td>\n",
       "    </tr>\n",
       "    <tr>\n",
       "      <th>2015</th>\n",
       "      <td>13.7</td>\n",
       "      <td>6.0</td>\n",
       "    </tr>\n",
       "    <tr>\n",
       "      <th>2016</th>\n",
       "      <td>10.3</td>\n",
       "      <td>17.4</td>\n",
       "    </tr>\n",
       "  </tbody>\n",
       "</table>\n",
       "</div>"
      ],
      "text/plain": [
       "      Annual_change_sale_price_sqr_foot(%)  Annual_change_gross_rent(%)\n",
       "year                                                                   \n",
       "2011                                  -7.4                         23.5\n",
       "2012                                  16.8                         51.9\n",
       "2013                                  21.1                         27.8\n",
       "2014                                  15.0                         18.7\n",
       "2015                                  13.7                          6.0\n",
       "2016                                  10.3                         17.4"
      ]
     },
     "execution_count": 134,
     "metadata": {},
     "output_type": "execute_result"
    }
   ],
   "source": [
    "# Changes in sale_price_sqr_foot & gross_rent\n",
    "sale_price_and_rent_annual_changes=prices_square_foot_by_year.pct_change().dropna()\n",
    "sale_price_and_rent_annual_changes=sale_price_and_rent_annual_changes.add_prefix(\"Annual_change_\").add_suffix(\"(%)\")\n",
    "round(sale_price_and_rent_annual_changes*100,1)"
   ]
  },
  {
   "cell_type": "code",
   "execution_count": 149,
   "metadata": {},
   "outputs": [
    {
     "data": {},
     "metadata": {},
     "output_type": "display_data"
    },
    {
     "data": {
      "application/vnd.holoviews_exec.v0+json": "",
      "text/html": [
       "<div id='10333'>\n",
       "\n",
       "\n",
       "\n",
       "\n",
       "\n",
       "  <div class=\"bk-root\" id=\"43543ad7-1a58-4dd3-90cc-57e45c5bc164\" data-root-id=\"10333\"></div>\n",
       "</div>\n",
       "<script type=\"application/javascript\">(function(root) {\n",
       "  function embed_document(root) {\n",
       "    var docs_json = {\"f00a0d49-dee6-41a2-8613-58eae1254970\":{\"defs\":[{\"extends\":null,\"module\":null,\"name\":\"ReactiveHTML1\",\"overrides\":[],\"properties\":[]},{\"extends\":null,\"module\":null,\"name\":\"FlexBox1\",\"overrides\":[],\"properties\":[{\"default\":\"flex-start\",\"kind\":null,\"name\":\"align_content\"},{\"default\":\"flex-start\",\"kind\":null,\"name\":\"align_items\"},{\"default\":\"row\",\"kind\":null,\"name\":\"flex_direction\"},{\"default\":\"wrap\",\"kind\":null,\"name\":\"flex_wrap\"},{\"default\":\"flex-start\",\"kind\":null,\"name\":\"justify_content\"}]},{\"extends\":null,\"module\":null,\"name\":\"TemplateActions1\",\"overrides\":[],\"properties\":[{\"default\":0,\"kind\":null,\"name\":\"open_modal\"},{\"default\":0,\"kind\":null,\"name\":\"close_modal\"}]},{\"extends\":null,\"module\":null,\"name\":\"MaterialTemplateActions1\",\"overrides\":[],\"properties\":[{\"default\":0,\"kind\":null,\"name\":\"open_modal\"},{\"default\":0,\"kind\":null,\"name\":\"close_modal\"}]}],\"roots\":{\"references\":[{\"attributes\":{},\"id\":\"10345\",\"type\":\"CategoricalScale\"},{\"attributes\":{},\"id\":\"10348\",\"type\":\"BasicTicker\"},{\"attributes\":{\"axis\":{\"id\":\"10351\"},\"dimension\":1,\"grid_line_color\":null,\"ticker\":null},\"id\":\"10353\",\"type\":\"Grid\"},{\"attributes\":{\"data\":{\"Variable\":[\"Annual_change_sale_price_sqr_foot(%)\",\"Annual_change_sale_price_sqr_foot(%)\",\"Annual_change_sale_price_sqr_foot(%)\",\"Annual_change_sale_price_sqr_foot(%)\",\"Annual_change_sale_price_sqr_foot(%)\",\"Annual_change_sale_price_sqr_foot(%)\",\"Annual_change_gross_rent(%)\",\"Annual_change_gross_rent(%)\",\"Annual_change_gross_rent(%)\",\"Annual_change_gross_rent(%)\",\"Annual_change_gross_rent(%)\",\"Annual_change_gross_rent(%)\"],\"value\":{\"__ndarray__\":\"BJIDTfG3HcDW+NsnTdAwQByerIKxFTVAFg0TF38OLkDcPgxgSWsrQAx4esSwlSRAtPaaPpd8N0BHnfJHnfJJQE3RYboF1ztAMU9LIna/MkB1jH5WQ+wXQN3Cxgs8aTFA\",\"dtype\":\"float64\",\"order\":\"little\",\"shape\":[12]},\"xoffsets\":[[\"2011\",\"Annual_change_sale_price_sqr_foot(%)\"],[\"2012\",\"Annual_change_sale_price_sqr_foot(%)\"],[\"2013\",\"Annual_change_sale_price_sqr_foot(%)\"],[\"2014\",\"Annual_change_sale_price_sqr_foot(%)\"],[\"2015\",\"Annual_change_sale_price_sqr_foot(%)\"],[\"2016\",\"Annual_change_sale_price_sqr_foot(%)\"],[\"2011\",\"Annual_change_gross_rent(%)\"],[\"2012\",\"Annual_change_gross_rent(%)\"],[\"2013\",\"Annual_change_gross_rent(%)\"],[\"2014\",\"Annual_change_gross_rent(%)\"],[\"2015\",\"Annual_change_gross_rent(%)\"],[\"2016\",\"Annual_change_gross_rent(%)\"]],\"year\":[\"2011\",\"2012\",\"2013\",\"2014\",\"2015\",\"2016\",\"2011\",\"2012\",\"2013\",\"2014\",\"2015\",\"2016\"]},\"selected\":{\"id\":\"10369\"},\"selection_policy\":{\"id\":\"10390\"}},\"id\":\"10368\",\"type\":\"ColumnDataSource\"},{\"attributes\":{\"overlay\":{\"id\":\"10359\"}},\"id\":\"10357\",\"type\":\"BoxZoomTool\"},{\"attributes\":{\"text\":\"Change in Sale Price Per Sqr Foot Growth and Rent Growth in San Francisco 2011-2016\",\"text_color\":\"black\",\"text_font_size\":\"12pt\"},\"id\":\"10339\",\"type\":\"Title\"},{\"attributes\":{\"axis\":{\"id\":\"10347\"},\"grid_line_color\":null,\"ticker\":null},\"id\":\"10350\",\"type\":\"Grid\"},{\"attributes\":{},\"id\":\"10390\",\"type\":\"UnionRenderers\"},{\"attributes\":{\"fill_color\":{\"field\":\"Variable\",\"transform\":{\"id\":\"10367\"}},\"height\":{\"value\":0.8},\"right\":{\"field\":\"value\"},\"y\":{\"field\":\"xoffsets\"}},\"id\":\"10371\",\"type\":\"HBar\"},{\"attributes\":{\"margin\":[5,5,5,5],\"name\":\"HSpacer18870\",\"sizing_mode\":\"stretch_width\"},\"id\":\"10403\",\"type\":\"Spacer\"},{\"attributes\":{},\"id\":\"10352\",\"type\":\"CategoricalTicker\"},{\"attributes\":{\"axis_label\":\"Year\",\"formatter\":{\"id\":\"10380\"},\"major_label_policy\":{\"id\":\"10381\"},\"ticker\":{\"id\":\"10352\"}},\"id\":\"10351\",\"type\":\"CategoricalAxis\"},{\"attributes\":{\"fill_alpha\":{\"value\":0.1},\"fill_color\":{\"field\":\"Variable\",\"transform\":{\"id\":\"10367\"}},\"height\":{\"value\":0.8},\"line_alpha\":{\"value\":0.1},\"right\":{\"field\":\"value\"},\"y\":{\"field\":\"xoffsets\"}},\"id\":\"10372\",\"type\":\"HBar\"},{\"attributes\":{\"bottom_units\":\"screen\",\"fill_alpha\":0.5,\"fill_color\":\"lightgrey\",\"left_units\":\"screen\",\"level\":\"overlay\",\"line_alpha\":1.0,\"line_color\":\"black\",\"line_dash\":[4,4],\"line_width\":2,\"right_units\":\"screen\",\"syncable\":false,\"top_units\":\"screen\"},\"id\":\"10359\",\"type\":\"BoxAnnotation\"},{\"attributes\":{\"factors\":[\"Annual_change_sale_price_sqr_foot(%)\",\"Annual_change_gross_rent(%)\"],\"palette\":[\"#30a2da\",\"#fc4f30\"]},\"id\":\"10367\",\"type\":\"CategoricalColorMapper\"},{\"attributes\":{\"data_source\":{\"id\":\"10368\"},\"glyph\":{\"id\":\"10371\"},\"hover_glyph\":null,\"muted_glyph\":{\"id\":\"10373\"},\"nonselection_glyph\":{\"id\":\"10372\"},\"selection_glyph\":{\"id\":\"10376\"},\"view\":{\"id\":\"10375\"}},\"id\":\"10374\",\"type\":\"GlyphRenderer\"},{\"attributes\":{},\"id\":\"10377\",\"type\":\"BasicTickFormatter\"},{\"attributes\":{},\"id\":\"10343\",\"type\":\"LinearScale\"},{\"attributes\":{},\"id\":\"10380\",\"type\":\"CategoricalTickFormatter\"},{\"attributes\":{\"end\":57.82793046297526,\"reset_end\":57.82793046297526,\"reset_start\":-13.362137053512207,\"start\":-13.362137053512207,\"tags\":[[[\"value\",\"value\",null]]]},\"id\":\"10335\",\"type\":\"Range1d\"},{\"attributes\":{\"source\":{\"id\":\"10368\"}},\"id\":\"10375\",\"type\":\"CDSView\"},{\"attributes\":{\"factors\":[[\"2011\",\"Annual_change_gross_rent(%)\"],[\"2011\",\"Annual_change_sale_price_sqr_foot(%)\"],[\"2012\",\"Annual_change_gross_rent(%)\"],[\"2012\",\"Annual_change_sale_price_sqr_foot(%)\"],[\"2013\",\"Annual_change_gross_rent(%)\"],[\"2013\",\"Annual_change_sale_price_sqr_foot(%)\"],[\"2014\",\"Annual_change_gross_rent(%)\"],[\"2014\",\"Annual_change_sale_price_sqr_foot(%)\"],[\"2015\",\"Annual_change_gross_rent(%)\"],[\"2015\",\"Annual_change_sale_price_sqr_foot(%)\"],[\"2016\",\"Annual_change_gross_rent(%)\"],[\"2016\",\"Annual_change_sale_price_sqr_foot(%)\"]],\"tags\":[[[\"year\",\"year\",null],[\"Variable\",\"Variable\",null]]]},\"id\":\"10336\",\"type\":\"FactorRange\"},{\"attributes\":{},\"id\":\"10379\",\"type\":\"AllLabels\"},{\"attributes\":{},\"id\":\"10354\",\"type\":\"SaveTool\"},{\"attributes\":{},\"id\":\"10356\",\"type\":\"WheelZoomTool\"},{\"attributes\":{\"margin\":[5,5,5,5],\"name\":\"HSpacer18869\",\"sizing_mode\":\"stretch_width\"},\"id\":\"10334\",\"type\":\"Spacer\"},{\"attributes\":{},\"id\":\"10355\",\"type\":\"PanTool\"},{\"attributes\":{},\"id\":\"10369\",\"type\":\"Selection\"},{\"attributes\":{},\"id\":\"10381\",\"type\":\"AllLabels\"},{\"attributes\":{\"children\":[{\"id\":\"10334\"},{\"id\":\"10338\"},{\"id\":\"10403\"}],\"margin\":[0,0,0,0],\"name\":\"Row18865\",\"tags\":[\"embedded\"]},\"id\":\"10333\",\"type\":\"Row\"},{\"attributes\":{\"active_multi\":null,\"tools\":[{\"id\":\"10337\"},{\"id\":\"10354\"},{\"id\":\"10355\"},{\"id\":\"10356\"},{\"id\":\"10357\"},{\"id\":\"10358\"}]},\"id\":\"10360\",\"type\":\"Toolbar\"},{\"attributes\":{\"callback\":null,\"renderers\":[{\"id\":\"10374\"}],\"tags\":[\"hv_created\"],\"tooltips\":[[\"year\",\"@{year}\"],[\"Variable\",\"@{Variable}\"],[\"value\",\"@{value}\"]]},\"id\":\"10337\",\"type\":\"HoverTool\"},{\"attributes\":{\"fill_alpha\":{\"value\":0.2},\"fill_color\":{\"field\":\"Variable\",\"transform\":{\"id\":\"10367\"}},\"height\":{\"value\":0.8},\"line_alpha\":{\"value\":0.2},\"right\":{\"field\":\"value\"},\"y\":{\"field\":\"xoffsets\"}},\"id\":\"10373\",\"type\":\"HBar\"},{\"attributes\":{\"below\":[{\"id\":\"10347\"}],\"center\":[{\"id\":\"10350\"},{\"id\":\"10353\"}],\"left\":[{\"id\":\"10351\"}],\"margin\":[5,5,5,5],\"min_border_bottom\":10,\"min_border_left\":10,\"min_border_right\":10,\"min_border_top\":10,\"renderers\":[{\"id\":\"10374\"}],\"sizing_mode\":\"fixed\",\"title\":{\"id\":\"10339\"},\"toolbar\":{\"id\":\"10360\"},\"width\":1000,\"x_range\":{\"id\":\"10335\"},\"x_scale\":{\"id\":\"10343\"},\"y_range\":{\"id\":\"10336\"},\"y_scale\":{\"id\":\"10345\"}},\"id\":\"10338\",\"subtype\":\"Figure\",\"type\":\"Plot\"},{\"attributes\":{\"fill_alpha\":{\"value\":1.0},\"fill_color\":{\"field\":\"Variable\",\"transform\":{\"id\":\"10367\"}},\"hatch_alpha\":{\"value\":1.0},\"hatch_color\":{\"value\":\"black\"},\"hatch_scale\":{\"value\":12.0},\"hatch_weight\":{\"value\":1.0},\"height\":{\"value\":0.8},\"left\":{\"value\":0},\"line_alpha\":{\"value\":1.0},\"line_cap\":{\"value\":\"butt\"},\"line_color\":{\"value\":\"black\"},\"line_dash\":{\"value\":[]},\"line_dash_offset\":{\"value\":0},\"line_join\":{\"value\":\"bevel\"},\"line_width\":{\"value\":1},\"right\":{\"field\":\"value\"},\"y\":{\"field\":\"xoffsets\"}},\"id\":\"10376\",\"type\":\"HBar\"},{\"attributes\":{},\"id\":\"10358\",\"type\":\"ResetTool\"},{\"attributes\":{\"axis_label\":\"Sale Price per Square Feet Change \\n and Gross Rent Change \\n per Year (%)\",\"formatter\":{\"id\":\"10377\"},\"major_label_orientation\":0.7853981633974483,\"major_label_policy\":{\"id\":\"10379\"},\"ticker\":{\"id\":\"10348\"}},\"id\":\"10347\",\"type\":\"LinearAxis\"}],\"root_ids\":[\"10333\"]},\"title\":\"Bokeh Application\",\"version\":\"2.3.2\"}};\n",
       "    var render_items = [{\"docid\":\"f00a0d49-dee6-41a2-8613-58eae1254970\",\"root_ids\":[\"10333\"],\"roots\":{\"10333\":\"43543ad7-1a58-4dd3-90cc-57e45c5bc164\"}}];\n",
       "    root.Bokeh.embed.embed_items_notebook(docs_json, render_items);\n",
       "  }\n",
       "  if (root.Bokeh !== undefined && root.Bokeh.Panel !== undefined) {\n",
       "    embed_document(root);\n",
       "  } else {\n",
       "    var attempts = 0;\n",
       "    var timer = setInterval(function(root) {\n",
       "      if (root.Bokeh !== undefined && root.Bokeh.Panel !== undefined) {\n",
       "        clearInterval(timer);\n",
       "        embed_document(root);\n",
       "      } else if (document.readyState == \"complete\") {\n",
       "        attempts++;\n",
       "        if (attempts > 200) {\n",
       "          clearInterval(timer);\n",
       "          console.log(\"Bokeh: ERROR: Unable to run BokehJS code because BokehJS library is missing\");\n",
       "        }\n",
       "      }\n",
       "    }, 25, root)\n",
       "  }\n",
       "})(window);</script>"
      ],
      "text/plain": [
       ":Bars   [year,Variable]   (value)"
      ]
     },
     "execution_count": 149,
     "metadata": {
      "application/vnd.holoviews_exec.v0+json": {
       "id": "10333"
      }
     },
     "output_type": "execute_result"
    }
   ],
   "source": [
    "# Trend in income growth and sale price per sqr foot growth\n",
    "(sale_price_and_rent_annual_changes*100).hvplot(\n",
    "    kind=\"barh\"\n",
    "    ,title= \"Change in Sale Price Per Sqr Foot Growth and Rent Growth in San Francisco 2011-2016\"\n",
    "    ,ylabel= \"Sale Price per Square Feet Change \\n and Gross Rent Change \\n per Year (%)\"\n",
    "    ,xlabel=\"Year\"\n",
    "    ,legend='top_right'\n",
    "    ,stacked=False\n",
    "    ,rot=45\n",
    "    ,width=1000\n",
    "    ,height=600\n",
    "\n",
    ")\n"
   ]
  },
  {
   "cell_type": "markdown",
   "metadata": {},
   "source": [
    "We can see than since 2012, consistently, the real estate market have had an appreciation in the price of properties as well as on the rent. If this trends remains, it would imply that it is a good business to buy a house, and rent it. You would expect future gains for the rent itself, as well as for the appreciation of the house when you decide to sell\n",
    "the property."
   ]
  },
  {
   "cell_type": "markdown",
   "metadata": {},
   "source": [
    "### Step 3: Use hvPlot to plot the `prices_square_foot_by_year` DataFrame as a line plot.\n",
    "\n",
    "> **Hint** This single plot will include lines for both `sale_price_sqr_foot` and `gross_rent`\n",
    "\n",
    "### Step 4: Style and format the line plot to ensure a professionally styled visualization.\n"
   ]
  },
  {
   "cell_type": "code",
   "execution_count": 32,
   "metadata": {},
   "outputs": [
    {
     "data": {},
     "metadata": {},
     "output_type": "display_data"
    },
    {
     "data": {
      "application/vnd.holoviews_exec.v0+json": "",
      "text/html": [
       "<div id='2109'>\n",
       "\n",
       "\n",
       "\n",
       "\n",
       "\n",
       "  <div class=\"bk-root\" id=\"700a52f0-f97e-4801-bcf8-a9146920c689\" data-root-id=\"2109\"></div>\n",
       "</div>\n",
       "<script type=\"application/javascript\">(function(root) {\n",
       "  function embed_document(root) {\n",
       "    var docs_json = {\"2efe9a9e-b86e-4e50-8053-5742d09d0e3e\":{\"defs\":[{\"extends\":null,\"module\":null,\"name\":\"ReactiveHTML1\",\"overrides\":[],\"properties\":[]},{\"extends\":null,\"module\":null,\"name\":\"FlexBox1\",\"overrides\":[],\"properties\":[{\"default\":\"flex-start\",\"kind\":null,\"name\":\"align_content\"},{\"default\":\"flex-start\",\"kind\":null,\"name\":\"align_items\"},{\"default\":\"row\",\"kind\":null,\"name\":\"flex_direction\"},{\"default\":\"wrap\",\"kind\":null,\"name\":\"flex_wrap\"},{\"default\":\"flex-start\",\"kind\":null,\"name\":\"justify_content\"}]},{\"extends\":null,\"module\":null,\"name\":\"TemplateActions1\",\"overrides\":[],\"properties\":[{\"default\":0,\"kind\":null,\"name\":\"open_modal\"},{\"default\":0,\"kind\":null,\"name\":\"close_modal\"}]},{\"extends\":null,\"module\":null,\"name\":\"MaterialTemplateActions1\",\"overrides\":[],\"properties\":[{\"default\":0,\"kind\":null,\"name\":\"open_modal\"},{\"default\":0,\"kind\":null,\"name\":\"close_modal\"}]}],\"roots\":{\"references\":[{\"attributes\":{},\"id\":\"2189\",\"type\":\"UnionRenderers\"},{\"attributes\":{},\"id\":\"2145\",\"type\":\"BasicTickFormatter\"},{\"attributes\":{},\"id\":\"2147\",\"type\":\"AllLabels\"},{\"attributes\":{},\"id\":\"2152\",\"type\":\"Selection\"},{\"attributes\":{\"bottom_units\":\"screen\",\"fill_alpha\":0.5,\"fill_color\":\"lightgrey\",\"left_units\":\"screen\",\"level\":\"overlay\",\"line_alpha\":1.0,\"line_color\":\"black\",\"line_dash\":[4,4],\"line_width\":2,\"right_units\":\"screen\",\"syncable\":false,\"top_units\":\"screen\"},\"id\":\"2137\",\"type\":\"BoxAnnotation\"},{\"attributes\":{\"data\":{\"Variable\":[\"gross_rent\",\"gross_rent\",\"gross_rent\",\"gross_rent\",\"gross_rent\",\"gross_rent\",\"gross_rent\"],\"value\":[1239,1530,2324,2971,3528,3739,4390],\"year\":[2010,2011,2012,2013,2014,2015,2016]},\"selected\":{\"id\":\"2173\"},\"selection_policy\":{\"id\":\"2189\"}},\"id\":\"2172\",\"type\":\"ColumnDataSource\"},{\"attributes\":{\"below\":[{\"id\":\"2124\"}],\"center\":[{\"id\":\"2127\"},{\"id\":\"2131\"}],\"height\":300,\"left\":[{\"id\":\"2128\"}],\"margin\":[5,5,5,5],\"min_border_bottom\":10,\"min_border_left\":10,\"min_border_right\":10,\"min_border_top\":10,\"renderers\":[{\"id\":\"2157\"},{\"id\":\"2178\"}],\"right\":[{\"id\":\"2169\"}],\"sizing_mode\":\"fixed\",\"title\":{\"id\":\"2116\"},\"toolbar\":{\"id\":\"2138\"},\"width\":800,\"x_range\":{\"id\":\"2111\"},\"x_scale\":{\"id\":\"2120\"},\"y_range\":{\"id\":\"2112\"},\"y_scale\":{\"id\":\"2122\"}},\"id\":\"2115\",\"subtype\":\"Figure\",\"type\":\"Plot\"},{\"attributes\":{\"click_policy\":\"mute\",\"items\":[{\"id\":\"2170\"},{\"id\":\"2192\"}],\"location\":[0,0],\"title\":\"Variable\"},\"id\":\"2169\",\"type\":\"Legend\"},{\"attributes\":{\"source\":{\"id\":\"2151\"}},\"id\":\"2158\",\"type\":\"CDSView\"},{\"attributes\":{},\"id\":\"2132\",\"type\":\"SaveTool\"},{\"attributes\":{\"line_alpha\":0.2,\"line_color\":\"#fc4f30\",\"line_width\":2,\"x\":{\"field\":\"year\"},\"y\":{\"field\":\"value\"}},\"id\":\"2177\",\"type\":\"Line\"},{\"attributes\":{\"children\":[{\"id\":\"2110\"},{\"id\":\"2115\"},{\"id\":\"2302\"}],\"margin\":[0,0,0,0],\"name\":\"Row03721\",\"tags\":[\"embedded\"]},\"id\":\"2109\",\"type\":\"Row\"},{\"attributes\":{\"line_alpha\":0.1,\"line_color\":\"#30a2da\",\"line_width\":2,\"x\":{\"field\":\"year\"},\"y\":{\"field\":\"value\"}},\"id\":\"2155\",\"type\":\"Line\"},{\"attributes\":{},\"id\":\"2133\",\"type\":\"PanTool\"},{\"attributes\":{\"data_source\":{\"id\":\"2172\"},\"glyph\":{\"id\":\"2175\"},\"hover_glyph\":null,\"muted_glyph\":{\"id\":\"2177\"},\"nonselection_glyph\":{\"id\":\"2176\"},\"selection_glyph\":{\"id\":\"2193\"},\"view\":{\"id\":\"2179\"}},\"id\":\"2178\",\"type\":\"GlyphRenderer\"},{\"attributes\":{\"source\":{\"id\":\"2172\"}},\"id\":\"2179\",\"type\":\"CDSView\"},{\"attributes\":{},\"id\":\"2134\",\"type\":\"WheelZoomTool\"},{\"attributes\":{\"active_multi\":null,\"tools\":[{\"id\":\"2113\"},{\"id\":\"2132\"},{\"id\":\"2133\"},{\"id\":\"2134\"},{\"id\":\"2135\"},{\"id\":\"2136\"}]},\"id\":\"2138\",\"type\":\"Toolbar\"},{\"attributes\":{},\"id\":\"2148\",\"type\":\"BasicTickFormatter\"},{\"attributes\":{\"line_color\":\"#fc4f30\",\"line_width\":2,\"x\":{\"field\":\"year\"},\"y\":{\"field\":\"value\"}},\"id\":\"2175\",\"type\":\"Line\"},{\"attributes\":{},\"id\":\"2125\",\"type\":\"BasicTicker\"},{\"attributes\":{\"overlay\":{\"id\":\"2137\"}},\"id\":\"2135\",\"type\":\"BoxZoomTool\"},{\"attributes\":{},\"id\":\"2150\",\"type\":\"AllLabels\"},{\"attributes\":{\"line_alpha\":0.1,\"line_color\":\"#fc4f30\",\"line_width\":2,\"x\":{\"field\":\"year\"},\"y\":{\"field\":\"value\"}},\"id\":\"2176\",\"type\":\"Line\"},{\"attributes\":{},\"id\":\"2166\",\"type\":\"UnionRenderers\"},{\"attributes\":{\"margin\":[5,5,5,5],\"name\":\"HSpacer03725\",\"sizing_mode\":\"stretch_width\"},\"id\":\"2110\",\"type\":\"Spacer\"},{\"attributes\":{\"axis\":{\"id\":\"2128\"},\"dimension\":1,\"grid_line_color\":null,\"ticker\":null},\"id\":\"2131\",\"type\":\"Grid\"},{\"attributes\":{\"label\":{\"value\":\"gross_rent\"},\"renderers\":[{\"id\":\"2178\"}]},\"id\":\"2192\",\"type\":\"LegendItem\"},{\"attributes\":{\"line_color\":\"#30a2da\",\"line_width\":2,\"x\":{\"field\":\"year\"},\"y\":{\"field\":\"value\"}},\"id\":\"2154\",\"type\":\"Line\"},{\"attributes\":{\"data_source\":{\"id\":\"2151\"},\"glyph\":{\"id\":\"2154\"},\"hover_glyph\":null,\"muted_glyph\":{\"id\":\"2156\"},\"nonselection_glyph\":{\"id\":\"2155\"},\"selection_glyph\":{\"id\":\"2171\"},\"view\":{\"id\":\"2158\"}},\"id\":\"2157\",\"type\":\"GlyphRenderer\"},{\"attributes\":{\"text\":\"Sale Price per Square Foot & Average Gross Rent, in San Francisco -- 2010-2016\",\"text_color\":\"black\",\"text_font_size\":\"12pt\"},\"id\":\"2116\",\"type\":\"Title\"},{\"attributes\":{\"line_color\":\"#fc4f30\",\"line_width\":2,\"x\":{\"field\":\"year\"},\"y\":{\"field\":\"value\"}},\"id\":\"2193\",\"type\":\"Line\"},{\"attributes\":{},\"id\":\"2136\",\"type\":\"ResetTool\"},{\"attributes\":{},\"id\":\"2122\",\"type\":\"LinearScale\"},{\"attributes\":{\"line_alpha\":0.2,\"line_color\":\"#30a2da\",\"line_width\":2,\"x\":{\"field\":\"year\"},\"y\":{\"field\":\"value\"}},\"id\":\"2156\",\"type\":\"Line\"},{\"attributes\":{\"margin\":[5,5,5,5],\"name\":\"HSpacer03726\",\"sizing_mode\":\"stretch_width\"},\"id\":\"2302\",\"type\":\"Spacer\"},{\"attributes\":{\"callback\":null,\"renderers\":[{\"id\":\"2157\"},{\"id\":\"2178\"}],\"tags\":[\"hv_created\"],\"tooltips\":[[\"Variable\",\"@{Variable}\"],[\"year\",\"@{year}\"],[\"value\",\"@{value}\"]]},\"id\":\"2113\",\"type\":\"HoverTool\"},{\"attributes\":{\"end\":2016.0,\"reset_end\":2016.0,\"reset_start\":2010.0,\"start\":2010.0,\"tags\":[[[\"year\",\"year\",null]]]},\"id\":\"2111\",\"type\":\"Range1d\"},{\"attributes\":{\"label\":{\"value\":\"sale_price_sqr_foot\"},\"renderers\":[{\"id\":\"2157\"}]},\"id\":\"2170\",\"type\":\"LegendItem\"},{\"attributes\":{\"end\":4794.80965708199,\"reset_end\":4794.80965708199,\"reset_start\":-62.9062279018836,\"start\":-62.9062279018836,\"tags\":[[[\"value\",\"value\",null]]]},\"id\":\"2112\",\"type\":\"Range1d\"},{\"attributes\":{\"axis_label\":\"Year\",\"formatter\":{\"id\":\"2145\"},\"major_label_policy\":{\"id\":\"2147\"},\"ticker\":{\"id\":\"2125\"}},\"id\":\"2124\",\"type\":\"LinearAxis\"},{\"attributes\":{\"data\":{\"Variable\":[\"sale_price_sqr_foot\",\"sale_price_sqr_foot\",\"sale_price_sqr_foot\",\"sale_price_sqr_foot\",\"sale_price_sqr_foot\",\"sale_price_sqr_foot\",\"sale_price_sqr_foot\"],\"value\":{\"__ndarray__\":\"tQKjeIIVd0Do7CdydF51QGdijk899nhAaBKk2Jo5fkDHKCTbN2KBQPETFqRSxINATx33UCbNhUA=\",\"dtype\":\"float64\",\"order\":\"little\",\"shape\":[7]},\"year\":[2010,2011,2012,2013,2014,2015,2016]},\"selected\":{\"id\":\"2152\"},\"selection_policy\":{\"id\":\"2166\"}},\"id\":\"2151\",\"type\":\"ColumnDataSource\"},{\"attributes\":{\"axis\":{\"id\":\"2124\"},\"grid_line_color\":null,\"ticker\":null},\"id\":\"2127\",\"type\":\"Grid\"},{\"attributes\":{},\"id\":\"2173\",\"type\":\"Selection\"},{\"attributes\":{},\"id\":\"2120\",\"type\":\"LinearScale\"},{\"attributes\":{},\"id\":\"2129\",\"type\":\"BasicTicker\"},{\"attributes\":{\"line_color\":\"#30a2da\",\"line_width\":2,\"x\":{\"field\":\"year\"},\"y\":{\"field\":\"value\"}},\"id\":\"2171\",\"type\":\"Line\"},{\"attributes\":{\"axis_label\":\"Sale Price per Sqr Foot \\n & Gross Rent \\n [US Dollars]\",\"formatter\":{\"id\":\"2148\"},\"major_label_policy\":{\"id\":\"2150\"},\"ticker\":{\"id\":\"2129\"}},\"id\":\"2128\",\"type\":\"LinearAxis\"}],\"root_ids\":[\"2109\"]},\"title\":\"Bokeh Application\",\"version\":\"2.3.2\"}};\n",
       "    var render_items = [{\"docid\":\"2efe9a9e-b86e-4e50-8053-5742d09d0e3e\",\"root_ids\":[\"2109\"],\"roots\":{\"2109\":\"700a52f0-f97e-4801-bcf8-a9146920c689\"}}];\n",
       "    root.Bokeh.embed.embed_items_notebook(docs_json, render_items);\n",
       "  }\n",
       "  if (root.Bokeh !== undefined && root.Bokeh.Panel !== undefined) {\n",
       "    embed_document(root);\n",
       "  } else {\n",
       "    var attempts = 0;\n",
       "    var timer = setInterval(function(root) {\n",
       "      if (root.Bokeh !== undefined && root.Bokeh.Panel !== undefined) {\n",
       "        clearInterval(timer);\n",
       "        embed_document(root);\n",
       "      } else if (document.readyState == \"complete\") {\n",
       "        attempts++;\n",
       "        if (attempts > 200) {\n",
       "          clearInterval(timer);\n",
       "          console.log(\"Bokeh: ERROR: Unable to run BokehJS code because BokehJS library is missing\");\n",
       "        }\n",
       "      }\n",
       "    }, 25, root)\n",
       "  }\n",
       "})(window);</script>"
      ],
      "text/plain": [
       ":NdOverlay   [Variable]\n",
       "   :Curve   [year]   (value)"
      ]
     },
     "execution_count": 32,
     "metadata": {
      "application/vnd.holoviews_exec.v0+json": {
       "id": "2109"
      }
     },
     "output_type": "execute_result"
    }
   ],
   "source": [
    "# Plot prices_square_foot_by_year. \n",
    "# Inclued labels for the x- and y-axes, and a title.\n",
    "prices_square_foot_by_year.hvplot(\n",
    "    xlabel=\"Year\"\n",
    "    ,ylabel=\"Sale Price per Sqr Foot \\n & Gross Rent \\n [US Dollars]\"\n",
    "    ,title=\"Sale Price per Square Foot & Average Gross Rent, in San Francisco -- 2010-2016\"\n",
    "    ,legend=True\n",
    "    ,width=800\n",
    "    \n",
    ")"
   ]
  },
  {
   "cell_type": "markdown",
   "metadata": {},
   "source": [
    "### Step 6: Use both the `prices_square_foot_by_year` DataFrame and interactive plots to answer the following questions:"
   ]
  },
  {
   "cell_type": "markdown",
   "metadata": {},
   "source": [
    "**Question** * Did any year experience a drop in the average sale price per square foot compared to the previous year?\n",
    "\n",
    "**Answer** # Yes. In the year 2011 the sale price per square footage was 342 [USD], dropping a 7.4% from the 2010 value of 369 [USD]."
   ]
  },
  {
   "cell_type": "markdown",
   "metadata": {},
   "source": [
    "**Question** * If so, did the gross rent increase or decrease during that year?I\n",
    "\n",
    "**Answer** # The gross rent actually increased by a significant 23.5% from USD 1,239 to USD 1,530 during that same year 2011."
   ]
  },
  {
   "cell_type": "markdown",
   "metadata": {},
   "source": [
    "---"
   ]
  },
  {
   "cell_type": "markdown",
   "metadata": {},
   "source": [
    "## Compare the Average Sale Prices by Neighborhood\n",
    "\n",
    "For this part of the assignment, use interactive visualizations and widgets to explore the average sale price per square foot by neighborhood. To do so, complete the following steps:\n",
    "\n",
    "1. Create a new DataFrame that groups the original DataFrame by year and neighborhood. Aggregate the results by the `mean` of the groups.\n",
    "\n",
    "2. Filter out the “housing_units” column to create a DataFrame that includes only the `sale_price_sqr_foot` and `gross_rent` averages per year.\n",
    "\n",
    "3. Create an interactive line plot with hvPlot that visualizes both `sale_price_sqr_foot` and `gross_rent`. Set the x-axis parameter to the year (`x=\"year\"`). Use the `groupby` parameter to create an interactive widget for `neighborhood`.\n",
    "\n",
    "4. Style and format the line plot to ensure a professionally styled visualization.\n",
    "\n",
    "5. Note that your resulting plot should appear similar to the following image:\n",
    "\n",
    "![A screenshot depicts an example of the resulting plot.](Images/pricing-info-by-neighborhood.png)\n",
    "\n",
    "6. Use the interactive visualization to answer the following question:\n",
    "\n",
    "    * For the Anza Vista neighborhood, is the average sale price per square foot for 2016 more or less than the price that’s listed for 2012? \n"
   ]
  },
  {
   "cell_type": "markdown",
   "metadata": {},
   "source": [
    "### Step 1: Create a new DataFrame that groups the original DataFrame by year and neighborhood. Aggregate the results by the `mean` of the groups."
   ]
  },
  {
   "cell_type": "code",
   "execution_count": 11,
   "metadata": {},
   "outputs": [
    {
     "data": {
      "text/html": [
       "<div>\n",
       "<style scoped>\n",
       "    .dataframe tbody tr th:only-of-type {\n",
       "        vertical-align: middle;\n",
       "    }\n",
       "\n",
       "    .dataframe tbody tr th {\n",
       "        vertical-align: top;\n",
       "    }\n",
       "\n",
       "    .dataframe thead th {\n",
       "        text-align: right;\n",
       "    }\n",
       "</style>\n",
       "<table border=\"1\" class=\"dataframe\">\n",
       "  <thead>\n",
       "    <tr style=\"text-align: right;\">\n",
       "      <th></th>\n",
       "      <th></th>\n",
       "      <th>sale_price_sqr_foot</th>\n",
       "      <th>housing_units</th>\n",
       "      <th>gross_rent</th>\n",
       "    </tr>\n",
       "    <tr>\n",
       "      <th>year</th>\n",
       "      <th>neighborhood</th>\n",
       "      <th></th>\n",
       "      <th></th>\n",
       "      <th></th>\n",
       "    </tr>\n",
       "  </thead>\n",
       "  <tbody>\n",
       "    <tr>\n",
       "      <th rowspan=\"5\" valign=\"top\">2010</th>\n",
       "      <th>Alamo Square</th>\n",
       "      <td>291.182945</td>\n",
       "      <td>372560</td>\n",
       "      <td>1239</td>\n",
       "    </tr>\n",
       "    <tr>\n",
       "      <th>Anza Vista</th>\n",
       "      <td>267.932583</td>\n",
       "      <td>372560</td>\n",
       "      <td>1239</td>\n",
       "    </tr>\n",
       "    <tr>\n",
       "      <th>Bayview</th>\n",
       "      <td>170.098665</td>\n",
       "      <td>372560</td>\n",
       "      <td>1239</td>\n",
       "    </tr>\n",
       "    <tr>\n",
       "      <th>Buena Vista Park</th>\n",
       "      <td>347.394919</td>\n",
       "      <td>372560</td>\n",
       "      <td>1239</td>\n",
       "    </tr>\n",
       "    <tr>\n",
       "      <th>Central Richmond</th>\n",
       "      <td>319.027623</td>\n",
       "      <td>372560</td>\n",
       "      <td>1239</td>\n",
       "    </tr>\n",
       "  </tbody>\n",
       "</table>\n",
       "</div>"
      ],
      "text/plain": [
       "                       sale_price_sqr_foot  housing_units  gross_rent\n",
       "year neighborhood                                                    \n",
       "2010 Alamo Square               291.182945         372560        1239\n",
       "     Anza Vista                 267.932583         372560        1239\n",
       "     Bayview                    170.098665         372560        1239\n",
       "     Buena Vista Park           347.394919         372560        1239\n",
       "     Central Richmond           319.027623         372560        1239"
      ]
     },
     "execution_count": 11,
     "metadata": {},
     "output_type": "execute_result"
    }
   ],
   "source": [
    "# Group by year and neighborhood and then create a new dataframe of the mean values\n",
    "prices_by_year_by_neighborhood = sfo_data_df.groupby([\"year\",\"neighborhood\"]).mean()\n",
    "\n",
    "# Review the DataFrame\n",
    "prices_by_year_by_neighborhood.head()"
   ]
  },
  {
   "cell_type": "markdown",
   "metadata": {},
   "source": [
    "### Step 2: Filter out the “housing_units” column to create a DataFrame that includes only the `sale_price_sqr_foot` and `gross_rent` averages per year."
   ]
  },
  {
   "cell_type": "code",
   "execution_count": 12,
   "metadata": {},
   "outputs": [
    {
     "data": {
      "text/html": [
       "<div>\n",
       "<style scoped>\n",
       "    .dataframe tbody tr th:only-of-type {\n",
       "        vertical-align: middle;\n",
       "    }\n",
       "\n",
       "    .dataframe tbody tr th {\n",
       "        vertical-align: top;\n",
       "    }\n",
       "\n",
       "    .dataframe thead th {\n",
       "        text-align: right;\n",
       "    }\n",
       "</style>\n",
       "<table border=\"1\" class=\"dataframe\">\n",
       "  <thead>\n",
       "    <tr style=\"text-align: right;\">\n",
       "      <th></th>\n",
       "      <th></th>\n",
       "      <th>sale_price_sqr_foot</th>\n",
       "      <th>gross_rent</th>\n",
       "    </tr>\n",
       "    <tr>\n",
       "      <th>year</th>\n",
       "      <th>neighborhood</th>\n",
       "      <th></th>\n",
       "      <th></th>\n",
       "    </tr>\n",
       "  </thead>\n",
       "  <tbody>\n",
       "    <tr>\n",
       "      <th rowspan=\"5\" valign=\"top\">2010</th>\n",
       "      <th>Alamo Square</th>\n",
       "      <td>291.182945</td>\n",
       "      <td>1239</td>\n",
       "    </tr>\n",
       "    <tr>\n",
       "      <th>Anza Vista</th>\n",
       "      <td>267.932583</td>\n",
       "      <td>1239</td>\n",
       "    </tr>\n",
       "    <tr>\n",
       "      <th>Bayview</th>\n",
       "      <td>170.098665</td>\n",
       "      <td>1239</td>\n",
       "    </tr>\n",
       "    <tr>\n",
       "      <th>Buena Vista Park</th>\n",
       "      <td>347.394919</td>\n",
       "      <td>1239</td>\n",
       "    </tr>\n",
       "    <tr>\n",
       "      <th>Central Richmond</th>\n",
       "      <td>319.027623</td>\n",
       "      <td>1239</td>\n",
       "    </tr>\n",
       "  </tbody>\n",
       "</table>\n",
       "</div>"
      ],
      "text/plain": [
       "                       sale_price_sqr_foot  gross_rent\n",
       "year neighborhood                                     \n",
       "2010 Alamo Square               291.182945        1239\n",
       "     Anza Vista                 267.932583        1239\n",
       "     Bayview                    170.098665        1239\n",
       "     Buena Vista Park           347.394919        1239\n",
       "     Central Richmond           319.027623        1239"
      ]
     },
     "metadata": {},
     "output_type": "display_data"
    },
    {
     "data": {
      "text/html": [
       "<div>\n",
       "<style scoped>\n",
       "    .dataframe tbody tr th:only-of-type {\n",
       "        vertical-align: middle;\n",
       "    }\n",
       "\n",
       "    .dataframe tbody tr th {\n",
       "        vertical-align: top;\n",
       "    }\n",
       "\n",
       "    .dataframe thead th {\n",
       "        text-align: right;\n",
       "    }\n",
       "</style>\n",
       "<table border=\"1\" class=\"dataframe\">\n",
       "  <thead>\n",
       "    <tr style=\"text-align: right;\">\n",
       "      <th></th>\n",
       "      <th></th>\n",
       "      <th>sale_price_sqr_foot</th>\n",
       "      <th>gross_rent</th>\n",
       "    </tr>\n",
       "    <tr>\n",
       "      <th>year</th>\n",
       "      <th>neighborhood</th>\n",
       "      <th></th>\n",
       "      <th></th>\n",
       "    </tr>\n",
       "  </thead>\n",
       "  <tbody>\n",
       "    <tr>\n",
       "      <th rowspan=\"5\" valign=\"top\">2016</th>\n",
       "      <th>Telegraph Hill</th>\n",
       "      <td>903.049771</td>\n",
       "      <td>4390</td>\n",
       "    </tr>\n",
       "    <tr>\n",
       "      <th>Twin Peaks</th>\n",
       "      <td>970.085470</td>\n",
       "      <td>4390</td>\n",
       "    </tr>\n",
       "    <tr>\n",
       "      <th>Van Ness/ Civic Center</th>\n",
       "      <td>552.602567</td>\n",
       "      <td>4390</td>\n",
       "    </tr>\n",
       "    <tr>\n",
       "      <th>Visitacion Valley</th>\n",
       "      <td>328.319007</td>\n",
       "      <td>4390</td>\n",
       "    </tr>\n",
       "    <tr>\n",
       "      <th>Westwood Park</th>\n",
       "      <td>631.195426</td>\n",
       "      <td>4390</td>\n",
       "    </tr>\n",
       "  </tbody>\n",
       "</table>\n",
       "</div>"
      ],
      "text/plain": [
       "                             sale_price_sqr_foot  gross_rent\n",
       "year neighborhood                                           \n",
       "2016 Telegraph Hill                   903.049771        4390\n",
       "     Twin Peaks                       970.085470        4390\n",
       "     Van Ness/ Civic Center           552.602567        4390\n",
       "     Visitacion Valley                328.319007        4390\n",
       "     Westwood Park                    631.195426        4390"
      ]
     },
     "metadata": {},
     "output_type": "display_data"
    }
   ],
   "source": [
    "# Filter out the housing_units\n",
    "prices_by_year_by_neighborhood = prices_by_year_by_neighborhood.drop(columns=[\"housing_units\"])\n",
    "\n",
    "# Review the first and last five rows of the DataFrame\n",
    "display(prices_by_year_by_neighborhood.head() )\n",
    "display(prices_by_year_by_neighborhood.tail() )\n"
   ]
  },
  {
   "cell_type": "markdown",
   "metadata": {},
   "source": [
    "### Step 3: Create an interactive line plot with hvPlot that visualizes both `sale_price_sqr_foot` and `gross_rent`. Set the x-axis parameter to the year (`x=\"year\"`). Use the `groupby` parameter to create an interactive widget for `neighborhood`.\n",
    "\n",
    "### Step 4: Style and format the line plot to ensure a professionally styled visualization."
   ]
  },
  {
   "cell_type": "code",
   "execution_count": 66,
   "metadata": {},
   "outputs": [
    {
     "data": {},
     "metadata": {},
     "output_type": "display_data"
    },
    {
     "data": {
      "application/vnd.holoviews_exec.v0+json": "",
      "text/html": [
       "<div id='3029'>\n",
       "\n",
       "\n",
       "\n",
       "\n",
       "\n",
       "  <div class=\"bk-root\" id=\"ffc8fe6c-e861-4f74-9ab2-94d72ac3bc93\" data-root-id=\"3029\"></div>\n",
       "</div>\n",
       "<script type=\"application/javascript\">(function(root) {\n",
       "  function embed_document(root) {\n",
       "    var docs_json = {\"ee7e60b6-c60e-4b7e-95db-0165008ee8d5\":{\"defs\":[{\"extends\":null,\"module\":null,\"name\":\"ReactiveHTML1\",\"overrides\":[],\"properties\":[]},{\"extends\":null,\"module\":null,\"name\":\"FlexBox1\",\"overrides\":[],\"properties\":[{\"default\":\"flex-start\",\"kind\":null,\"name\":\"align_content\"},{\"default\":\"flex-start\",\"kind\":null,\"name\":\"align_items\"},{\"default\":\"row\",\"kind\":null,\"name\":\"flex_direction\"},{\"default\":\"wrap\",\"kind\":null,\"name\":\"flex_wrap\"},{\"default\":\"flex-start\",\"kind\":null,\"name\":\"justify_content\"}]},{\"extends\":null,\"module\":null,\"name\":\"TemplateActions1\",\"overrides\":[],\"properties\":[{\"default\":0,\"kind\":null,\"name\":\"open_modal\"},{\"default\":0,\"kind\":null,\"name\":\"close_modal\"}]},{\"extends\":null,\"module\":null,\"name\":\"MaterialTemplateActions1\",\"overrides\":[],\"properties\":[{\"default\":0,\"kind\":null,\"name\":\"open_modal\"},{\"default\":0,\"kind\":null,\"name\":\"close_modal\"}]}],\"roots\":{\"references\":[{\"attributes\":{\"line_alpha\":0.2,\"line_color\":\"#30a2da\",\"line_width\":2,\"x\":{\"field\":\"year\"},\"y\":{\"field\":\"value\"}},\"id\":\"3076\",\"type\":\"Line\"},{\"attributes\":{\"axis\":{\"id\":\"3044\"},\"grid_line_color\":null,\"ticker\":null},\"id\":\"3047\",\"type\":\"Grid\"},{\"attributes\":{},\"id\":\"3045\",\"type\":\"BasicTicker\"},{\"attributes\":{},\"id\":\"3093\",\"type\":\"Selection\"},{\"attributes\":{\"axis_label\":\"Year\",\"formatter\":{\"id\":\"3065\"},\"major_label_policy\":{\"id\":\"3067\"},\"ticker\":{\"id\":\"3045\"}},\"id\":\"3044\",\"type\":\"LinearAxis\"},{\"attributes\":{\"below\":[{\"id\":\"3044\"}],\"center\":[{\"id\":\"3047\"},{\"id\":\"3051\"}],\"height\":300,\"left\":[{\"id\":\"3048\"}],\"margin\":[5,5,5,5],\"min_border_bottom\":10,\"min_border_left\":10,\"min_border_right\":10,\"min_border_top\":10,\"renderers\":[{\"id\":\"3077\"},{\"id\":\"3098\"}],\"right\":[{\"id\":\"3089\"}],\"sizing_mode\":\"fixed\",\"title\":{\"id\":\"3036\"},\"toolbar\":{\"id\":\"3058\"},\"width\":700,\"x_range\":{\"id\":\"3031\"},\"x_scale\":{\"id\":\"3040\"},\"y_range\":{\"id\":\"3032\"},\"y_scale\":{\"id\":\"3042\"}},\"id\":\"3035\",\"subtype\":\"Figure\",\"type\":\"Plot\"},{\"attributes\":{\"line_alpha\":0.1,\"line_color\":\"#30a2da\",\"line_width\":2,\"x\":{\"field\":\"year\"},\"y\":{\"field\":\"value\"}},\"id\":\"3075\",\"type\":\"Line\"},{\"attributes\":{\"margin\":[20,20,20,20],\"min_width\":250,\"options\":[\"Alamo Square\",\"Anza Vista\",\"Bayview\",\"Buena Vista Park\",\"Central Richmond\",\"Central Sunset\",\"Corona Heights\",\"Cow Hollow\",\"Croker Amazon\",\"Diamond Heights\",\"Downtown \",\"Eureka Valley/Dolores Heights\",\"Excelsior\",\"Financial District North\",\"Financial District South\",\"Forest Knolls\",\"Glen Park\",\"Golden Gate Heights\",\"Haight Ashbury\",\"Hayes Valley\",\"Hunters Point\",\"Ingleside \",\"Inner Mission\",\"Inner Parkside\",\"Inner Richmond\",\"Inner Sunset\",\"Jordan Park/Laurel Heights\",\"Lake --The Presidio\",\"Lone Mountain\",\"Lower Pacific Heights\",\"Marina\",\"Miraloma Park\",\"Mission Bay\",\"Mission Dolores\",\"Mission Terrace\",\"Nob Hill\",\"Noe Valley\",\"Oceanview\",\"Outer Parkside\",\"Outer Richmond \",\"Outer Sunset\",\"Pacific Heights\",\"Park North\",\"Parkside\",\"Parnassus/Ashbury Heights\",\"Portola\",\"Potrero Hill\",\"Presidio Heights\",\"Russian Hill\",\"South Beach\",\"South of Market\",\"Sunnyside\",\"Telegraph Hill\",\"Twin Peaks\",\"Union Square District\",\"Van Ness/ Civic Center\",\"West Portal\",\"Western Addition\",\"Yerba Buena\",\"Bernal Heights \",\"Clarendon Heights\",\"Duboce Triangle\",\"Ingleside Heights\",\"North Beach\",\"North Waterfront\",\"Outer Mission\",\"Westwood Highlands\",\"Merced Heights\",\"Midtown Terrace\",\"Visitacion Valley\",\"Silver Terrace\",\"Westwood Park\",\"Bayview Heights\"],\"title\":\"neighborhood\",\"value\":\"Alamo Square\",\"width\":250},\"id\":\"3232\",\"type\":\"Select\"},{\"attributes\":{},\"id\":\"3040\",\"type\":\"LinearScale\"},{\"attributes\":{\"click_policy\":\"mute\",\"items\":[{\"id\":\"3090\"},{\"id\":\"3112\"}],\"location\":[0,0],\"title\":\"Variable\"},\"id\":\"3089\",\"type\":\"Legend\"},{\"attributes\":{},\"id\":\"3068\",\"type\":\"BasicTickFormatter\"},{\"attributes\":{\"margin\":[5,5,5,5],\"name\":\"HSpacer05405\",\"sizing_mode\":\"stretch_width\"},\"id\":\"3030\",\"type\":\"Spacer\"},{\"attributes\":{\"end\":4810.690068306854,\"reset_end\":4810.690068306854,\"reset_start\":-237.59075137539725,\"start\":-237.59075137539725,\"tags\":[[[\"value\",\"value\",null]]]},\"id\":\"3032\",\"type\":\"Range1d\"},{\"attributes\":{},\"id\":\"3042\",\"type\":\"LinearScale\"},{\"attributes\":{\"end\":2016.0,\"reset_end\":2016.0,\"reset_start\":2010.0,\"start\":2010.0,\"tags\":[[[\"year\",\"year\",null]]]},\"id\":\"3031\",\"type\":\"Range1d\"},{\"attributes\":{\"margin\":[5,5,5,5],\"name\":\"VSpacer05402\",\"sizing_mode\":\"stretch_height\"},\"id\":\"3230\",\"type\":\"Spacer\"},{\"attributes\":{\"data_source\":{\"id\":\"3092\"},\"glyph\":{\"id\":\"3095\"},\"hover_glyph\":null,\"muted_glyph\":{\"id\":\"3097\"},\"nonselection_glyph\":{\"id\":\"3096\"},\"selection_glyph\":{\"id\":\"3113\"},\"view\":{\"id\":\"3099\"}},\"id\":\"3098\",\"type\":\"GlyphRenderer\"},{\"attributes\":{\"text\":\"Average Price per Square Foot, and Gross Rent in San Francisco's Neighborhoods\",\"text_color\":\"black\",\"text_font_size\":\"12pt\"},\"id\":\"3036\",\"type\":\"Title\"},{\"attributes\":{\"line_alpha\":0.2,\"line_color\":\"#fc4f30\",\"line_width\":2,\"x\":{\"field\":\"year\"},\"y\":{\"field\":\"value\"}},\"id\":\"3097\",\"type\":\"Line\"},{\"attributes\":{\"source\":{\"id\":\"3092\"}},\"id\":\"3099\",\"type\":\"CDSView\"},{\"attributes\":{\"line_color\":\"#fc4f30\",\"line_width\":2,\"x\":{\"field\":\"year\"},\"y\":{\"field\":\"value\"}},\"id\":\"3095\",\"type\":\"Line\"},{\"attributes\":{\"axis_label\":\"US Dollars\",\"formatter\":{\"id\":\"3068\"},\"major_label_policy\":{\"id\":\"3070\"},\"ticker\":{\"id\":\"3049\"}},\"id\":\"3048\",\"type\":\"LinearAxis\"},{\"attributes\":{\"line_color\":\"#30a2da\",\"line_width\":2,\"x\":{\"field\":\"year\"},\"y\":{\"field\":\"value\"}},\"id\":\"3091\",\"type\":\"Line\"},{\"attributes\":{\"margin\":[5,5,5,5],\"name\":\"VSpacer05403\",\"sizing_mode\":\"stretch_height\"},\"id\":\"3233\",\"type\":\"Spacer\"},{\"attributes\":{},\"id\":\"3049\",\"type\":\"BasicTicker\"},{\"attributes\":{\"line_alpha\":0.1,\"line_color\":\"#fc4f30\",\"line_width\":2,\"x\":{\"field\":\"year\"},\"y\":{\"field\":\"value\"}},\"id\":\"3096\",\"type\":\"Line\"},{\"attributes\":{},\"id\":\"3070\",\"type\":\"AllLabels\"},{\"attributes\":{\"label\":{\"value\":\"gross_rent\"},\"renderers\":[{\"id\":\"3098\"}]},\"id\":\"3112\",\"type\":\"LegendItem\"},{\"attributes\":{\"bottom_units\":\"screen\",\"fill_alpha\":0.5,\"fill_color\":\"lightgrey\",\"left_units\":\"screen\",\"level\":\"overlay\",\"line_alpha\":1.0,\"line_color\":\"black\",\"line_dash\":[4,4],\"line_width\":2,\"right_units\":\"screen\",\"syncable\":false,\"top_units\":\"screen\"},\"id\":\"3057\",\"type\":\"BoxAnnotation\"},{\"attributes\":{\"client_comm_id\":\"bd01c9950f1b4968afc9bf7b3cb82270\",\"comm_id\":\"9c8f3a947a80457cbf0cd88debf19a50\",\"plot_id\":\"3029\"},\"id\":\"3270\",\"type\":\"panel.models.comm_manager.CommManager\"},{\"attributes\":{\"children\":[{\"id\":\"3030\"},{\"id\":\"3035\"},{\"id\":\"3228\"},{\"id\":\"3229\"}],\"margin\":[0,0,0,0],\"name\":\"Row05396\"},\"id\":\"3029\",\"type\":\"Row\"},{\"attributes\":{\"data\":{\"Variable\":[\"gross_rent\",\"gross_rent\",\"gross_rent\",\"gross_rent\",\"gross_rent\",\"gross_rent\",\"gross_rent\"],\"value\":[1239,1530,2324,2971,3528,3739,4390],\"year\":[2010,2011,2012,2013,2014,2015,2016]},\"selected\":{\"id\":\"3093\"},\"selection_policy\":{\"id\":\"3109\"}},\"id\":\"3092\",\"type\":\"ColumnDataSource\"},{\"attributes\":{},\"id\":\"3056\",\"type\":\"ResetTool\"},{\"attributes\":{\"data_source\":{\"id\":\"3071\"},\"glyph\":{\"id\":\"3074\"},\"hover_glyph\":null,\"muted_glyph\":{\"id\":\"3076\"},\"nonselection_glyph\":{\"id\":\"3075\"},\"selection_glyph\":{\"id\":\"3091\"},\"view\":{\"id\":\"3078\"}},\"id\":\"3077\",\"type\":\"GlyphRenderer\"},{\"attributes\":{},\"id\":\"3065\",\"type\":\"BasicTickFormatter\"},{\"attributes\":{\"margin\":[5,5,5,5],\"name\":\"HSpacer05406\",\"sizing_mode\":\"stretch_width\"},\"id\":\"3228\",\"type\":\"Spacer\"},{\"attributes\":{\"label\":{\"value\":\"sale_price_sqr_foot\"},\"renderers\":[{\"id\":\"3077\"}]},\"id\":\"3090\",\"type\":\"LegendItem\"},{\"attributes\":{\"line_color\":\"#fc4f30\",\"line_width\":2,\"x\":{\"field\":\"year\"},\"y\":{\"field\":\"value\"}},\"id\":\"3113\",\"type\":\"Line\"},{\"attributes\":{\"callback\":null,\"renderers\":[{\"id\":\"3077\"},{\"id\":\"3098\"}],\"tags\":[\"hv_created\"],\"tooltips\":[[\"Variable\",\"@{Variable}\"],[\"year\",\"@{year}\"],[\"value\",\"@{value}\"]]},\"id\":\"3033\",\"type\":\"HoverTool\"},{\"attributes\":{},\"id\":\"3052\",\"type\":\"SaveTool\"},{\"attributes\":{\"source\":{\"id\":\"3071\"}},\"id\":\"3078\",\"type\":\"CDSView\"},{\"attributes\":{},\"id\":\"3053\",\"type\":\"PanTool\"},{\"attributes\":{\"children\":[{\"id\":\"3230\"},{\"id\":\"3231\"},{\"id\":\"3233\"}],\"margin\":[0,0,0,0],\"name\":\"Column05404\"},\"id\":\"3229\",\"type\":\"Column\"},{\"attributes\":{\"line_color\":\"#30a2da\",\"line_width\":2,\"x\":{\"field\":\"year\"},\"y\":{\"field\":\"value\"}},\"id\":\"3074\",\"type\":\"Line\"},{\"attributes\":{\"data\":{\"Variable\":[\"sale_price_sqr_foot\",\"sale_price_sqr_foot\",\"sale_price_sqr_foot\",\"sale_price_sqr_foot\",\"sale_price_sqr_foot\",\"sale_price_sqr_foot\",\"sale_price_sqr_foot\"],\"value\":{\"__ndarray__\":\"DUc7WO0yckCafszcbwhxQIKRs5ot42ZAKDog0LQ8eEAVMinKGEd+QI4V5FDt0IJAVCHcmLVPdUA=\",\"dtype\":\"float64\",\"order\":\"little\",\"shape\":[7]},\"year\":[2010,2011,2012,2013,2014,2015,2016]},\"selected\":{\"id\":\"3072\"},\"selection_policy\":{\"id\":\"3086\"}},\"id\":\"3071\",\"type\":\"ColumnDataSource\"},{\"attributes\":{\"children\":[{\"id\":\"3232\"}],\"css_classes\":[\"panel-widget-box\"],\"margin\":[5,5,5,5],\"name\":\"WidgetBox05397\"},\"id\":\"3231\",\"type\":\"Column\"},{\"attributes\":{},\"id\":\"3067\",\"type\":\"AllLabels\"},{\"attributes\":{},\"id\":\"3054\",\"type\":\"WheelZoomTool\"},{\"attributes\":{},\"id\":\"3109\",\"type\":\"UnionRenderers\"},{\"attributes\":{\"active_multi\":null,\"tools\":[{\"id\":\"3033\"},{\"id\":\"3052\"},{\"id\":\"3053\"},{\"id\":\"3054\"},{\"id\":\"3055\"},{\"id\":\"3056\"}]},\"id\":\"3058\",\"type\":\"Toolbar\"},{\"attributes\":{\"overlay\":{\"id\":\"3057\"}},\"id\":\"3055\",\"type\":\"BoxZoomTool\"},{\"attributes\":{},\"id\":\"3086\",\"type\":\"UnionRenderers\"},{\"attributes\":{},\"id\":\"3072\",\"type\":\"Selection\"},{\"attributes\":{\"axis\":{\"id\":\"3048\"},\"dimension\":1,\"grid_line_color\":null,\"ticker\":null},\"id\":\"3051\",\"type\":\"Grid\"}],\"root_ids\":[\"3029\",\"3270\"]},\"title\":\"Bokeh Application\",\"version\":\"2.3.2\"}};\n",
       "    var render_items = [{\"docid\":\"ee7e60b6-c60e-4b7e-95db-0165008ee8d5\",\"root_ids\":[\"3029\"],\"roots\":{\"3029\":\"ffc8fe6c-e861-4f74-9ab2-94d72ac3bc93\"}}];\n",
       "    root.Bokeh.embed.embed_items_notebook(docs_json, render_items);\n",
       "  }\n",
       "  if (root.Bokeh !== undefined && root.Bokeh.Panel !== undefined) {\n",
       "    embed_document(root);\n",
       "  } else {\n",
       "    var attempts = 0;\n",
       "    var timer = setInterval(function(root) {\n",
       "      if (root.Bokeh !== undefined && root.Bokeh.Panel !== undefined) {\n",
       "        clearInterval(timer);\n",
       "        embed_document(root);\n",
       "      } else if (document.readyState == \"complete\") {\n",
       "        attempts++;\n",
       "        if (attempts > 200) {\n",
       "          clearInterval(timer);\n",
       "          console.log(\"Bokeh: ERROR: Unable to run BokehJS code because BokehJS library is missing\");\n",
       "        }\n",
       "      }\n",
       "    }, 25, root)\n",
       "  }\n",
       "})(window);</script>"
      ],
      "text/plain": [
       ":DynamicMap   [neighborhood]\n",
       "   :NdOverlay   [Variable]\n",
       "      :Curve   [year]   (value)"
      ]
     },
     "execution_count": 66,
     "metadata": {
      "application/vnd.holoviews_exec.v0+json": {
       "id": "3029"
      }
     },
     "output_type": "execute_result"
    }
   ],
   "source": [
    "# Use hvplot to create an interactive line plot of the average price per square foot\n",
    "# The plot should have a dropdown selector for the neighborhood\n",
    "prices_by_year_by_neighborhood.hvplot(\n",
    "    groupby=\"neighborhood\"\n",
    "    ,title=\"Average Price per Square Foot, and Gross Rent in San Francisco's Neighborhoods\"\n",
    "    ,xlabel=\"Year\"\n",
    "    ,ylabel=\"US Dollars\"\n",
    ")"
   ]
  },
  {
   "cell_type": "markdown",
   "metadata": {},
   "source": [
    "### Step 6: Use the interactive visualization to answer the following question:"
   ]
  },
  {
   "cell_type": "markdown",
   "metadata": {},
   "source": [
    "**Question** For the Anza Vista neighborhood, is the average sale price per square foot for 2016 more or less than the price that’s listed for 2012? \n",
    "\n",
    "**Answer** In 2016 the price for the Anza Vista neighborhood is lower. Indeed, using the plot above, by selecting Anza Vista in the neighborhood drop down, and then looking at the hover on the respective years, we can see that for the Anza Vista neighborhood, the sale price per square foot in 2012 was 344.49. The averages sale price per square foot in 2016 was 88.40. The average sale price per square foot is significantly lower in 2016 than it was in 2012. This constrast with the price of rent that rise in all the city."
   ]
  },
  {
   "cell_type": "markdown",
   "metadata": {},
   "source": [
    "---"
   ]
  },
  {
   "cell_type": "markdown",
   "metadata": {},
   "source": [
    "## Build an Interactive Neighborhood Map\n",
    "\n",
    "For this part, we explore the geospatial relationships in the data by using interactive visualizations with Plotly and the Mapbox API. To build the map, we use the `sfo_data_df` DataFrame (created during the initial import), which includes the neighborhood location data with the average prices. To do all this, we complete the following steps:\n",
    "\n",
    "1. Read the `neighborhood_coordinates.csv` file from the `Resources` folder into the notebook, and create a DataFrame named `neighborhood_locations_df`. Be sure to set the `index_col` of the DataFrame as “Neighborhood”.\n",
    "\n",
    "2. Using the original `sfo_data_df` Dataframe, create a DataFrame named `all_neighborhood_info_df` that groups the data by neighborhood. Aggregate the results by the `mean` of the group.\n",
    "\n",
    "3. Review the two code cells that concatenate the `neighborhood_locations_df` DataFrame with the `all_neighborhood_info_df` DataFrame. Note that the first cell uses the [Pandas concat function](https://pandas.pydata.org/pandas-docs/stable/reference/api/pandas.concat.html) to create a DataFrame named `all_neighborhoods_df`. The second cell cleans the data and sets the “Neighborhood” column. Be sure to run these cells to create the `all_neighborhoods_df` DataFrame, which you’ll need to create the geospatial visualization.\n",
    "\n",
    "4. Using Plotly Express, create a `scatter_mapbox` for the `all_neighborhoods_df` DataFrame. Remember that you need your MapBox API key. Be sure to do the following:\n",
    "\n",
    "    * Set the `size` parameter to “sale_price_sqr_foot”.\n",
    "\n",
    "    * Set the `color` parameter to “gross_rent”.\n",
    "\n",
    "    * Set the `size_max` parameter to “25”.\n",
    "\n",
    "    * Set the `zoom` parameter to “11”.\n",
    "\n",
    "5. Style and format the line plot to ensure a professionally styled visualization.\n",
    "\n",
    "6. Note that your resulting plot should appear similar to the following image:\n",
    "\n",
    "![A screenshot depicts an example of a scatter plot created with the Mapbox API.](Images/mapbox-plot.png)\n",
    "\n",
    "7. Use the interactive map to answer the following question:\n",
    "\n",
    "    * Which neighborhood has the highest gross rent, and which has the highest sale price per square foot?\n",
    "\n"
   ]
  },
  {
   "cell_type": "markdown",
   "metadata": {},
   "source": [
    "### Step 1: Read the `neighborhood_coordinates.csv` file from the `Resources` folder into the notebook, and create a DataFrame named `neighborhood_locations_df`. Be sure to set the `index_col` of the DataFrame as “Neighborhood”."
   ]
  },
  {
   "cell_type": "code",
   "execution_count": 67,
   "metadata": {},
   "outputs": [
    {
     "data": {
      "text/html": [
       "<div>\n",
       "<style scoped>\n",
       "    .dataframe tbody tr th:only-of-type {\n",
       "        vertical-align: middle;\n",
       "    }\n",
       "\n",
       "    .dataframe tbody tr th {\n",
       "        vertical-align: top;\n",
       "    }\n",
       "\n",
       "    .dataframe thead th {\n",
       "        text-align: right;\n",
       "    }\n",
       "</style>\n",
       "<table border=\"1\" class=\"dataframe\">\n",
       "  <thead>\n",
       "    <tr style=\"text-align: right;\">\n",
       "      <th></th>\n",
       "      <th>Lat</th>\n",
       "      <th>Lon</th>\n",
       "    </tr>\n",
       "    <tr>\n",
       "      <th>Neighborhood</th>\n",
       "      <th></th>\n",
       "      <th></th>\n",
       "    </tr>\n",
       "  </thead>\n",
       "  <tbody>\n",
       "    <tr>\n",
       "      <th>Alamo Square</th>\n",
       "      <td>37.791012</td>\n",
       "      <td>-122.402100</td>\n",
       "    </tr>\n",
       "    <tr>\n",
       "      <th>Anza Vista</th>\n",
       "      <td>37.779598</td>\n",
       "      <td>-122.443451</td>\n",
       "    </tr>\n",
       "    <tr>\n",
       "      <th>Bayview</th>\n",
       "      <td>37.734670</td>\n",
       "      <td>-122.401060</td>\n",
       "    </tr>\n",
       "    <tr>\n",
       "      <th>Bayview Heights</th>\n",
       "      <td>37.728740</td>\n",
       "      <td>-122.410980</td>\n",
       "    </tr>\n",
       "    <tr>\n",
       "      <th>Bernal Heights</th>\n",
       "      <td>37.728630</td>\n",
       "      <td>-122.443050</td>\n",
       "    </tr>\n",
       "    <tr>\n",
       "      <th>...</th>\n",
       "      <td>...</td>\n",
       "      <td>...</td>\n",
       "    </tr>\n",
       "    <tr>\n",
       "      <th>West Portal</th>\n",
       "      <td>37.740260</td>\n",
       "      <td>-122.463880</td>\n",
       "    </tr>\n",
       "    <tr>\n",
       "      <th>Western Addition</th>\n",
       "      <td>37.792980</td>\n",
       "      <td>-122.435790</td>\n",
       "    </tr>\n",
       "    <tr>\n",
       "      <th>Westwood Highlands</th>\n",
       "      <td>37.734700</td>\n",
       "      <td>-122.456854</td>\n",
       "    </tr>\n",
       "    <tr>\n",
       "      <th>Westwood Park</th>\n",
       "      <td>37.734150</td>\n",
       "      <td>-122.457000</td>\n",
       "    </tr>\n",
       "    <tr>\n",
       "      <th>Yerba Buena</th>\n",
       "      <td>37.792980</td>\n",
       "      <td>-122.396360</td>\n",
       "    </tr>\n",
       "  </tbody>\n",
       "</table>\n",
       "<p>73 rows × 2 columns</p>\n",
       "</div>"
      ],
      "text/plain": [
       "                          Lat         Lon\n",
       "Neighborhood                             \n",
       "Alamo Square        37.791012 -122.402100\n",
       "Anza Vista          37.779598 -122.443451\n",
       "Bayview             37.734670 -122.401060\n",
       "Bayview Heights     37.728740 -122.410980\n",
       "Bernal Heights      37.728630 -122.443050\n",
       "...                       ...         ...\n",
       "West Portal         37.740260 -122.463880\n",
       "Western Addition    37.792980 -122.435790\n",
       "Westwood Highlands  37.734700 -122.456854\n",
       "Westwood Park       37.734150 -122.457000\n",
       "Yerba Buena         37.792980 -122.396360\n",
       "\n",
       "[73 rows x 2 columns]"
      ]
     },
     "execution_count": 67,
     "metadata": {},
     "output_type": "execute_result"
    }
   ],
   "source": [
    "# Load neighborhoods coordinates data\n",
    "neighborhood_locations_df = pd.read_csv(Path(\"Resources/neighborhoods_coordinates.csv\"), index_col=\"Neighborhood\")\n",
    "\n",
    "# Review the DataFrame\n",
    "neighborhood_locations_df\n"
   ]
  },
  {
   "cell_type": "markdown",
   "metadata": {},
   "source": [
    "### Step 2: Using the original `sfo_data_df` Dataframe, create a DataFrame named `all_neighborhood_info_df` that groups the data by neighborhood. Aggregate the results by the `mean` of the group."
   ]
  },
  {
   "cell_type": "code",
   "execution_count": 68,
   "metadata": {},
   "outputs": [
    {
     "data": {
      "text/html": [
       "<div>\n",
       "<style scoped>\n",
       "    .dataframe tbody tr th:only-of-type {\n",
       "        vertical-align: middle;\n",
       "    }\n",
       "\n",
       "    .dataframe tbody tr th {\n",
       "        vertical-align: top;\n",
       "    }\n",
       "\n",
       "    .dataframe thead th {\n",
       "        text-align: right;\n",
       "    }\n",
       "</style>\n",
       "<table border=\"1\" class=\"dataframe\">\n",
       "  <thead>\n",
       "    <tr style=\"text-align: right;\">\n",
       "      <th></th>\n",
       "      <th>sale_price_sqr_foot</th>\n",
       "      <th>housing_units</th>\n",
       "      <th>gross_rent</th>\n",
       "    </tr>\n",
       "    <tr>\n",
       "      <th>neighborhood</th>\n",
       "      <th></th>\n",
       "      <th></th>\n",
       "      <th></th>\n",
       "    </tr>\n",
       "  </thead>\n",
       "  <tbody>\n",
       "    <tr>\n",
       "      <th>Alamo Square</th>\n",
       "      <td>366.020712</td>\n",
       "      <td>378401.00</td>\n",
       "      <td>2817.285714</td>\n",
       "    </tr>\n",
       "    <tr>\n",
       "      <th>Anza Vista</th>\n",
       "      <td>373.382198</td>\n",
       "      <td>379050.00</td>\n",
       "      <td>3031.833333</td>\n",
       "    </tr>\n",
       "    <tr>\n",
       "      <th>Bayview</th>\n",
       "      <td>204.588623</td>\n",
       "      <td>376454.00</td>\n",
       "      <td>2318.400000</td>\n",
       "    </tr>\n",
       "    <tr>\n",
       "      <th>Bayview Heights</th>\n",
       "      <td>590.792839</td>\n",
       "      <td>382295.00</td>\n",
       "      <td>3739.000000</td>\n",
       "    </tr>\n",
       "    <tr>\n",
       "      <th>Bernal Heights</th>\n",
       "      <td>576.746488</td>\n",
       "      <td>379374.50</td>\n",
       "      <td>3080.333333</td>\n",
       "    </tr>\n",
       "    <tr>\n",
       "      <th>...</th>\n",
       "      <td>...</td>\n",
       "      <td>...</td>\n",
       "      <td>...</td>\n",
       "    </tr>\n",
       "    <tr>\n",
       "      <th>West Portal</th>\n",
       "      <td>498.488485</td>\n",
       "      <td>376940.75</td>\n",
       "      <td>2515.500000</td>\n",
       "    </tr>\n",
       "    <tr>\n",
       "      <th>Western Addition</th>\n",
       "      <td>307.562201</td>\n",
       "      <td>377427.50</td>\n",
       "      <td>2555.166667</td>\n",
       "    </tr>\n",
       "    <tr>\n",
       "      <th>Westwood Highlands</th>\n",
       "      <td>533.703935</td>\n",
       "      <td>376454.00</td>\n",
       "      <td>2250.500000</td>\n",
       "    </tr>\n",
       "    <tr>\n",
       "      <th>Westwood Park</th>\n",
       "      <td>687.087575</td>\n",
       "      <td>382295.00</td>\n",
       "      <td>3959.000000</td>\n",
       "    </tr>\n",
       "    <tr>\n",
       "      <th>Yerba Buena</th>\n",
       "      <td>576.709848</td>\n",
       "      <td>377427.50</td>\n",
       "      <td>2555.166667</td>\n",
       "    </tr>\n",
       "  </tbody>\n",
       "</table>\n",
       "<p>73 rows × 3 columns</p>\n",
       "</div>"
      ],
      "text/plain": [
       "                    sale_price_sqr_foot  housing_units   gross_rent\n",
       "neighborhood                                                       \n",
       "Alamo Square                 366.020712      378401.00  2817.285714\n",
       "Anza Vista                   373.382198      379050.00  3031.833333\n",
       "Bayview                      204.588623      376454.00  2318.400000\n",
       "Bayview Heights              590.792839      382295.00  3739.000000\n",
       "Bernal Heights               576.746488      379374.50  3080.333333\n",
       "...                                 ...            ...          ...\n",
       "West Portal                  498.488485      376940.75  2515.500000\n",
       "Western Addition             307.562201      377427.50  2555.166667\n",
       "Westwood Highlands           533.703935      376454.00  2250.500000\n",
       "Westwood Park                687.087575      382295.00  3959.000000\n",
       "Yerba Buena                  576.709848      377427.50  2555.166667\n",
       "\n",
       "[73 rows x 3 columns]"
      ]
     },
     "execution_count": 68,
     "metadata": {},
     "output_type": "execute_result"
    }
   ],
   "source": [
    "# Calculate the mean values for each neighborhood\n",
    "all_neighborhood_info_df = sfo_data_df.groupby(\"neighborhood\").mean()\n",
    "\n",
    "# Review the resulting DataFrame\n",
    "all_neighborhood_info_df \n"
   ]
  },
  {
   "cell_type": "markdown",
   "metadata": {},
   "source": [
    "### Step 3: Review the two code cells that concatenate the `neighborhood_locations_df` DataFrame with the `all_neighborhood_info_df` DataFrame. \n",
    "\n",
    "Note that the first cell uses the [Pandas concat function](https://pandas.pydata.org/pandas-docs/stable/reference/api/pandas.concat.html) to create a DataFrame named `all_neighborhoods_df`. \n",
    "\n",
    "The second cell cleans the data and sets the “Neighborhood” column. \n",
    "\n",
    "Be sure to run these cells to create the `all_neighborhoods_df` DataFrame, which you’ll need to create the geospatial visualization."
   ]
  },
  {
   "cell_type": "code",
   "execution_count": 73,
   "metadata": {},
   "outputs": [
    {
     "data": {
      "text/html": [
       "<div>\n",
       "<style scoped>\n",
       "    .dataframe tbody tr th:only-of-type {\n",
       "        vertical-align: middle;\n",
       "    }\n",
       "\n",
       "    .dataframe tbody tr th {\n",
       "        vertical-align: top;\n",
       "    }\n",
       "\n",
       "    .dataframe thead th {\n",
       "        text-align: right;\n",
       "    }\n",
       "</style>\n",
       "<table border=\"1\" class=\"dataframe\">\n",
       "  <thead>\n",
       "    <tr style=\"text-align: right;\">\n",
       "      <th></th>\n",
       "      <th>Lat</th>\n",
       "      <th>Lon</th>\n",
       "      <th>sale_price_sqr_foot</th>\n",
       "      <th>housing_units</th>\n",
       "      <th>gross_rent</th>\n",
       "    </tr>\n",
       "  </thead>\n",
       "  <tbody>\n",
       "    <tr>\n",
       "      <th>Alamo Square</th>\n",
       "      <td>37.791012</td>\n",
       "      <td>-122.402100</td>\n",
       "      <td>366.020712</td>\n",
       "      <td>378401.0</td>\n",
       "      <td>2817.285714</td>\n",
       "    </tr>\n",
       "    <tr>\n",
       "      <th>Anza Vista</th>\n",
       "      <td>37.779598</td>\n",
       "      <td>-122.443451</td>\n",
       "      <td>373.382198</td>\n",
       "      <td>379050.0</td>\n",
       "      <td>3031.833333</td>\n",
       "    </tr>\n",
       "    <tr>\n",
       "      <th>Bayview</th>\n",
       "      <td>37.734670</td>\n",
       "      <td>-122.401060</td>\n",
       "      <td>204.588623</td>\n",
       "      <td>376454.0</td>\n",
       "      <td>2318.400000</td>\n",
       "    </tr>\n",
       "    <tr>\n",
       "      <th>Bayview Heights</th>\n",
       "      <td>37.728740</td>\n",
       "      <td>-122.410980</td>\n",
       "      <td>590.792839</td>\n",
       "      <td>382295.0</td>\n",
       "      <td>3739.000000</td>\n",
       "    </tr>\n",
       "    <tr>\n",
       "      <th>Bernal Heights</th>\n",
       "      <td>37.728630</td>\n",
       "      <td>-122.443050</td>\n",
       "      <td>NaN</td>\n",
       "      <td>NaN</td>\n",
       "      <td>NaN</td>\n",
       "    </tr>\n",
       "  </tbody>\n",
       "</table>\n",
       "</div>"
      ],
      "text/plain": [
       "                       Lat         Lon  sale_price_sqr_foot  housing_units  \\\n",
       "Alamo Square     37.791012 -122.402100           366.020712       378401.0   \n",
       "Anza Vista       37.779598 -122.443451           373.382198       379050.0   \n",
       "Bayview          37.734670 -122.401060           204.588623       376454.0   \n",
       "Bayview Heights  37.728740 -122.410980           590.792839       382295.0   \n",
       "Bernal Heights   37.728630 -122.443050                  NaN            NaN   \n",
       "\n",
       "                  gross_rent  \n",
       "Alamo Square     2817.285714  \n",
       "Anza Vista       3031.833333  \n",
       "Bayview          2318.400000  \n",
       "Bayview Heights  3739.000000  \n",
       "Bernal Heights           NaN  "
      ]
     },
     "metadata": {},
     "output_type": "display_data"
    },
    {
     "data": {
      "text/html": [
       "<div>\n",
       "<style scoped>\n",
       "    .dataframe tbody tr th:only-of-type {\n",
       "        vertical-align: middle;\n",
       "    }\n",
       "\n",
       "    .dataframe tbody tr th {\n",
       "        vertical-align: top;\n",
       "    }\n",
       "\n",
       "    .dataframe thead th {\n",
       "        text-align: right;\n",
       "    }\n",
       "</style>\n",
       "<table border=\"1\" class=\"dataframe\">\n",
       "  <thead>\n",
       "    <tr style=\"text-align: right;\">\n",
       "      <th></th>\n",
       "      <th>Lat</th>\n",
       "      <th>Lon</th>\n",
       "      <th>sale_price_sqr_foot</th>\n",
       "      <th>housing_units</th>\n",
       "      <th>gross_rent</th>\n",
       "    </tr>\n",
       "  </thead>\n",
       "  <tbody>\n",
       "    <tr>\n",
       "      <th>Yerba Buena</th>\n",
       "      <td>37.79298</td>\n",
       "      <td>-122.39636</td>\n",
       "      <td>576.709848</td>\n",
       "      <td>377427.5</td>\n",
       "      <td>2555.166667</td>\n",
       "    </tr>\n",
       "    <tr>\n",
       "      <th>Bernal Heights</th>\n",
       "      <td>NaN</td>\n",
       "      <td>NaN</td>\n",
       "      <td>576.746488</td>\n",
       "      <td>379374.5</td>\n",
       "      <td>3080.333333</td>\n",
       "    </tr>\n",
       "    <tr>\n",
       "      <th>Downtown</th>\n",
       "      <td>NaN</td>\n",
       "      <td>NaN</td>\n",
       "      <td>391.434378</td>\n",
       "      <td>378401.0</td>\n",
       "      <td>2817.285714</td>\n",
       "    </tr>\n",
       "    <tr>\n",
       "      <th>Ingleside</th>\n",
       "      <td>NaN</td>\n",
       "      <td>NaN</td>\n",
       "      <td>367.895144</td>\n",
       "      <td>377427.5</td>\n",
       "      <td>2509.000000</td>\n",
       "    </tr>\n",
       "    <tr>\n",
       "      <th>Outer Richmond</th>\n",
       "      <td>NaN</td>\n",
       "      <td>NaN</td>\n",
       "      <td>473.900773</td>\n",
       "      <td>378401.0</td>\n",
       "      <td>2817.285714</td>\n",
       "    </tr>\n",
       "  </tbody>\n",
       "</table>\n",
       "</div>"
      ],
      "text/plain": [
       "                      Lat        Lon  sale_price_sqr_foot  housing_units  \\\n",
       "Yerba Buena      37.79298 -122.39636           576.709848       377427.5   \n",
       "Bernal Heights        NaN        NaN           576.746488       379374.5   \n",
       "Downtown              NaN        NaN           391.434378       378401.0   \n",
       "Ingleside             NaN        NaN           367.895144       377427.5   \n",
       "Outer Richmond        NaN        NaN           473.900773       378401.0   \n",
       "\n",
       "                  gross_rent  \n",
       "Yerba Buena      2555.166667  \n",
       "Bernal Heights   3080.333333  \n",
       "Downtown         2817.285714  \n",
       "Ingleside        2509.000000  \n",
       "Outer Richmond   2817.285714  "
      ]
     },
     "metadata": {},
     "output_type": "display_data"
    }
   ],
   "source": [
    "# Using the Pandas `concat` function, join the \n",
    "# neighborhood_locations_df and the all_neighborhood_info_df DataFrame\n",
    "# The axis of the concatenation is \"columns\".\n",
    "# The concat function will automatially combine columns with\n",
    "# identical information, while keeping the additional columns.\n",
    "all_neighborhoods_df = pd.concat(\n",
    "    [neighborhood_locations_df, all_neighborhood_info_df], \n",
    "    axis=\"columns\",\n",
    "    sort=False\n",
    ")\n",
    "\n",
    "# Review the resulting DataFrame\n",
    "display(all_neighborhoods_df.head())\n",
    "display(all_neighborhoods_df.tail())\n"
   ]
  },
  {
   "cell_type": "code",
   "execution_count": 74,
   "metadata": {},
   "outputs": [
    {
     "data": {
      "text/html": [
       "<div>\n",
       "<style scoped>\n",
       "    .dataframe tbody tr th:only-of-type {\n",
       "        vertical-align: middle;\n",
       "    }\n",
       "\n",
       "    .dataframe tbody tr th {\n",
       "        vertical-align: top;\n",
       "    }\n",
       "\n",
       "    .dataframe thead th {\n",
       "        text-align: right;\n",
       "    }\n",
       "</style>\n",
       "<table border=\"1\" class=\"dataframe\">\n",
       "  <thead>\n",
       "    <tr style=\"text-align: right;\">\n",
       "      <th></th>\n",
       "      <th>Neighborhood</th>\n",
       "      <th>Lat</th>\n",
       "      <th>Lon</th>\n",
       "      <th>sale_price_sqr_foot</th>\n",
       "      <th>housing_units</th>\n",
       "      <th>gross_rent</th>\n",
       "    </tr>\n",
       "  </thead>\n",
       "  <tbody>\n",
       "    <tr>\n",
       "      <th>0</th>\n",
       "      <td>Alamo Square</td>\n",
       "      <td>37.791012</td>\n",
       "      <td>-122.402100</td>\n",
       "      <td>366.020712</td>\n",
       "      <td>378401.0</td>\n",
       "      <td>2817.285714</td>\n",
       "    </tr>\n",
       "    <tr>\n",
       "      <th>1</th>\n",
       "      <td>Anza Vista</td>\n",
       "      <td>37.779598</td>\n",
       "      <td>-122.443451</td>\n",
       "      <td>373.382198</td>\n",
       "      <td>379050.0</td>\n",
       "      <td>3031.833333</td>\n",
       "    </tr>\n",
       "    <tr>\n",
       "      <th>2</th>\n",
       "      <td>Bayview</td>\n",
       "      <td>37.734670</td>\n",
       "      <td>-122.401060</td>\n",
       "      <td>204.588623</td>\n",
       "      <td>376454.0</td>\n",
       "      <td>2318.400000</td>\n",
       "    </tr>\n",
       "    <tr>\n",
       "      <th>3</th>\n",
       "      <td>Bayview Heights</td>\n",
       "      <td>37.728740</td>\n",
       "      <td>-122.410980</td>\n",
       "      <td>590.792839</td>\n",
       "      <td>382295.0</td>\n",
       "      <td>3739.000000</td>\n",
       "    </tr>\n",
       "    <tr>\n",
       "      <th>5</th>\n",
       "      <td>Buena Vista Park</td>\n",
       "      <td>37.768160</td>\n",
       "      <td>-122.439330</td>\n",
       "      <td>452.680591</td>\n",
       "      <td>378076.5</td>\n",
       "      <td>2698.833333</td>\n",
       "    </tr>\n",
       "  </tbody>\n",
       "</table>\n",
       "</div>"
      ],
      "text/plain": [
       "       Neighborhood        Lat         Lon  sale_price_sqr_foot  \\\n",
       "0      Alamo Square  37.791012 -122.402100           366.020712   \n",
       "1        Anza Vista  37.779598 -122.443451           373.382198   \n",
       "2           Bayview  37.734670 -122.401060           204.588623   \n",
       "3   Bayview Heights  37.728740 -122.410980           590.792839   \n",
       "5  Buena Vista Park  37.768160 -122.439330           452.680591   \n",
       "\n",
       "   housing_units   gross_rent  \n",
       "0       378401.0  2817.285714  \n",
       "1       379050.0  3031.833333  \n",
       "2       376454.0  2318.400000  \n",
       "3       382295.0  3739.000000  \n",
       "5       378076.5  2698.833333  "
      ]
     },
     "metadata": {},
     "output_type": "display_data"
    },
    {
     "data": {
      "text/html": [
       "<div>\n",
       "<style scoped>\n",
       "    .dataframe tbody tr th:only-of-type {\n",
       "        vertical-align: middle;\n",
       "    }\n",
       "\n",
       "    .dataframe tbody tr th {\n",
       "        vertical-align: top;\n",
       "    }\n",
       "\n",
       "    .dataframe thead th {\n",
       "        text-align: right;\n",
       "    }\n",
       "</style>\n",
       "<table border=\"1\" class=\"dataframe\">\n",
       "  <thead>\n",
       "    <tr style=\"text-align: right;\">\n",
       "      <th></th>\n",
       "      <th>Neighborhood</th>\n",
       "      <th>Lat</th>\n",
       "      <th>Lon</th>\n",
       "      <th>sale_price_sqr_foot</th>\n",
       "      <th>housing_units</th>\n",
       "      <th>gross_rent</th>\n",
       "    </tr>\n",
       "  </thead>\n",
       "  <tbody>\n",
       "    <tr>\n",
       "      <th>68</th>\n",
       "      <td>West Portal</td>\n",
       "      <td>37.74026</td>\n",
       "      <td>-122.463880</td>\n",
       "      <td>498.488485</td>\n",
       "      <td>376940.75</td>\n",
       "      <td>2515.500000</td>\n",
       "    </tr>\n",
       "    <tr>\n",
       "      <th>69</th>\n",
       "      <td>Western Addition</td>\n",
       "      <td>37.79298</td>\n",
       "      <td>-122.435790</td>\n",
       "      <td>307.562201</td>\n",
       "      <td>377427.50</td>\n",
       "      <td>2555.166667</td>\n",
       "    </tr>\n",
       "    <tr>\n",
       "      <th>70</th>\n",
       "      <td>Westwood Highlands</td>\n",
       "      <td>37.73470</td>\n",
       "      <td>-122.456854</td>\n",
       "      <td>533.703935</td>\n",
       "      <td>376454.00</td>\n",
       "      <td>2250.500000</td>\n",
       "    </tr>\n",
       "    <tr>\n",
       "      <th>71</th>\n",
       "      <td>Westwood Park</td>\n",
       "      <td>37.73415</td>\n",
       "      <td>-122.457000</td>\n",
       "      <td>687.087575</td>\n",
       "      <td>382295.00</td>\n",
       "      <td>3959.000000</td>\n",
       "    </tr>\n",
       "    <tr>\n",
       "      <th>72</th>\n",
       "      <td>Yerba Buena</td>\n",
       "      <td>37.79298</td>\n",
       "      <td>-122.396360</td>\n",
       "      <td>576.709848</td>\n",
       "      <td>377427.50</td>\n",
       "      <td>2555.166667</td>\n",
       "    </tr>\n",
       "  </tbody>\n",
       "</table>\n",
       "</div>"
      ],
      "text/plain": [
       "          Neighborhood       Lat         Lon  sale_price_sqr_foot  \\\n",
       "68         West Portal  37.74026 -122.463880           498.488485   \n",
       "69    Western Addition  37.79298 -122.435790           307.562201   \n",
       "70  Westwood Highlands  37.73470 -122.456854           533.703935   \n",
       "71       Westwood Park  37.73415 -122.457000           687.087575   \n",
       "72         Yerba Buena  37.79298 -122.396360           576.709848   \n",
       "\n",
       "    housing_units   gross_rent  \n",
       "68      376940.75  2515.500000  \n",
       "69      377427.50  2555.166667  \n",
       "70      376454.00  2250.500000  \n",
       "71      382295.00  3959.000000  \n",
       "72      377427.50  2555.166667  "
      ]
     },
     "metadata": {},
     "output_type": "display_data"
    }
   ],
   "source": [
    "# Call the dropna function to remove any neighborhoods that do not have data\n",
    "#all_neighborhoods_df = all_neighborhoods_df.dropna()\n",
    "all_neighborhoods_df = all_neighborhoods_df.reset_index().dropna()\n",
    "\n",
    "\n",
    "# Rename the \"index\" column as \"Neighborhood\" for use in the Visualization\n",
    "all_neighborhoods_df = all_neighborhoods_df.rename(columns={\"index\": \"Neighborhood\"})\n",
    "\n",
    "# Review the resulting DataFrame\n",
    "display(all_neighborhoods_df.head())\n",
    "display(all_neighborhoods_df.tail())\n",
    "\n"
   ]
  },
  {
   "cell_type": "code",
   "execution_count": 75,
   "metadata": {},
   "outputs": [
    {
     "data": {
      "text/html": [
       "<div>\n",
       "<style scoped>\n",
       "    .dataframe tbody tr th:only-of-type {\n",
       "        vertical-align: middle;\n",
       "    }\n",
       "\n",
       "    .dataframe tbody tr th {\n",
       "        vertical-align: top;\n",
       "    }\n",
       "\n",
       "    .dataframe thead th {\n",
       "        text-align: right;\n",
       "    }\n",
       "</style>\n",
       "<table border=\"1\" class=\"dataframe\">\n",
       "  <thead>\n",
       "    <tr style=\"text-align: right;\">\n",
       "      <th></th>\n",
       "      <th>Neighborhood</th>\n",
       "      <th>Lat</th>\n",
       "      <th>Lon</th>\n",
       "      <th>sale_price_sqr_foot</th>\n",
       "      <th>housing_units</th>\n",
       "      <th>gross_rent</th>\n",
       "    </tr>\n",
       "  </thead>\n",
       "  <tbody>\n",
       "    <tr>\n",
       "      <th>19</th>\n",
       "      <td>Forest Knolls</td>\n",
       "      <td>37.75706</td>\n",
       "      <td>-122.455090</td>\n",
       "      <td>321.840837</td>\n",
       "      <td>374507.00</td>\n",
       "      <td>1781.50</td>\n",
       "    </tr>\n",
       "    <tr>\n",
       "      <th>12</th>\n",
       "      <td>Diamond Heights</td>\n",
       "      <td>37.72863</td>\n",
       "      <td>-122.443050</td>\n",
       "      <td>434.991739</td>\n",
       "      <td>375480.50</td>\n",
       "      <td>2016.00</td>\n",
       "    </tr>\n",
       "    <tr>\n",
       "      <th>60</th>\n",
       "      <td>South Beach</td>\n",
       "      <td>37.78323</td>\n",
       "      <td>-122.400650</td>\n",
       "      <td>650.124479</td>\n",
       "      <td>375805.00</td>\n",
       "      <td>2099.00</td>\n",
       "    </tr>\n",
       "    <tr>\n",
       "      <th>38</th>\n",
       "      <td>Miraloma Park</td>\n",
       "      <td>37.73415</td>\n",
       "      <td>-122.457000</td>\n",
       "      <td>779.810842</td>\n",
       "      <td>375967.25</td>\n",
       "      <td>2155.25</td>\n",
       "    </tr>\n",
       "    <tr>\n",
       "      <th>70</th>\n",
       "      <td>Westwood Highlands</td>\n",
       "      <td>37.73470</td>\n",
       "      <td>-122.456854</td>\n",
       "      <td>533.703935</td>\n",
       "      <td>376454.00</td>\n",
       "      <td>2250.50</td>\n",
       "    </tr>\n",
       "    <tr>\n",
       "      <th>...</th>\n",
       "      <td>...</td>\n",
       "      <td>...</td>\n",
       "      <td>...</td>\n",
       "      <td>...</td>\n",
       "      <td>...</td>\n",
       "      <td>...</td>\n",
       "    </tr>\n",
       "    <tr>\n",
       "      <th>36</th>\n",
       "      <td>Merced Heights</td>\n",
       "      <td>37.71993</td>\n",
       "      <td>-122.465950</td>\n",
       "      <td>788.844818</td>\n",
       "      <td>380348.00</td>\n",
       "      <td>3414.00</td>\n",
       "    </tr>\n",
       "    <tr>\n",
       "      <th>59</th>\n",
       "      <td>Silver Terrace</td>\n",
       "      <td>37.73467</td>\n",
       "      <td>-122.401060</td>\n",
       "      <td>170.292549</td>\n",
       "      <td>380348.00</td>\n",
       "      <td>3528.00</td>\n",
       "    </tr>\n",
       "    <tr>\n",
       "      <th>67</th>\n",
       "      <td>Visitacion Valley</td>\n",
       "      <td>37.72874</td>\n",
       "      <td>-122.410980</td>\n",
       "      <td>301.466180</td>\n",
       "      <td>381321.50</td>\n",
       "      <td>3657.00</td>\n",
       "    </tr>\n",
       "    <tr>\n",
       "      <th>3</th>\n",
       "      <td>Bayview Heights</td>\n",
       "      <td>37.72874</td>\n",
       "      <td>-122.410980</td>\n",
       "      <td>590.792839</td>\n",
       "      <td>382295.00</td>\n",
       "      <td>3739.00</td>\n",
       "    </tr>\n",
       "    <tr>\n",
       "      <th>71</th>\n",
       "      <td>Westwood Park</td>\n",
       "      <td>37.73415</td>\n",
       "      <td>-122.457000</td>\n",
       "      <td>687.087575</td>\n",
       "      <td>382295.00</td>\n",
       "      <td>3959.00</td>\n",
       "    </tr>\n",
       "  </tbody>\n",
       "</table>\n",
       "<p>69 rows × 6 columns</p>\n",
       "</div>"
      ],
      "text/plain": [
       "          Neighborhood       Lat         Lon  sale_price_sqr_foot  \\\n",
       "19       Forest Knolls  37.75706 -122.455090           321.840837   \n",
       "12     Diamond Heights  37.72863 -122.443050           434.991739   \n",
       "60         South Beach  37.78323 -122.400650           650.124479   \n",
       "38       Miraloma Park  37.73415 -122.457000           779.810842   \n",
       "70  Westwood Highlands  37.73470 -122.456854           533.703935   \n",
       "..                 ...       ...         ...                  ...   \n",
       "36      Merced Heights  37.71993 -122.465950           788.844818   \n",
       "59      Silver Terrace  37.73467 -122.401060           170.292549   \n",
       "67   Visitacion Valley  37.72874 -122.410980           301.466180   \n",
       "3      Bayview Heights  37.72874 -122.410980           590.792839   \n",
       "71       Westwood Park  37.73415 -122.457000           687.087575   \n",
       "\n",
       "    housing_units  gross_rent  \n",
       "19      374507.00     1781.50  \n",
       "12      375480.50     2016.00  \n",
       "60      375805.00     2099.00  \n",
       "38      375967.25     2155.25  \n",
       "70      376454.00     2250.50  \n",
       "..            ...         ...  \n",
       "36      380348.00     3414.00  \n",
       "59      380348.00     3528.00  \n",
       "67      381321.50     3657.00  \n",
       "3       382295.00     3739.00  \n",
       "71      382295.00     3959.00  \n",
       "\n",
       "[69 rows x 6 columns]"
      ]
     },
     "execution_count": 75,
     "metadata": {},
     "output_type": "execute_result"
    }
   ],
   "source": [
    "all_neighborhoods_df.sort_values(\"gross_rent\")"
   ]
  },
  {
   "cell_type": "markdown",
   "metadata": {},
   "source": [
    "### Step 4: Using Plotly Express, create a `scatter_mapbox` for the `all_neighborhoods_df` DataFrame. Remember that you need your MapBox API key. Be sure to do the following:\n",
    "\n",
    "    * Set the `size` parameter to “sale_price_sqr_foot”.\n",
    "    * Set the `color` parameter to “gross_rent”.\n",
    "    * Set the `size_max` parameter to “25”.\n",
    "    * Set the `zoom` parameter to “11”.\n",
    "\n",
    "### Step 5: Style and format the line plot to ensure a professionally styled visualization.\n"
   ]
  },
  {
   "cell_type": "code",
   "execution_count": 76,
   "metadata": {},
   "outputs": [
    {
     "data": {
      "application/vnd.plotly.v1+json": {
       "config": {
        "plotlyServerURL": "https://plot.ly"
       },
       "data": [
        {
         "customdata": [
          [
           37.791012,
           -122.4021,
           366.02071153227644,
           2817.285714285714
          ],
          [
           37.779598,
           -122.443451,
           373.38219782647707,
           3031.8333333333335
          ],
          [
           37.73467,
           -122.40106,
           204.58862288246596,
           2318.4
          ],
          [
           37.72874,
           -122.41098,
           590.7928388746803,
           3739
          ],
          [
           37.76816,
           -122.43933,
           452.6805909308441,
           2698.8333333333335
          ],
          [
           37.77789,
           -122.44517,
           394.42239878005887,
           2817.285714285714
          ],
          [
           37.74961,
           -122.48999,
           423.6879277015824,
           2817.285714285714
          ],
          [
           37.75331,
           -122.44703,
           487.2448860262576,
           2250.5
          ],
          [
           37.78553,
           -122.456,
           587.5390673661739,
           2472
          ],
          [
           37.79298,
           -122.43579,
           665.9640415783227,
           2817.285714285714
          ],
          [
           37.7228,
           -122.43869,
           303.00418440849427,
           2698.8333333333335
          ],
          [
           37.72863,
           -122.44305,
           434.99173944522124,
           2016
          ],
          [
           37.76964,
           -122.42611,
           502.59915555623616,
           2780.25
          ],
          [
           37.75554,
           -122.43779,
           642.2486706357391,
           2817.285714285714
          ],
          [
           37.72874,
           -122.41098,
           388.7659270023075,
           3031.8333333333335
          ],
          [
           37.79101,
           -122.4021,
           391.36253308010487,
           2817.285714285714
          ],
          [
           37.79101,
           -122.4021,
           455.83621223779153,
           2472
          ],
          [
           37.75706,
           -122.45509,
           321.84083657398736,
           1781.5
          ],
          [
           37.72863,
           -122.44305,
           623.8261775374349,
           2899.5
          ],
          [
           37.757912,
           -122.46402,
           639.3935574881154,
           2601.4
          ],
          [
           37.76525,
           -122.43596,
           449.5447622856192,
           2817.285714285714
          ],
          [
           37.76525,
           -122.43596,
           355.93282794805776,
           2817.285714285714
          ],
          [
           37.72551,
           -122.37178,
           170.62491987132685,
           2489
          ],
          [
           37.72116,
           -122.48707,
           384.7979281346047,
           2960
          ],
          [
           37.75416,
           -122.41947,
           397.67371473613446,
           2817.285714285714
          ],
          [
           37.74961,
           -122.48999,
           519.3856038526768,
           3224
          ],
          [
           37.769112,
           -122.483566,
           378.59431396136455,
           2817.285714285714
          ],
          [
           37.74961,
           -122.48997,
           413.66751546215943,
           2817.285714285714
          ],
          [
           37.78553,
           -122.456,
           529.3841850673389,
           2817.285714285714
          ],
          [
           37.80152,
           -122.45457,
           409.95435219297514,
           2555.1666666666665
          ],
          [
           37.7789,
           -122.45496,
           478.2285530213679,
           2555.1666666666665
          ],
          [
           37.79298,
           -122.43579,
           539.237968878326,
           2817.285714285714
          ],
          [
           37.79972,
           -122.46689,
           583.7492694814548,
           2817.285714285714
          ],
          [
           37.71993,
           -122.46595,
           788.8448175872469,
           3414
          ],
          [
           37.75331,
           -122.44703,
           550.5103482917151,
           2647.5
          ],
          [
           37.73415,
           -122.457,
           779.810842264425,
           2155.25
          ],
          [
           37.78323,
           -122.40065,
           566.1922135483312,
           2663.6666666666665
          ],
          [
           37.75184,
           -122.42522,
           418.9156225067234,
           2555.1666666666665
          ],
          [
           37.72863,
           -122.44305,
           523.4662013248023,
           3173.4
          ],
          [
           37.79298,
           -122.43579,
           458.2040944846015,
           2817.285714285714
          ],
          [
           37.75331,
           -122.44703,
           542.4429128151736,
           2817.285714285714
          ],
          [
           37.80055,
           -122.40433,
           411.646875881678,
           2990.8
          ],
          [
           37.80055,
           -122.40433,
           498.2697550078768,
           2818.4
          ],
          [
           37.71993,
           -122.46595,
           330.0973846552545,
           2434
          ],
          [
           37.7228,
           -122.43869,
           242.37095202049665,
           2995.75
          ],
          [
           37.7517,
           -122.446,
           485.0270126111035,
           2817.285714285714
          ],
          [
           37.74961,
           -122.48999,
           394.21903228550775,
           2817.285714285714
          ],
          [
           37.79298,
           -122.43579,
           689.5558168113663,
           2817.285714285714
          ],
          [
           37.72838,
           -122.47851,
           373.732856371763,
           2817.285714285714
          ],
          [
           37.74961,
           -122.48999,
           336.172661037069,
           2555.1666666666665
          ],
          [
           37.76355,
           -122.45765,
           632.740453508577,
           2817.285714285714
          ],
          [
           37.73467,
           -122.40106,
           327.11392534647274,
           2318.4
          ],
          [
           37.73196,
           -122.38324,
           662.0136128276529,
           2817.285714285714
          ],
          [
           37.78553,
           -122.456,
           675.3502120510033,
           2817.285714285714
          ],
          [
           37.79298,
           -122.43579,
           608.9832172374425,
           2817.285714285714
          ],
          [
           37.73467,
           -122.40106,
           170.2925485152069,
           3528
          ],
          [
           37.78323,
           -122.40065,
           650.1244791945729,
           2099
          ],
          [
           37.79101,
           -122.4021,
           570.2714266991687,
           2817.285714285714
          ],
          [
           37.73415,
           -122.457,
           528.3183317138463,
           2899.5
          ],
          [
           37.80055,
           -122.40433,
           676.5065775293255,
           2817.285714285714
          ],
          [
           37.753311,
           -122.447029,
           469.39862649935156,
           2817.285714285714
          ],
          [
           37.79101,
           -122.4021,
           903.9932576720645,
           2555.1666666666665
          ],
          [
           37.77951,
           -122.42022,
           404.1501801622257,
           2817.285714285714
          ],
          [
           37.72874,
           -122.41098,
           301.46617997450267,
           3657
          ],
          [
           37.74026,
           -122.46388,
           498.48848482950103,
           2515.5
          ],
          [
           37.79298,
           -122.43579,
           307.5622009799608,
           2555.1666666666665
          ],
          [
           37.7347,
           -122.456854,
           533.7039354359513,
           2250.5
          ],
          [
           37.73415,
           -122.457,
           687.0875745178322,
           3959
          ],
          [
           37.79298,
           -122.39636,
           576.709848378276,
           2555.1666666666665
          ]
         ],
         "hovertemplate": "<b>%{hovertext}</b><br><br>Sale Price per Square Foot=%{customdata[2]:.0f}<br>Gross Monthly Rent=%{marker.color:,.0f}<extra></extra>",
         "hovertext": [
          "Alamo Square",
          "Anza Vista",
          "Bayview",
          "Bayview Heights",
          "Buena Vista Park",
          "Central Richmond",
          "Central Sunset",
          "Clarendon Heights",
          "Corona Heights",
          "Cow Hollow",
          "Croker Amazon",
          "Diamond Heights",
          "Duboce Triangle",
          "Eureka Valley/Dolores Heights",
          "Excelsior",
          "Financial District North",
          "Financial District South",
          "Forest Knolls",
          "Glen Park",
          "Golden Gate Heights",
          "Haight Ashbury",
          "Hayes Valley",
          "Hunters Point",
          "Ingleside Heights",
          "Inner Mission",
          "Inner Parkside",
          "Inner Richmond",
          "Inner Sunset",
          "Jordan Park/Laurel Heights",
          "Lake --The Presidio",
          "Lone Mountain",
          "Lower Pacific Heights",
          "Marina",
          "Merced Heights",
          "Midtown Terrace",
          "Miraloma Park",
          "Mission Bay",
          "Mission Dolores",
          "Mission Terrace",
          "Nob Hill",
          "Noe Valley",
          "North Beach",
          "North Waterfront",
          "Oceanview",
          "Outer Mission",
          "Outer Parkside",
          "Outer Sunset",
          "Pacific Heights",
          "Park North",
          "Parkside",
          "Parnassus/Ashbury Heights",
          "Portola",
          "Potrero Hill",
          "Presidio Heights",
          "Russian Hill",
          "Silver Terrace",
          "South Beach",
          "South of Market",
          "Sunnyside",
          "Telegraph Hill",
          "Twin Peaks",
          "Union Square District",
          "Van Ness/ Civic Center",
          "Visitacion Valley",
          "West Portal",
          "Western Addition",
          "Westwood Highlands",
          "Westwood Park",
          "Yerba Buena"
         ],
         "lat": [
          37.791012,
          37.779598,
          37.73467,
          37.72874,
          37.76816,
          37.77789,
          37.74961,
          37.75331,
          37.78553,
          37.79298,
          37.7228,
          37.72863,
          37.76964,
          37.75554,
          37.72874,
          37.79101,
          37.79101,
          37.75706,
          37.72863,
          37.757912,
          37.76525,
          37.76525,
          37.72551,
          37.72116,
          37.75416,
          37.74961,
          37.769112,
          37.74961,
          37.78553,
          37.80152,
          37.7789,
          37.79298,
          37.79972,
          37.71993,
          37.75331,
          37.73415,
          37.78323,
          37.75184,
          37.72863,
          37.79298,
          37.75331,
          37.80055,
          37.80055,
          37.71993,
          37.7228,
          37.7517,
          37.74961,
          37.79298,
          37.72838,
          37.74961,
          37.76355,
          37.73467,
          37.73196,
          37.78553,
          37.79298,
          37.73467,
          37.78323,
          37.79101,
          37.73415,
          37.80055,
          37.753311,
          37.79101,
          37.77951,
          37.72874,
          37.74026,
          37.79298,
          37.7347,
          37.73415,
          37.79298
         ],
         "legendgroup": "",
         "lon": [
          -122.4021,
          -122.443451,
          -122.40106,
          -122.41098,
          -122.43933,
          -122.44517,
          -122.48999,
          -122.44703,
          -122.456,
          -122.43579,
          -122.43869,
          -122.44305,
          -122.42611,
          -122.43779,
          -122.41098,
          -122.4021,
          -122.4021,
          -122.45509,
          -122.44305,
          -122.46402,
          -122.43596,
          -122.43596,
          -122.37178,
          -122.48707,
          -122.41947,
          -122.48999,
          -122.483566,
          -122.48997,
          -122.456,
          -122.45457,
          -122.45496,
          -122.43579,
          -122.46689,
          -122.46595,
          -122.44703,
          -122.457,
          -122.40065,
          -122.42522,
          -122.44305,
          -122.43579,
          -122.44703,
          -122.40433,
          -122.40433,
          -122.46595,
          -122.43869,
          -122.446,
          -122.48999,
          -122.43579,
          -122.47851,
          -122.48999,
          -122.45765,
          -122.40106,
          -122.38324,
          -122.456,
          -122.43579,
          -122.40106,
          -122.40065,
          -122.4021,
          -122.457,
          -122.40433,
          -122.447029,
          -122.4021,
          -122.42022,
          -122.41098,
          -122.46388,
          -122.43579,
          -122.456854,
          -122.457,
          -122.39636
         ],
         "marker": {
          "color": [
           2817.285714285714,
           3031.8333333333335,
           2318.4,
           3739,
           2698.8333333333335,
           2817.285714285714,
           2817.285714285714,
           2250.5,
           2472,
           2817.285714285714,
           2698.8333333333335,
           2016,
           2780.25,
           2817.285714285714,
           3031.8333333333335,
           2817.285714285714,
           2472,
           1781.5,
           2899.5,
           2601.4,
           2817.285714285714,
           2817.285714285714,
           2489,
           2960,
           2817.285714285714,
           3224,
           2817.285714285714,
           2817.285714285714,
           2817.285714285714,
           2555.1666666666665,
           2555.1666666666665,
           2817.285714285714,
           2817.285714285714,
           3414,
           2647.5,
           2155.25,
           2663.6666666666665,
           2555.1666666666665,
           3173.4,
           2817.285714285714,
           2817.285714285714,
           2990.8,
           2818.4,
           2434,
           2995.75,
           2817.285714285714,
           2817.285714285714,
           2817.285714285714,
           2817.285714285714,
           2555.1666666666665,
           2817.285714285714,
           2318.4,
           2817.285714285714,
           2817.285714285714,
           2817.285714285714,
           3528,
           2099,
           2817.285714285714,
           2899.5,
           2817.285714285714,
           2817.285714285714,
           2555.1666666666665,
           2817.285714285714,
           3657,
           2515.5,
           2555.1666666666665,
           2250.5,
           3959,
           2555.1666666666665
          ],
          "coloraxis": "coloraxis",
          "size": [
           366.02071153227644,
           373.38219782647707,
           204.58862288246596,
           590.7928388746803,
           452.6805909308441,
           394.42239878005887,
           423.6879277015824,
           487.2448860262576,
           587.5390673661739,
           665.9640415783227,
           303.00418440849427,
           434.99173944522124,
           502.59915555623616,
           642.2486706357391,
           388.7659270023075,
           391.36253308010487,
           455.83621223779153,
           321.84083657398736,
           623.8261775374349,
           639.3935574881154,
           449.5447622856192,
           355.93282794805776,
           170.62491987132685,
           384.7979281346047,
           397.67371473613446,
           519.3856038526768,
           378.59431396136455,
           413.66751546215943,
           529.3841850673389,
           409.95435219297514,
           478.2285530213679,
           539.237968878326,
           583.7492694814548,
           788.8448175872469,
           550.5103482917151,
           779.810842264425,
           566.1922135483312,
           418.9156225067234,
           523.4662013248023,
           458.2040944846015,
           542.4429128151736,
           411.646875881678,
           498.2697550078768,
           330.0973846552545,
           242.37095202049665,
           485.0270126111035,
           394.21903228550775,
           689.5558168113663,
           373.732856371763,
           336.172661037069,
           632.740453508577,
           327.11392534647274,
           662.0136128276529,
           675.3502120510033,
           608.9832172374425,
           170.2925485152069,
           650.1244791945729,
           570.2714266991687,
           528.3183317138463,
           676.5065775293255,
           469.39862649935156,
           903.9932576720645,
           404.1501801622257,
           301.46617997450267,
           498.48848482950103,
           307.5622009799608,
           533.7039354359513,
           687.0875745178322,
           576.709848378276
          ],
          "sizemode": "area",
          "sizeref": 1.4463892122753033
         },
         "mode": "markers",
         "name": "",
         "showlegend": false,
         "subplot": "mapbox",
         "type": "scattermapbox"
        }
       ],
       "layout": {
        "coloraxis": {
         "colorbar": {
          "title": {
           "text": "Gross Monthly Rent"
          }
         },
         "colorscale": [
          [
           0,
           "rgb(255,245,240)"
          ],
          [
           0.125,
           "rgb(254,224,210)"
          ],
          [
           0.25,
           "rgb(252,187,161)"
          ],
          [
           0.375,
           "rgb(252,146,114)"
          ],
          [
           0.5,
           "rgb(251,106,74)"
          ],
          [
           0.625,
           "rgb(239,59,44)"
          ],
          [
           0.75,
           "rgb(203,24,29)"
          ],
          [
           0.875,
           "rgb(165,15,21)"
          ],
          [
           1,
           "rgb(103,0,13)"
          ]
         ]
        },
        "height": 750,
        "legend": {
         "itemsizing": "constant",
         "tracegroupgap": 0
        },
        "mapbox": {
         "accesstoken": "pk.eyJ1IjoicGFvY2FydmFqYWwxOTEyIiwiYSI6ImNrcmp6dHRreTB2Z2IycWtkMm1mc2UyMmUifQ.cwTJWo6ZFpjLAqRGyVjqFw",
         "bearing": 0,
         "center": {
          "lat": 37.74495893073356,
          "lon": -122.42934012281262
         },
         "domain": {
          "x": [
           0,
           1
          ],
          "y": [
           0,
           1
          ]
         },
         "pitch": 0,
         "zoom": 10.661102696128399
        },
        "template": {
         "data": {
          "bar": [
           {
            "error_x": {
             "color": "#2a3f5f"
            },
            "error_y": {
             "color": "#2a3f5f"
            },
            "marker": {
             "line": {
              "color": "#E5ECF6",
              "width": 0.5
             }
            },
            "type": "bar"
           }
          ],
          "barpolar": [
           {
            "marker": {
             "line": {
              "color": "#E5ECF6",
              "width": 0.5
             }
            },
            "type": "barpolar"
           }
          ],
          "carpet": [
           {
            "aaxis": {
             "endlinecolor": "#2a3f5f",
             "gridcolor": "white",
             "linecolor": "white",
             "minorgridcolor": "white",
             "startlinecolor": "#2a3f5f"
            },
            "baxis": {
             "endlinecolor": "#2a3f5f",
             "gridcolor": "white",
             "linecolor": "white",
             "minorgridcolor": "white",
             "startlinecolor": "#2a3f5f"
            },
            "type": "carpet"
           }
          ],
          "choropleth": [
           {
            "colorbar": {
             "outlinewidth": 0,
             "ticks": ""
            },
            "type": "choropleth"
           }
          ],
          "contour": [
           {
            "colorbar": {
             "outlinewidth": 0,
             "ticks": ""
            },
            "colorscale": [
             [
              0,
              "#0d0887"
             ],
             [
              0.1111111111111111,
              "#46039f"
             ],
             [
              0.2222222222222222,
              "#7201a8"
             ],
             [
              0.3333333333333333,
              "#9c179e"
             ],
             [
              0.4444444444444444,
              "#bd3786"
             ],
             [
              0.5555555555555556,
              "#d8576b"
             ],
             [
              0.6666666666666666,
              "#ed7953"
             ],
             [
              0.7777777777777778,
              "#fb9f3a"
             ],
             [
              0.8888888888888888,
              "#fdca26"
             ],
             [
              1,
              "#f0f921"
             ]
            ],
            "type": "contour"
           }
          ],
          "contourcarpet": [
           {
            "colorbar": {
             "outlinewidth": 0,
             "ticks": ""
            },
            "type": "contourcarpet"
           }
          ],
          "heatmap": [
           {
            "colorbar": {
             "outlinewidth": 0,
             "ticks": ""
            },
            "colorscale": [
             [
              0,
              "#0d0887"
             ],
             [
              0.1111111111111111,
              "#46039f"
             ],
             [
              0.2222222222222222,
              "#7201a8"
             ],
             [
              0.3333333333333333,
              "#9c179e"
             ],
             [
              0.4444444444444444,
              "#bd3786"
             ],
             [
              0.5555555555555556,
              "#d8576b"
             ],
             [
              0.6666666666666666,
              "#ed7953"
             ],
             [
              0.7777777777777778,
              "#fb9f3a"
             ],
             [
              0.8888888888888888,
              "#fdca26"
             ],
             [
              1,
              "#f0f921"
             ]
            ],
            "type": "heatmap"
           }
          ],
          "heatmapgl": [
           {
            "colorbar": {
             "outlinewidth": 0,
             "ticks": ""
            },
            "colorscale": [
             [
              0,
              "#0d0887"
             ],
             [
              0.1111111111111111,
              "#46039f"
             ],
             [
              0.2222222222222222,
              "#7201a8"
             ],
             [
              0.3333333333333333,
              "#9c179e"
             ],
             [
              0.4444444444444444,
              "#bd3786"
             ],
             [
              0.5555555555555556,
              "#d8576b"
             ],
             [
              0.6666666666666666,
              "#ed7953"
             ],
             [
              0.7777777777777778,
              "#fb9f3a"
             ],
             [
              0.8888888888888888,
              "#fdca26"
             ],
             [
              1,
              "#f0f921"
             ]
            ],
            "type": "heatmapgl"
           }
          ],
          "histogram": [
           {
            "marker": {
             "colorbar": {
              "outlinewidth": 0,
              "ticks": ""
             }
            },
            "type": "histogram"
           }
          ],
          "histogram2d": [
           {
            "colorbar": {
             "outlinewidth": 0,
             "ticks": ""
            },
            "colorscale": [
             [
              0,
              "#0d0887"
             ],
             [
              0.1111111111111111,
              "#46039f"
             ],
             [
              0.2222222222222222,
              "#7201a8"
             ],
             [
              0.3333333333333333,
              "#9c179e"
             ],
             [
              0.4444444444444444,
              "#bd3786"
             ],
             [
              0.5555555555555556,
              "#d8576b"
             ],
             [
              0.6666666666666666,
              "#ed7953"
             ],
             [
              0.7777777777777778,
              "#fb9f3a"
             ],
             [
              0.8888888888888888,
              "#fdca26"
             ],
             [
              1,
              "#f0f921"
             ]
            ],
            "type": "histogram2d"
           }
          ],
          "histogram2dcontour": [
           {
            "colorbar": {
             "outlinewidth": 0,
             "ticks": ""
            },
            "colorscale": [
             [
              0,
              "#0d0887"
             ],
             [
              0.1111111111111111,
              "#46039f"
             ],
             [
              0.2222222222222222,
              "#7201a8"
             ],
             [
              0.3333333333333333,
              "#9c179e"
             ],
             [
              0.4444444444444444,
              "#bd3786"
             ],
             [
              0.5555555555555556,
              "#d8576b"
             ],
             [
              0.6666666666666666,
              "#ed7953"
             ],
             [
              0.7777777777777778,
              "#fb9f3a"
             ],
             [
              0.8888888888888888,
              "#fdca26"
             ],
             [
              1,
              "#f0f921"
             ]
            ],
            "type": "histogram2dcontour"
           }
          ],
          "mesh3d": [
           {
            "colorbar": {
             "outlinewidth": 0,
             "ticks": ""
            },
            "type": "mesh3d"
           }
          ],
          "parcoords": [
           {
            "line": {
             "colorbar": {
              "outlinewidth": 0,
              "ticks": ""
             }
            },
            "type": "parcoords"
           }
          ],
          "pie": [
           {
            "automargin": true,
            "type": "pie"
           }
          ],
          "scatter": [
           {
            "marker": {
             "colorbar": {
              "outlinewidth": 0,
              "ticks": ""
             }
            },
            "type": "scatter"
           }
          ],
          "scatter3d": [
           {
            "line": {
             "colorbar": {
              "outlinewidth": 0,
              "ticks": ""
             }
            },
            "marker": {
             "colorbar": {
              "outlinewidth": 0,
              "ticks": ""
             }
            },
            "type": "scatter3d"
           }
          ],
          "scattercarpet": [
           {
            "marker": {
             "colorbar": {
              "outlinewidth": 0,
              "ticks": ""
             }
            },
            "type": "scattercarpet"
           }
          ],
          "scattergeo": [
           {
            "marker": {
             "colorbar": {
              "outlinewidth": 0,
              "ticks": ""
             }
            },
            "type": "scattergeo"
           }
          ],
          "scattergl": [
           {
            "marker": {
             "colorbar": {
              "outlinewidth": 0,
              "ticks": ""
             }
            },
            "type": "scattergl"
           }
          ],
          "scattermapbox": [
           {
            "marker": {
             "colorbar": {
              "outlinewidth": 0,
              "ticks": ""
             }
            },
            "type": "scattermapbox"
           }
          ],
          "scatterpolar": [
           {
            "marker": {
             "colorbar": {
              "outlinewidth": 0,
              "ticks": ""
             }
            },
            "type": "scatterpolar"
           }
          ],
          "scatterpolargl": [
           {
            "marker": {
             "colorbar": {
              "outlinewidth": 0,
              "ticks": ""
             }
            },
            "type": "scatterpolargl"
           }
          ],
          "scatterternary": [
           {
            "marker": {
             "colorbar": {
              "outlinewidth": 0,
              "ticks": ""
             }
            },
            "type": "scatterternary"
           }
          ],
          "surface": [
           {
            "colorbar": {
             "outlinewidth": 0,
             "ticks": ""
            },
            "colorscale": [
             [
              0,
              "#0d0887"
             ],
             [
              0.1111111111111111,
              "#46039f"
             ],
             [
              0.2222222222222222,
              "#7201a8"
             ],
             [
              0.3333333333333333,
              "#9c179e"
             ],
             [
              0.4444444444444444,
              "#bd3786"
             ],
             [
              0.5555555555555556,
              "#d8576b"
             ],
             [
              0.6666666666666666,
              "#ed7953"
             ],
             [
              0.7777777777777778,
              "#fb9f3a"
             ],
             [
              0.8888888888888888,
              "#fdca26"
             ],
             [
              1,
              "#f0f921"
             ]
            ],
            "type": "surface"
           }
          ],
          "table": [
           {
            "cells": {
             "fill": {
              "color": "#EBF0F8"
             },
             "line": {
              "color": "white"
             }
            },
            "header": {
             "fill": {
              "color": "#C8D4E3"
             },
             "line": {
              "color": "white"
             }
            },
            "type": "table"
           }
          ]
         },
         "layout": {
          "annotationdefaults": {
           "arrowcolor": "#2a3f5f",
           "arrowhead": 0,
           "arrowwidth": 1
          },
          "coloraxis": {
           "colorbar": {
            "outlinewidth": 0,
            "ticks": ""
           }
          },
          "colorscale": {
           "diverging": [
            [
             0,
             "#8e0152"
            ],
            [
             0.1,
             "#c51b7d"
            ],
            [
             0.2,
             "#de77ae"
            ],
            [
             0.3,
             "#f1b6da"
            ],
            [
             0.4,
             "#fde0ef"
            ],
            [
             0.5,
             "#f7f7f7"
            ],
            [
             0.6,
             "#e6f5d0"
            ],
            [
             0.7,
             "#b8e186"
            ],
            [
             0.8,
             "#7fbc41"
            ],
            [
             0.9,
             "#4d9221"
            ],
            [
             1,
             "#276419"
            ]
           ],
           "sequential": [
            [
             0,
             "#0d0887"
            ],
            [
             0.1111111111111111,
             "#46039f"
            ],
            [
             0.2222222222222222,
             "#7201a8"
            ],
            [
             0.3333333333333333,
             "#9c179e"
            ],
            [
             0.4444444444444444,
             "#bd3786"
            ],
            [
             0.5555555555555556,
             "#d8576b"
            ],
            [
             0.6666666666666666,
             "#ed7953"
            ],
            [
             0.7777777777777778,
             "#fb9f3a"
            ],
            [
             0.8888888888888888,
             "#fdca26"
            ],
            [
             1,
             "#f0f921"
            ]
           ],
           "sequentialminus": [
            [
             0,
             "#0d0887"
            ],
            [
             0.1111111111111111,
             "#46039f"
            ],
            [
             0.2222222222222222,
             "#7201a8"
            ],
            [
             0.3333333333333333,
             "#9c179e"
            ],
            [
             0.4444444444444444,
             "#bd3786"
            ],
            [
             0.5555555555555556,
             "#d8576b"
            ],
            [
             0.6666666666666666,
             "#ed7953"
            ],
            [
             0.7777777777777778,
             "#fb9f3a"
            ],
            [
             0.8888888888888888,
             "#fdca26"
            ],
            [
             1,
             "#f0f921"
            ]
           ]
          },
          "colorway": [
           "#636efa",
           "#EF553B",
           "#00cc96",
           "#ab63fa",
           "#FFA15A",
           "#19d3f3",
           "#FF6692",
           "#B6E880",
           "#FF97FF",
           "#FECB52"
          ],
          "font": {
           "color": "#2a3f5f"
          },
          "geo": {
           "bgcolor": "white",
           "lakecolor": "white",
           "landcolor": "#E5ECF6",
           "showlakes": true,
           "showland": true,
           "subunitcolor": "white"
          },
          "hoverlabel": {
           "align": "left"
          },
          "hovermode": "closest",
          "mapbox": {
           "style": "light"
          },
          "paper_bgcolor": "white",
          "plot_bgcolor": "#E5ECF6",
          "polar": {
           "angularaxis": {
            "gridcolor": "white",
            "linecolor": "white",
            "ticks": ""
           },
           "bgcolor": "#E5ECF6",
           "radialaxis": {
            "gridcolor": "white",
            "linecolor": "white",
            "ticks": ""
           }
          },
          "scene": {
           "xaxis": {
            "backgroundcolor": "#E5ECF6",
            "gridcolor": "white",
            "gridwidth": 2,
            "linecolor": "white",
            "showbackground": true,
            "ticks": "",
            "zerolinecolor": "white"
           },
           "yaxis": {
            "backgroundcolor": "#E5ECF6",
            "gridcolor": "white",
            "gridwidth": 2,
            "linecolor": "white",
            "showbackground": true,
            "ticks": "",
            "zerolinecolor": "white"
           },
           "zaxis": {
            "backgroundcolor": "#E5ECF6",
            "gridcolor": "white",
            "gridwidth": 2,
            "linecolor": "white",
            "showbackground": true,
            "ticks": "",
            "zerolinecolor": "white"
           }
          },
          "shapedefaults": {
           "line": {
            "color": "#2a3f5f"
           }
          },
          "ternary": {
           "aaxis": {
            "gridcolor": "white",
            "linecolor": "white",
            "ticks": ""
           },
           "baxis": {
            "gridcolor": "white",
            "linecolor": "white",
            "ticks": ""
           },
           "bgcolor": "#E5ECF6",
           "caxis": {
            "gridcolor": "white",
            "linecolor": "white",
            "ticks": ""
           }
          },
          "title": {
           "x": 0.05
          },
          "xaxis": {
           "automargin": true,
           "gridcolor": "white",
           "linecolor": "white",
           "ticks": "",
           "title": {
            "standoff": 15
           },
           "zerolinecolor": "white",
           "zerolinewidth": 2
          },
          "yaxis": {
           "automargin": true,
           "gridcolor": "white",
           "linecolor": "white",
           "ticks": "",
           "title": {
            "standoff": 15
           },
           "zerolinecolor": "white",
           "zerolinewidth": 2
          }
         }
        },
        "title": {
         "text": "Average Gross Monthly Rent and Sell Price per Square Foot in San Francisco"
        },
        "width": 750
       }
      },
      "image/png": "[encoded data removed]",
      "text/html": [
       "<div>                            <div id=\"56ec4c19-497a-4910-87cf-ad36ddff31c2\" class=\"plotly-graph-div\" style=\"height:750px; width:750px;\"></div>            <script type=\"text/javascript\">                require([\"plotly\"], function(Plotly) {                    window.PLOTLYENV=window.PLOTLYENV || {};                                    if (document.getElementById(\"56ec4c19-497a-4910-87cf-ad36ddff31c2\")) {                    Plotly.newPlot(                        \"56ec4c19-497a-4910-87cf-ad36ddff31c2\",                        [{\"customdata\": [[37.791012, -122.4021, 366.02071153227644, 2817.285714285714], [37.779598, -122.443451, 373.38219782647707, 3031.8333333333335], [37.73467, -122.40106, 204.58862288246596, 2318.4], [37.72874, -122.41098, 590.7928388746803, 3739.0], [37.76816, -122.43933, 452.6805909308441, 2698.8333333333335], [37.77789, -122.44517, 394.42239878005887, 2817.285714285714], [37.74961, -122.48999, 423.6879277015824, 2817.285714285714], [37.75331, -122.44703, 487.2448860262576, 2250.5], [37.78553, -122.456, 587.5390673661739, 2472.0], [37.79298, -122.43579, 665.9640415783227, 2817.285714285714], [37.7228, -122.43869, 303.00418440849427, 2698.8333333333335], [37.72863, -122.44305, 434.99173944522124, 2016.0], [37.76964, -122.42611, 502.59915555623616, 2780.25], [37.75554, -122.43779, 642.2486706357391, 2817.285714285714], [37.72874, -122.41098, 388.7659270023075, 3031.8333333333335], [37.79101, -122.4021, 391.36253308010487, 2817.285714285714], [37.79101, -122.4021, 455.83621223779153, 2472.0], [37.75706, -122.45509, 321.84083657398736, 1781.5], [37.72863, -122.44305, 623.8261775374349, 2899.5], [37.757912, -122.46402, 639.3935574881154, 2601.4], [37.76525, -122.43596, 449.5447622856192, 2817.285714285714], [37.76525, -122.43596, 355.93282794805776, 2817.285714285714], [37.72551, -122.37178, 170.62491987132685, 2489.0], [37.72116, -122.48707, 384.7979281346047, 2960.0], [37.75416, -122.41947, 397.67371473613446, 2817.285714285714], [37.74961, -122.48999, 519.3856038526768, 3224.0], [37.769112, -122.483566, 378.59431396136455, 2817.285714285714], [37.74961, -122.48997, 413.66751546215943, 2817.285714285714], [37.78553, -122.456, 529.3841850673389, 2817.285714285714], [37.80152, -122.45457, 409.95435219297514, 2555.1666666666665], [37.7789, -122.45496, 478.2285530213679, 2555.1666666666665], [37.79298, -122.43579, 539.237968878326, 2817.285714285714], [37.79972, -122.46689, 583.7492694814548, 2817.285714285714], [37.71993, -122.46595, 788.8448175872469, 3414.0], [37.75331, -122.44703, 550.5103482917151, 2647.5], [37.73415, -122.457, 779.810842264425, 2155.25], [37.78323, -122.40065, 566.1922135483312, 2663.6666666666665], [37.75184, -122.42522, 418.9156225067234, 2555.1666666666665], [37.72863, -122.44305, 523.4662013248023, 3173.4], [37.79298, -122.43579, 458.2040944846015, 2817.285714285714], [37.75331, -122.44703, 542.4429128151736, 2817.285714285714], [37.80055, -122.40433, 411.646875881678, 2990.8], [37.80055, -122.40433, 498.2697550078768, 2818.4], [37.71993, -122.46595, 330.0973846552545, 2434.0], [37.7228, -122.43869, 242.37095202049665, 2995.75], [37.7517, -122.446, 485.0270126111035, 2817.285714285714], [37.74961, -122.48999, 394.21903228550775, 2817.285714285714], [37.79298, -122.43579, 689.5558168113663, 2817.285714285714], [37.72838, -122.47851, 373.732856371763, 2817.285714285714], [37.74961, -122.48999, 336.172661037069, 2555.1666666666665], [37.76355, -122.45765, 632.740453508577, 2817.285714285714], [37.73467, -122.40106, 327.11392534647274, 2318.4], [37.73196, -122.38324, 662.0136128276529, 2817.285714285714], [37.78553, -122.456, 675.3502120510033, 2817.285714285714], [37.79298, -122.43579, 608.9832172374425, 2817.285714285714], [37.73467, -122.40106, 170.2925485152069, 3528.0], [37.78323, -122.40065, 650.1244791945729, 2099.0], [37.79101, -122.4021, 570.2714266991687, 2817.285714285714], [37.73415, -122.457, 528.3183317138463, 2899.5], [37.80055, -122.40433, 676.5065775293255, 2817.285714285714], [37.753311, -122.447029, 469.39862649935156, 2817.285714285714], [37.79101, -122.4021, 903.9932576720645, 2555.1666666666665], [37.77951, -122.42022, 404.1501801622257, 2817.285714285714], [37.72874, -122.41098, 301.46617997450267, 3657.0], [37.74026, -122.46388, 498.48848482950103, 2515.5], [37.79298, -122.43579, 307.5622009799608, 2555.1666666666665], [37.7347, -122.456854, 533.7039354359513, 2250.5], [37.73415, -122.457, 687.0875745178322, 3959.0], [37.79298, -122.39636, 576.709848378276, 2555.1666666666665]], \"hovertemplate\": \"<b>%{hovertext}</b><br><br>Sale Price per Square Foot=%{customdata[2]:.0f}<br>Gross Monthly Rent=%{marker.color:,.0f}<extra></extra>\", \"hovertext\": [\"Alamo Square\", \"Anza Vista\", \"Bayview\", \"Bayview Heights\", \"Buena Vista Park\", \"Central Richmond\", \"Central Sunset\", \"Clarendon Heights\", \"Corona Heights\", \"Cow Hollow\", \"Croker Amazon\", \"Diamond Heights\", \"Duboce Triangle\", \"Eureka Valley/Dolores Heights\", \"Excelsior\", \"Financial District North\", \"Financial District South\", \"Forest Knolls\", \"Glen Park\", \"Golden Gate Heights\", \"Haight Ashbury\", \"Hayes Valley\", \"Hunters Point\", \"Ingleside Heights\", \"Inner Mission\", \"Inner Parkside\", \"Inner Richmond\", \"Inner Sunset\", \"Jordan Park/Laurel Heights\", \"Lake --The Presidio\", \"Lone Mountain\", \"Lower Pacific Heights\", \"Marina\", \"Merced Heights\", \"Midtown Terrace\", \"Miraloma Park\", \"Mission Bay\", \"Mission Dolores\", \"Mission Terrace\", \"Nob Hill\", \"Noe Valley\", \"North Beach\", \"North Waterfront\", \"Oceanview\", \"Outer Mission\", \"Outer Parkside\", \"Outer Sunset\", \"Pacific Heights\", \"Park North\", \"Parkside\", \"Parnassus/Ashbury Heights\", \"Portola\", \"Potrero Hill\", \"Presidio Heights\", \"Russian Hill\", \"Silver Terrace\", \"South Beach\", \"South of Market\", \"Sunnyside\", \"Telegraph Hill\", \"Twin Peaks\", \"Union Square District\", \"Van Ness/ Civic Center\", \"Visitacion Valley\", \"West Portal\", \"Western Addition\", \"Westwood Highlands\", \"Westwood Park\", \"Yerba Buena\"], \"lat\": [37.791012, 37.779598, 37.73467, 37.72874, 37.76816, 37.77789, 37.74961, 37.75331, 37.78553, 37.79298, 37.7228, 37.72863, 37.76964, 37.75554, 37.72874, 37.79101, 37.79101, 37.75706, 37.72863, 37.757912, 37.76525, 37.76525, 37.72551, 37.72116, 37.75416, 37.74961, 37.769112, 37.74961, 37.78553, 37.80152, 37.7789, 37.79298, 37.79972, 37.71993, 37.75331, 37.73415, 37.78323, 37.75184, 37.72863, 37.79298, 37.75331, 37.80055, 37.80055, 37.71993, 37.7228, 37.7517, 37.74961, 37.79298, 37.72838, 37.74961, 37.76355, 37.73467, 37.73196, 37.78553, 37.79298, 37.73467, 37.78323, 37.79101, 37.73415, 37.80055, 37.753311, 37.79101, 37.77951, 37.72874, 37.74026, 37.79298, 37.7347, 37.73415, 37.79298], \"legendgroup\": \"\", \"lon\": [-122.4021, -122.443451, -122.40106, -122.41098, -122.43933, -122.44517, -122.48999, -122.44703, -122.456, -122.43579, -122.43869, -122.44305, -122.42611, -122.43779, -122.41098, -122.4021, -122.4021, -122.45509, -122.44305, -122.46402, -122.43596, -122.43596, -122.37178, -122.48707, -122.41947, -122.48999, -122.483566, -122.48997, -122.456, -122.45457, -122.45496, -122.43579, -122.46689, -122.46595, -122.44703, -122.457, -122.40065, -122.42522, -122.44305, -122.43579, -122.44703, -122.40433, -122.40433, -122.46595, -122.43869, -122.446, -122.48999, -122.43579, -122.47851, -122.48999, -122.45765, -122.40106, -122.38324, -122.456, -122.43579, -122.40106, -122.40065, -122.4021, -122.457, -122.40433, -122.447029, -122.4021, -122.42022, -122.41098, -122.46388, -122.43579, -122.456854, -122.457, -122.39636], \"marker\": {\"color\": [2817.285714285714, 3031.8333333333335, 2318.4, 3739.0, 2698.8333333333335, 2817.285714285714, 2817.285714285714, 2250.5, 2472.0, 2817.285714285714, 2698.8333333333335, 2016.0, 2780.25, 2817.285714285714, 3031.8333333333335, 2817.285714285714, 2472.0, 1781.5, 2899.5, 2601.4, 2817.285714285714, 2817.285714285714, 2489.0, 2960.0, 2817.285714285714, 3224.0, 2817.285714285714, 2817.285714285714, 2817.285714285714, 2555.1666666666665, 2555.1666666666665, 2817.285714285714, 2817.285714285714, 3414.0, 2647.5, 2155.25, 2663.6666666666665, 2555.1666666666665, 3173.4, 2817.285714285714, 2817.285714285714, 2990.8, 2818.4, 2434.0, 2995.75, 2817.285714285714, 2817.285714285714, 2817.285714285714, 2817.285714285714, 2555.1666666666665, 2817.285714285714, 2318.4, 2817.285714285714, 2817.285714285714, 2817.285714285714, 3528.0, 2099.0, 2817.285714285714, 2899.5, 2817.285714285714, 2817.285714285714, 2555.1666666666665, 2817.285714285714, 3657.0, 2515.5, 2555.1666666666665, 2250.5, 3959.0, 2555.1666666666665], \"coloraxis\": \"coloraxis\", \"size\": [366.02071153227644, 373.38219782647707, 204.58862288246596, 590.7928388746803, 452.6805909308441, 394.42239878005887, 423.6879277015824, 487.2448860262576, 587.5390673661739, 665.9640415783227, 303.00418440849427, 434.99173944522124, 502.59915555623616, 642.2486706357391, 388.7659270023075, 391.36253308010487, 455.83621223779153, 321.84083657398736, 623.8261775374349, 639.3935574881154, 449.5447622856192, 355.93282794805776, 170.62491987132685, 384.7979281346047, 397.67371473613446, 519.3856038526768, 378.59431396136455, 413.66751546215943, 529.3841850673389, 409.95435219297514, 478.2285530213679, 539.237968878326, 583.7492694814548, 788.8448175872469, 550.5103482917151, 779.810842264425, 566.1922135483312, 418.9156225067234, 523.4662013248023, 458.2040944846015, 542.4429128151736, 411.646875881678, 498.2697550078768, 330.0973846552545, 242.37095202049665, 485.0270126111035, 394.21903228550775, 689.5558168113663, 373.732856371763, 336.172661037069, 632.740453508577, 327.11392534647274, 662.0136128276529, 675.3502120510033, 608.9832172374425, 170.2925485152069, 650.1244791945729, 570.2714266991687, 528.3183317138463, 676.5065775293255, 469.39862649935156, 903.9932576720645, 404.1501801622257, 301.46617997450267, 498.48848482950103, 307.5622009799608, 533.7039354359513, 687.0875745178322, 576.709848378276], \"sizemode\": \"area\", \"sizeref\": 1.4463892122753033}, \"mode\": \"markers\", \"name\": \"\", \"showlegend\": false, \"subplot\": \"mapbox\", \"type\": \"scattermapbox\"}],                        {\"coloraxis\": {\"colorbar\": {\"title\": {\"text\": \"Gross Monthly Rent\"}}, \"colorscale\": [[0.0, \"rgb(255,245,240)\"], [0.125, \"rgb(254,224,210)\"], [0.25, \"rgb(252,187,161)\"], [0.375, \"rgb(252,146,114)\"], [0.5, \"rgb(251,106,74)\"], [0.625, \"rgb(239,59,44)\"], [0.75, \"rgb(203,24,29)\"], [0.875, \"rgb(165,15,21)\"], [1.0, \"rgb(103,0,13)\"]]}, \"height\": 750, \"legend\": {\"itemsizing\": \"constant\", \"tracegroupgap\": 0}, \"mapbox\": {\"accesstoken\": \"pk.eyJ1IjoicGFvY2FydmFqYWwxOTEyIiwiYSI6ImNrcmp6dHRreTB2Z2IycWtkMm1mc2UyMmUifQ.cwTJWo6ZFpjLAqRGyVjqFw\", \"center\": {\"lat\": 37.76064079710145, \"lon\": -122.43826449275363}, \"domain\": {\"x\": [0.0, 1.0], \"y\": [0.0, 1.0]}, \"zoom\": 11}, \"template\": {\"data\": {\"bar\": [{\"error_x\": {\"color\": \"#2a3f5f\"}, \"error_y\": {\"color\": \"#2a3f5f\"}, \"marker\": {\"line\": {\"color\": \"#E5ECF6\", \"width\": 0.5}}, \"type\": \"bar\"}], \"barpolar\": [{\"marker\": {\"line\": {\"color\": \"#E5ECF6\", \"width\": 0.5}}, \"type\": \"barpolar\"}], \"carpet\": [{\"aaxis\": {\"endlinecolor\": \"#2a3f5f\", \"gridcolor\": \"white\", \"linecolor\": \"white\", \"minorgridcolor\": \"white\", \"startlinecolor\": \"#2a3f5f\"}, \"baxis\": {\"endlinecolor\": \"#2a3f5f\", \"gridcolor\": \"white\", \"linecolor\": \"white\", \"minorgridcolor\": \"white\", \"startlinecolor\": \"#2a3f5f\"}, \"type\": \"carpet\"}], \"choropleth\": [{\"colorbar\": {\"outlinewidth\": 0, \"ticks\": \"\"}, \"type\": \"choropleth\"}], \"contour\": [{\"colorbar\": {\"outlinewidth\": 0, \"ticks\": \"\"}, \"colorscale\": [[0.0, \"#0d0887\"], [0.1111111111111111, \"#46039f\"], [0.2222222222222222, \"#7201a8\"], [0.3333333333333333, \"#9c179e\"], [0.4444444444444444, \"#bd3786\"], [0.5555555555555556, \"#d8576b\"], [0.6666666666666666, \"#ed7953\"], [0.7777777777777778, \"#fb9f3a\"], [0.8888888888888888, \"#fdca26\"], [1.0, \"#f0f921\"]], \"type\": \"contour\"}], \"contourcarpet\": [{\"colorbar\": {\"outlinewidth\": 0, \"ticks\": \"\"}, \"type\": \"contourcarpet\"}], \"heatmap\": [{\"colorbar\": {\"outlinewidth\": 0, \"ticks\": \"\"}, \"colorscale\": [[0.0, \"#0d0887\"], [0.1111111111111111, \"#46039f\"], [0.2222222222222222, \"#7201a8\"], [0.3333333333333333, \"#9c179e\"], [0.4444444444444444, \"#bd3786\"], [0.5555555555555556, \"#d8576b\"], [0.6666666666666666, \"#ed7953\"], [0.7777777777777778, \"#fb9f3a\"], [0.8888888888888888, \"#fdca26\"], [1.0, \"#f0f921\"]], \"type\": \"heatmap\"}], \"heatmapgl\": [{\"colorbar\": {\"outlinewidth\": 0, \"ticks\": \"\"}, \"colorscale\": [[0.0, \"#0d0887\"], [0.1111111111111111, \"#46039f\"], [0.2222222222222222, \"#7201a8\"], [0.3333333333333333, \"#9c179e\"], [0.4444444444444444, \"#bd3786\"], [0.5555555555555556, \"#d8576b\"], [0.6666666666666666, \"#ed7953\"], [0.7777777777777778, \"#fb9f3a\"], [0.8888888888888888, \"#fdca26\"], [1.0, \"#f0f921\"]], \"type\": \"heatmapgl\"}], \"histogram\": [{\"marker\": {\"colorbar\": {\"outlinewidth\": 0, \"ticks\": \"\"}}, \"type\": \"histogram\"}], \"histogram2d\": [{\"colorbar\": {\"outlinewidth\": 0, \"ticks\": \"\"}, \"colorscale\": [[0.0, \"#0d0887\"], [0.1111111111111111, \"#46039f\"], [0.2222222222222222, \"#7201a8\"], [0.3333333333333333, \"#9c179e\"], [0.4444444444444444, \"#bd3786\"], [0.5555555555555556, \"#d8576b\"], [0.6666666666666666, \"#ed7953\"], [0.7777777777777778, \"#fb9f3a\"], [0.8888888888888888, \"#fdca26\"], [1.0, \"#f0f921\"]], \"type\": \"histogram2d\"}], \"histogram2dcontour\": [{\"colorbar\": {\"outlinewidth\": 0, \"ticks\": \"\"}, \"colorscale\": [[0.0, \"#0d0887\"], [0.1111111111111111, \"#46039f\"], [0.2222222222222222, \"#7201a8\"], [0.3333333333333333, \"#9c179e\"], [0.4444444444444444, \"#bd3786\"], [0.5555555555555556, \"#d8576b\"], [0.6666666666666666, \"#ed7953\"], [0.7777777777777778, \"#fb9f3a\"], [0.8888888888888888, \"#fdca26\"], [1.0, \"#f0f921\"]], \"type\": \"histogram2dcontour\"}], \"mesh3d\": [{\"colorbar\": {\"outlinewidth\": 0, \"ticks\": \"\"}, \"type\": \"mesh3d\"}], \"parcoords\": [{\"line\": {\"colorbar\": {\"outlinewidth\": 0, \"ticks\": \"\"}}, \"type\": \"parcoords\"}], \"pie\": [{\"automargin\": true, \"type\": \"pie\"}], \"scatter\": [{\"marker\": {\"colorbar\": {\"outlinewidth\": 0, \"ticks\": \"\"}}, \"type\": \"scatter\"}], \"scatter3d\": [{\"line\": {\"colorbar\": {\"outlinewidth\": 0, \"ticks\": \"\"}}, \"marker\": {\"colorbar\": {\"outlinewidth\": 0, \"ticks\": \"\"}}, \"type\": \"scatter3d\"}], \"scattercarpet\": [{\"marker\": {\"colorbar\": {\"outlinewidth\": 0, \"ticks\": \"\"}}, \"type\": \"scattercarpet\"}], \"scattergeo\": [{\"marker\": {\"colorbar\": {\"outlinewidth\": 0, \"ticks\": \"\"}}, \"type\": \"scattergeo\"}], \"scattergl\": [{\"marker\": {\"colorbar\": {\"outlinewidth\": 0, \"ticks\": \"\"}}, \"type\": \"scattergl\"}], \"scattermapbox\": [{\"marker\": {\"colorbar\": {\"outlinewidth\": 0, \"ticks\": \"\"}}, \"type\": \"scattermapbox\"}], \"scatterpolar\": [{\"marker\": {\"colorbar\": {\"outlinewidth\": 0, \"ticks\": \"\"}}, \"type\": \"scatterpolar\"}], \"scatterpolargl\": [{\"marker\": {\"colorbar\": {\"outlinewidth\": 0, \"ticks\": \"\"}}, \"type\": \"scatterpolargl\"}], \"scatterternary\": [{\"marker\": {\"colorbar\": {\"outlinewidth\": 0, \"ticks\": \"\"}}, \"type\": \"scatterternary\"}], \"surface\": [{\"colorbar\": {\"outlinewidth\": 0, \"ticks\": \"\"}, \"colorscale\": [[0.0, \"#0d0887\"], [0.1111111111111111, \"#46039f\"], [0.2222222222222222, \"#7201a8\"], [0.3333333333333333, \"#9c179e\"], [0.4444444444444444, \"#bd3786\"], [0.5555555555555556, \"#d8576b\"], [0.6666666666666666, \"#ed7953\"], [0.7777777777777778, \"#fb9f3a\"], [0.8888888888888888, \"#fdca26\"], [1.0, \"#f0f921\"]], \"type\": \"surface\"}], \"table\": [{\"cells\": {\"fill\": {\"color\": \"#EBF0F8\"}, \"line\": {\"color\": \"white\"}}, \"header\": {\"fill\": {\"color\": \"#C8D4E3\"}, \"line\": {\"color\": \"white\"}}, \"type\": \"table\"}]}, \"layout\": {\"annotationdefaults\": {\"arrowcolor\": \"#2a3f5f\", \"arrowhead\": 0, \"arrowwidth\": 1}, \"coloraxis\": {\"colorbar\": {\"outlinewidth\": 0, \"ticks\": \"\"}}, \"colorscale\": {\"diverging\": [[0, \"#8e0152\"], [0.1, \"#c51b7d\"], [0.2, \"#de77ae\"], [0.3, \"#f1b6da\"], [0.4, \"#fde0ef\"], [0.5, \"#f7f7f7\"], [0.6, \"#e6f5d0\"], [0.7, \"#b8e186\"], [0.8, \"#7fbc41\"], [0.9, \"#4d9221\"], [1, \"#276419\"]], \"sequential\": [[0.0, \"#0d0887\"], [0.1111111111111111, \"#46039f\"], [0.2222222222222222, \"#7201a8\"], [0.3333333333333333, \"#9c179e\"], [0.4444444444444444, \"#bd3786\"], [0.5555555555555556, \"#d8576b\"], [0.6666666666666666, \"#ed7953\"], [0.7777777777777778, \"#fb9f3a\"], [0.8888888888888888, \"#fdca26\"], [1.0, \"#f0f921\"]], \"sequentialminus\": [[0.0, \"#0d0887\"], [0.1111111111111111, \"#46039f\"], [0.2222222222222222, \"#7201a8\"], [0.3333333333333333, \"#9c179e\"], [0.4444444444444444, \"#bd3786\"], [0.5555555555555556, \"#d8576b\"], [0.6666666666666666, \"#ed7953\"], [0.7777777777777778, \"#fb9f3a\"], [0.8888888888888888, \"#fdca26\"], [1.0, \"#f0f921\"]]}, \"colorway\": [\"#636efa\", \"#EF553B\", \"#00cc96\", \"#ab63fa\", \"#FFA15A\", \"#19d3f3\", \"#FF6692\", \"#B6E880\", \"#FF97FF\", \"#FECB52\"], \"font\": {\"color\": \"#2a3f5f\"}, \"geo\": {\"bgcolor\": \"white\", \"lakecolor\": \"white\", \"landcolor\": \"#E5ECF6\", \"showlakes\": true, \"showland\": true, \"subunitcolor\": \"white\"}, \"hoverlabel\": {\"align\": \"left\"}, \"hovermode\": \"closest\", \"mapbox\": {\"style\": \"light\"}, \"paper_bgcolor\": \"white\", \"plot_bgcolor\": \"#E5ECF6\", \"polar\": {\"angularaxis\": {\"gridcolor\": \"white\", \"linecolor\": \"white\", \"ticks\": \"\"}, \"bgcolor\": \"#E5ECF6\", \"radialaxis\": {\"gridcolor\": \"white\", \"linecolor\": \"white\", \"ticks\": \"\"}}, \"scene\": {\"xaxis\": {\"backgroundcolor\": \"#E5ECF6\", \"gridcolor\": \"white\", \"gridwidth\": 2, \"linecolor\": \"white\", \"showbackground\": true, \"ticks\": \"\", \"zerolinecolor\": \"white\"}, \"yaxis\": {\"backgroundcolor\": \"#E5ECF6\", \"gridcolor\": \"white\", \"gridwidth\": 2, \"linecolor\": \"white\", \"showbackground\": true, \"ticks\": \"\", \"zerolinecolor\": \"white\"}, \"zaxis\": {\"backgroundcolor\": \"#E5ECF6\", \"gridcolor\": \"white\", \"gridwidth\": 2, \"linecolor\": \"white\", \"showbackground\": true, \"ticks\": \"\", \"zerolinecolor\": \"white\"}}, \"shapedefaults\": {\"line\": {\"color\": \"#2a3f5f\"}}, \"ternary\": {\"aaxis\": {\"gridcolor\": \"white\", \"linecolor\": \"white\", \"ticks\": \"\"}, \"baxis\": {\"gridcolor\": \"white\", \"linecolor\": \"white\", \"ticks\": \"\"}, \"bgcolor\": \"#E5ECF6\", \"caxis\": {\"gridcolor\": \"white\", \"linecolor\": \"white\", \"ticks\": \"\"}}, \"title\": {\"x\": 0.05}, \"xaxis\": {\"automargin\": true, \"gridcolor\": \"white\", \"linecolor\": \"white\", \"ticks\": \"\", \"title\": {\"standoff\": 15}, \"zerolinecolor\": \"white\", \"zerolinewidth\": 2}, \"yaxis\": {\"automargin\": true, \"gridcolor\": \"white\", \"linecolor\": \"white\", \"ticks\": \"\", \"title\": {\"standoff\": 15}, \"zerolinecolor\": \"white\", \"zerolinewidth\": 2}}}, \"title\": {\"text\": \"Average Gross Monthly Rent and Sell Price per Square Foot in San Francisco\"}, \"width\": 750},                        {\"responsive\": true}                    ).then(function(){\n",
       "                            \n",
       "var gd = document.getElementById('56ec4c19-497a-4910-87cf-ad36ddff31c2');\n",
       "var x = new MutationObserver(function (mutations, observer) {{\n",
       "        var display = window.getComputedStyle(gd).display;\n",
       "        if (!display || display === 'none') {{\n",
       "            console.log([gd, 'removed!']);\n",
       "            Plotly.purge(gd);\n",
       "            observer.disconnect();\n",
       "        }}\n",
       "}});\n",
       "\n",
       "// Listen for the removal of the full notebook cells\n",
       "var notebookContainer = gd.closest('#notebook-container');\n",
       "if (notebookContainer) {{\n",
       "    x.observe(notebookContainer, {childList: true});\n",
       "}}\n",
       "\n",
       "// Listen for the clearing of the current output cell\n",
       "var outputEl = gd.closest('.output');\n",
       "if (outputEl) {{\n",
       "    x.observe(outputEl, {childList: true});\n",
       "}}\n",
       "\n",
       "                        })                };                });            </script>        </div>"
      ]
     },
     "metadata": {},
     "output_type": "display_data"
    }
   ],
   "source": [
    "px.scatter_mapbox(\n",
    "    all_neighborhoods_df\n",
    "    ,title= \"Average Gross Monthly Rent and Sell Price per Square Foot in San Francisco\"\n",
    "    ,size=\"sale_price_sqr_foot\"\n",
    "    ,color=\"gross_rent\"\n",
    "    ,lat=\"Lat\"\n",
    "    ,lon=\"Lon\"\n",
    "    ,size_max=25\n",
    "    ,zoom=11\n",
    "    ,color_continuous_scale=\"reds\"\n",
    "    ,hover_name=\"Neighborhood\"\n",
    "    ,hover_data={'Lat':False, 'Lon':False, \"sale_price_sqr_foot\":\":.0f\",\"gross_rent\":\":,.0f\" }\n",
    "    ,height=750\n",
    "    ,width=750\n",
    "    ,labels={\"sale_price_sqr_foot\":\"Sale Price per Square Foot\",\"gross_rent\":\"Gross Monthly Rent\"}\n",
    ")\n"
   ]
  },
  {
   "cell_type": "markdown",
   "metadata": {},
   "source": [
    "### Step 7: Use the interactive map to answer the following question:"
   ]
  },
  {
   "cell_type": "markdown",
   "metadata": {},
   "source": [
    "**Question** Which neighborhood has the highest gross rent, and which has the highest sale price per square foot?\n",
    "\n",
    "**Answer** # The highest sale price per square foot can be found by looking for the larger circle in the Map. This corresponds to Union Square District, which is at USD 904. About the rent, with the data we have we cannot really respond the question for which has the higher rent. Thus, the rent in the data source for a particular year is the same for all neirborhoods. In the plot, however, some neirborhoods appear with a different rent amount, because the average is made across the years available, and some of them are missing some years. The map shows average across time for each neirborhood, so we get that highest gross rent for Westwood Park with a $3,959 monthly, as can be found by the darker red on the map, because it only has data points for 2016 and 2014, so the average appears as higher."
   ]
  },
  {
   "cell_type": "markdown",
   "metadata": {},
   "source": [
    "# Preparing some additional calculations to create the story."
   ]
  },
  {
   "cell_type": "code",
   "execution_count": 224,
   "metadata": {},
   "outputs": [
    {
     "data": {
      "text/html": [
       "<div>\n",
       "<style scoped>\n",
       "    .dataframe tbody tr th:only-of-type {\n",
       "        vertical-align: middle;\n",
       "    }\n",
       "\n",
       "    .dataframe tbody tr th {\n",
       "        vertical-align: top;\n",
       "    }\n",
       "\n",
       "    .dataframe thead th {\n",
       "        text-align: right;\n",
       "    }\n",
       "</style>\n",
       "<table border=\"1\" class=\"dataframe\">\n",
       "  <thead>\n",
       "    <tr style=\"text-align: right;\">\n",
       "      <th>neighborhood</th>\n",
       "      <th>Alamo Square</th>\n",
       "      <th>Anza Vista</th>\n",
       "      <th>Bayview</th>\n",
       "      <th>Bayview Heights</th>\n",
       "      <th>Bernal Heights</th>\n",
       "      <th>Buena Vista Park</th>\n",
       "      <th>Central Richmond</th>\n",
       "      <th>Central Sunset</th>\n",
       "      <th>Clarendon Heights</th>\n",
       "      <th>Corona Heights</th>\n",
       "      <th>...</th>\n",
       "      <th>Telegraph Hill</th>\n",
       "      <th>Twin Peaks</th>\n",
       "      <th>Union Square District</th>\n",
       "      <th>Van Ness/ Civic Center</th>\n",
       "      <th>Visitacion Valley</th>\n",
       "      <th>West Portal</th>\n",
       "      <th>Western Addition</th>\n",
       "      <th>Westwood Highlands</th>\n",
       "      <th>Westwood Park</th>\n",
       "      <th>Yerba Buena</th>\n",
       "    </tr>\n",
       "    <tr>\n",
       "      <th>year</th>\n",
       "      <th></th>\n",
       "      <th></th>\n",
       "      <th></th>\n",
       "      <th></th>\n",
       "      <th></th>\n",
       "      <th></th>\n",
       "      <th></th>\n",
       "      <th></th>\n",
       "      <th></th>\n",
       "      <th></th>\n",
       "      <th></th>\n",
       "      <th></th>\n",
       "      <th></th>\n",
       "      <th></th>\n",
       "      <th></th>\n",
       "      <th></th>\n",
       "      <th></th>\n",
       "      <th></th>\n",
       "      <th></th>\n",
       "      <th></th>\n",
       "      <th></th>\n",
       "    </tr>\n",
       "  </thead>\n",
       "  <tbody>\n",
       "    <tr>\n",
       "      <th>2010</th>\n",
       "      <td>291.182945</td>\n",
       "      <td>267.932583</td>\n",
       "      <td>170.098665</td>\n",
       "      <td>NaN</td>\n",
       "      <td>NaN</td>\n",
       "      <td>347.394919</td>\n",
       "      <td>319.027623</td>\n",
       "      <td>418.172493</td>\n",
       "      <td>NaN</td>\n",
       "      <td>369.359338</td>\n",
       "      <td>...</td>\n",
       "      <td>524.793509</td>\n",
       "      <td>331.555996</td>\n",
       "      <td>569.193448</td>\n",
       "      <td>108.012927</td>\n",
       "      <td>NaN</td>\n",
       "      <td>392.300764</td>\n",
       "      <td>215.569134</td>\n",
       "      <td>NaN</td>\n",
       "      <td>NaN</td>\n",
       "      <td>333.126774</td>\n",
       "    </tr>\n",
       "    <tr>\n",
       "      <th>2011</th>\n",
       "      <td>272.527310</td>\n",
       "      <td>NaN</td>\n",
       "      <td>172.540562</td>\n",
       "      <td>NaN</td>\n",
       "      <td>471.921732</td>\n",
       "      <td>171.772347</td>\n",
       "      <td>261.663800</td>\n",
       "      <td>391.426450</td>\n",
       "      <td>520.718168</td>\n",
       "      <td>222.567848</td>\n",
       "      <td>...</td>\n",
       "      <td>483.405773</td>\n",
       "      <td>284.566966</td>\n",
       "      <td>302.123253</td>\n",
       "      <td>384.236802</td>\n",
       "      <td>NaN</td>\n",
       "      <td>NaN</td>\n",
       "      <td>227.418981</td>\n",
       "      <td>320.074333</td>\n",
       "      <td>NaN</td>\n",
       "      <td>438.860545</td>\n",
       "    </tr>\n",
       "    <tr>\n",
       "      <th>2012</th>\n",
       "      <td>183.099317</td>\n",
       "      <td>344.490914</td>\n",
       "      <td>165.798062</td>\n",
       "      <td>NaN</td>\n",
       "      <td>368.266561</td>\n",
       "      <td>338.601164</td>\n",
       "      <td>279.030140</td>\n",
       "      <td>334.487873</td>\n",
       "      <td>NaN</td>\n",
       "      <td>356.794814</td>\n",
       "      <td>...</td>\n",
       "      <td>465.802122</td>\n",
       "      <td>304.899648</td>\n",
       "      <td>445.196788</td>\n",
       "      <td>345.958040</td>\n",
       "      <td>NaN</td>\n",
       "      <td>325.795415</td>\n",
       "      <td>274.338460</td>\n",
       "      <td>NaN</td>\n",
       "      <td>NaN</td>\n",
       "      <td>491.814003</td>\n",
       "    </tr>\n",
       "    <tr>\n",
       "      <th>2013</th>\n",
       "      <td>387.794144</td>\n",
       "      <td>453.340498</td>\n",
       "      <td>259.547163</td>\n",
       "      <td>NaN</td>\n",
       "      <td>630.897303</td>\n",
       "      <td>455.218089</td>\n",
       "      <td>343.054261</td>\n",
       "      <td>330.736431</td>\n",
       "      <td>453.771605</td>\n",
       "      <td>NaN</td>\n",
       "      <td>...</td>\n",
       "      <td>653.311617</td>\n",
       "      <td>414.435693</td>\n",
       "      <td>1290.472107</td>\n",
       "      <td>285.009506</td>\n",
       "      <td>293.298372</td>\n",
       "      <td>588.074797</td>\n",
       "      <td>217.089069</td>\n",
       "      <td>747.333538</td>\n",
       "      <td>NaN</td>\n",
       "      <td>753.011413</td>\n",
       "    </tr>\n",
       "    <tr>\n",
       "      <th>2014</th>\n",
       "      <td>484.443552</td>\n",
       "      <td>620.441407</td>\n",
       "      <td>254.958662</td>\n",
       "      <td>NaN</td>\n",
       "      <td>544.546929</td>\n",
       "      <td>NaN</td>\n",
       "      <td>423.952727</td>\n",
       "      <td>456.241996</td>\n",
       "      <td>NaN</td>\n",
       "      <td>888.182144</td>\n",
       "      <td>...</td>\n",
       "      <td>708.193032</td>\n",
       "      <td>562.911234</td>\n",
       "      <td>558.271119</td>\n",
       "      <td>475.393187</td>\n",
       "      <td>282.025468</td>\n",
       "      <td>687.782963</td>\n",
       "      <td>429.488317</td>\n",
       "      <td>NaN</td>\n",
       "      <td>742.979723</td>\n",
       "      <td>479.923749</td>\n",
       "    </tr>\n",
       "    <tr>\n",
       "      <th>2015</th>\n",
       "      <td>602.115877</td>\n",
       "      <td>465.686275</td>\n",
       "      <td>NaN</td>\n",
       "      <td>590.792839</td>\n",
       "      <td>458.004299</td>\n",
       "      <td>551.695622</td>\n",
       "      <td>473.163815</td>\n",
       "      <td>453.379377</td>\n",
       "      <td>NaN</td>\n",
       "      <td>1100.791194</td>\n",
       "      <td>...</td>\n",
       "      <td>996.990220</td>\n",
       "      <td>417.335379</td>\n",
       "      <td>2258.702832</td>\n",
       "      <td>677.838232</td>\n",
       "      <td>302.221873</td>\n",
       "      <td>NaN</td>\n",
       "      <td>481.469244</td>\n",
       "      <td>NaN</td>\n",
       "      <td>NaN</td>\n",
       "      <td>963.522606</td>\n",
       "    </tr>\n",
       "    <tr>\n",
       "      <th>2016</th>\n",
       "      <td>340.981835</td>\n",
       "      <td>88.401511</td>\n",
       "      <td>NaN</td>\n",
       "      <td>NaN</td>\n",
       "      <td>986.842105</td>\n",
       "      <td>851.401405</td>\n",
       "      <td>661.064426</td>\n",
       "      <td>581.370875</td>\n",
       "      <td>NaN</td>\n",
       "      <td>NaN</td>\n",
       "      <td>...</td>\n",
       "      <td>903.049771</td>\n",
       "      <td>970.085470</td>\n",
       "      <td>NaN</td>\n",
       "      <td>552.602567</td>\n",
       "      <td>328.319007</td>\n",
       "      <td>NaN</td>\n",
       "      <td>NaN</td>\n",
       "      <td>NaN</td>\n",
       "      <td>631.195426</td>\n",
       "      <td>NaN</td>\n",
       "    </tr>\n",
       "  </tbody>\n",
       "</table>\n",
       "<p>7 rows × 73 columns</p>\n",
       "</div>"
      ],
      "text/plain": [
       "neighborhood  Alamo Square  Anza Vista     Bayview  Bayview Heights  \\\n",
       "year                                                                  \n",
       "2010            291.182945  267.932583  170.098665              NaN   \n",
       "2011            272.527310         NaN  172.540562              NaN   \n",
       "2012            183.099317  344.490914  165.798062              NaN   \n",
       "2013            387.794144  453.340498  259.547163              NaN   \n",
       "2014            484.443552  620.441407  254.958662              NaN   \n",
       "2015            602.115877  465.686275         NaN       590.792839   \n",
       "2016            340.981835   88.401511         NaN              NaN   \n",
       "\n",
       "neighborhood  Bernal Heights   Buena Vista Park  Central Richmond  \\\n",
       "year                                                                \n",
       "2010                      NaN        347.394919        319.027623   \n",
       "2011               471.921732        171.772347        261.663800   \n",
       "2012               368.266561        338.601164        279.030140   \n",
       "2013               630.897303        455.218089        343.054261   \n",
       "2014               544.546929               NaN        423.952727   \n",
       "2015               458.004299        551.695622        473.163815   \n",
       "2016               986.842105        851.401405        661.064426   \n",
       "\n",
       "neighborhood  Central Sunset  Clarendon Heights  Corona Heights  ...  \\\n",
       "year                                                             ...   \n",
       "2010              418.172493                NaN      369.359338  ...   \n",
       "2011              391.426450         520.718168      222.567848  ...   \n",
       "2012              334.487873                NaN      356.794814  ...   \n",
       "2013              330.736431         453.771605             NaN  ...   \n",
       "2014              456.241996                NaN      888.182144  ...   \n",
       "2015              453.379377                NaN     1100.791194  ...   \n",
       "2016              581.370875                NaN             NaN  ...   \n",
       "\n",
       "neighborhood  Telegraph Hill  Twin Peaks  Union Square District  \\\n",
       "year                                                              \n",
       "2010              524.793509  331.555996             569.193448   \n",
       "2011              483.405773  284.566966             302.123253   \n",
       "2012              465.802122  304.899648             445.196788   \n",
       "2013              653.311617  414.435693            1290.472107   \n",
       "2014              708.193032  562.911234             558.271119   \n",
       "2015              996.990220  417.335379            2258.702832   \n",
       "2016              903.049771  970.085470                    NaN   \n",
       "\n",
       "neighborhood  Van Ness/ Civic Center  Visitacion Valley  West Portal  \\\n",
       "year                                                                   \n",
       "2010                      108.012927                NaN   392.300764   \n",
       "2011                      384.236802                NaN          NaN   \n",
       "2012                      345.958040                NaN   325.795415   \n",
       "2013                      285.009506         293.298372   588.074797   \n",
       "2014                      475.393187         282.025468   687.782963   \n",
       "2015                      677.838232         302.221873          NaN   \n",
       "2016                      552.602567         328.319007          NaN   \n",
       "\n",
       "neighborhood  Western Addition  Westwood Highlands  Westwood Park  Yerba Buena  \n",
       "year                                                                            \n",
       "2010                215.569134                 NaN            NaN   333.126774  \n",
       "2011                227.418981          320.074333            NaN   438.860545  \n",
       "2012                274.338460                 NaN            NaN   491.814003  \n",
       "2013                217.089069          747.333538            NaN   753.011413  \n",
       "2014                429.488317                 NaN     742.979723   479.923749  \n",
       "2015                481.469244                 NaN            NaN   963.522606  \n",
       "2016                       NaN                 NaN     631.195426          NaN  \n",
       "\n",
       "[7 rows x 73 columns]"
      ]
     },
     "execution_count": 224,
     "metadata": {},
     "output_type": "execute_result"
    }
   ],
   "source": [
    "#Preparing data for calculating changes in prices per sqr foot across neighborhoods\n",
    "prices_by_year_by_neighborhood.sale_price_sqr_foot.unstack()"
   ]
  },
  {
   "cell_type": "code",
   "execution_count": 172,
   "metadata": {},
   "outputs": [
    {
     "data": {
      "text/html": [
       "<div>\n",
       "<style scoped>\n",
       "    .dataframe tbody tr th:only-of-type {\n",
       "        vertical-align: middle;\n",
       "    }\n",
       "\n",
       "    .dataframe tbody tr th {\n",
       "        vertical-align: top;\n",
       "    }\n",
       "\n",
       "    .dataframe thead th {\n",
       "        text-align: right;\n",
       "    }\n",
       "</style>\n",
       "<table border=\"1\" class=\"dataframe\">\n",
       "  <thead>\n",
       "    <tr style=\"text-align: right;\">\n",
       "      <th>year</th>\n",
       "      <th>2010</th>\n",
       "      <th>2011</th>\n",
       "      <th>2012</th>\n",
       "      <th>2013</th>\n",
       "      <th>2014</th>\n",
       "      <th>2015</th>\n",
       "      <th>2016</th>\n",
       "    </tr>\n",
       "    <tr>\n",
       "      <th>neighborhood</th>\n",
       "      <th></th>\n",
       "      <th></th>\n",
       "      <th></th>\n",
       "      <th></th>\n",
       "      <th></th>\n",
       "      <th></th>\n",
       "      <th></th>\n",
       "    </tr>\n",
       "  </thead>\n",
       "  <tbody>\n",
       "    <tr>\n",
       "      <th>Outer Mission</th>\n",
       "      <td>NaN</td>\n",
       "      <td>NaN</td>\n",
       "      <td>0.560976</td>\n",
       "      <td>0.000000</td>\n",
       "      <td>0.000000</td>\n",
       "      <td>1.545000</td>\n",
       "      <td>-0.927796</td>\n",
       "    </tr>\n",
       "    <tr>\n",
       "      <th>Anza Vista</th>\n",
       "      <td>NaN</td>\n",
       "      <td>0.000000</td>\n",
       "      <td>0.285737</td>\n",
       "      <td>0.315972</td>\n",
       "      <td>0.368599</td>\n",
       "      <td>-0.249427</td>\n",
       "      <td>-0.810169</td>\n",
       "    </tr>\n",
       "    <tr>\n",
       "      <th>Hayes Valley</th>\n",
       "      <td>NaN</td>\n",
       "      <td>0.031018</td>\n",
       "      <td>0.091359</td>\n",
       "      <td>0.604519</td>\n",
       "      <td>-0.127475</td>\n",
       "      <td>0.250938</td>\n",
       "      <td>-0.673723</td>\n",
       "    </tr>\n",
       "    <tr>\n",
       "      <th>Park North</th>\n",
       "      <td>NaN</td>\n",
       "      <td>-0.111686</td>\n",
       "      <td>-0.005273</td>\n",
       "      <td>0.779483</td>\n",
       "      <td>-0.274479</td>\n",
       "      <td>0.657790</td>\n",
       "      <td>-0.657297</td>\n",
       "    </tr>\n",
       "    <tr>\n",
       "      <th>Marina</th>\n",
       "      <td>NaN</td>\n",
       "      <td>0.008843</td>\n",
       "      <td>0.139186</td>\n",
       "      <td>0.471644</td>\n",
       "      <td>-0.018864</td>\n",
       "      <td>0.762243</td>\n",
       "      <td>-0.618706</td>\n",
       "    </tr>\n",
       "    <tr>\n",
       "      <th>Alamo Square</th>\n",
       "      <td>NaN</td>\n",
       "      <td>-0.064068</td>\n",
       "      <td>-0.328143</td>\n",
       "      <td>1.117944</td>\n",
       "      <td>0.249229</td>\n",
       "      <td>0.242902</td>\n",
       "      <td>-0.433694</td>\n",
       "    </tr>\n",
       "    <tr>\n",
       "      <th>Inner Parkside</th>\n",
       "      <td>NaN</td>\n",
       "      <td>0.000000</td>\n",
       "      <td>0.000000</td>\n",
       "      <td>0.000000</td>\n",
       "      <td>1.990458</td>\n",
       "      <td>0.276836</td>\n",
       "      <td>-0.320532</td>\n",
       "    </tr>\n",
       "    <tr>\n",
       "      <th>Inner Sunset</th>\n",
       "      <td>NaN</td>\n",
       "      <td>0.097309</td>\n",
       "      <td>0.076748</td>\n",
       "      <td>0.336731</td>\n",
       "      <td>0.081066</td>\n",
       "      <td>0.357421</td>\n",
       "      <td>-0.302314</td>\n",
       "    </tr>\n",
       "    <tr>\n",
       "      <th>South of Market</th>\n",
       "      <td>NaN</td>\n",
       "      <td>-0.157943</td>\n",
       "      <td>0.372567</td>\n",
       "      <td>-0.092684</td>\n",
       "      <td>1.661074</td>\n",
       "      <td>-0.359656</td>\n",
       "      <td>-0.259309</td>\n",
       "    </tr>\n",
       "    <tr>\n",
       "      <th>Lower Pacific Heights</th>\n",
       "      <td>NaN</td>\n",
       "      <td>-0.188510</td>\n",
       "      <td>0.305151</td>\n",
       "      <td>0.383359</td>\n",
       "      <td>0.307145</td>\n",
       "      <td>0.116785</td>\n",
       "      <td>-0.204500</td>\n",
       "    </tr>\n",
       "    <tr>\n",
       "      <th>Van Ness/ Civic Center</th>\n",
       "      <td>NaN</td>\n",
       "      <td>2.557322</td>\n",
       "      <td>-0.099623</td>\n",
       "      <td>-0.176173</td>\n",
       "      <td>0.667991</td>\n",
       "      <td>0.425848</td>\n",
       "      <td>-0.184757</td>\n",
       "    </tr>\n",
       "    <tr>\n",
       "      <th>Inner Richmond</th>\n",
       "      <td>NaN</td>\n",
       "      <td>0.259654</td>\n",
       "      <td>0.037301</td>\n",
       "      <td>-0.188770</td>\n",
       "      <td>0.422396</td>\n",
       "      <td>0.145440</td>\n",
       "      <td>-0.182945</td>\n",
       "    </tr>\n",
       "    <tr>\n",
       "      <th>Westwood Park</th>\n",
       "      <td>NaN</td>\n",
       "      <td>NaN</td>\n",
       "      <td>NaN</td>\n",
       "      <td>NaN</td>\n",
       "      <td>NaN</td>\n",
       "      <td>0.000000</td>\n",
       "      <td>-0.150454</td>\n",
       "    </tr>\n",
       "    <tr>\n",
       "      <th>Potrero Hill</th>\n",
       "      <td>NaN</td>\n",
       "      <td>0.023784</td>\n",
       "      <td>-0.072526</td>\n",
       "      <td>0.282991</td>\n",
       "      <td>0.745771</td>\n",
       "      <td>-0.214218</td>\n",
       "      <td>-0.138377</td>\n",
       "    </tr>\n",
       "    <tr>\n",
       "      <th>Telegraph Hill</th>\n",
       "      <td>NaN</td>\n",
       "      <td>-0.078865</td>\n",
       "      <td>-0.036416</td>\n",
       "      <td>0.402552</td>\n",
       "      <td>0.084005</td>\n",
       "      <td>0.407794</td>\n",
       "      <td>-0.094224</td>\n",
       "    </tr>\n",
       "  </tbody>\n",
       "</table>\n",
       "</div>"
      ],
      "text/plain": [
       "year                    2010      2011      2012      2013      2014  \\\n",
       "neighborhood                                                           \n",
       "Outer Mission            NaN       NaN  0.560976  0.000000  0.000000   \n",
       "Anza Vista               NaN  0.000000  0.285737  0.315972  0.368599   \n",
       "Hayes Valley             NaN  0.031018  0.091359  0.604519 -0.127475   \n",
       "Park North               NaN -0.111686 -0.005273  0.779483 -0.274479   \n",
       "Marina                   NaN  0.008843  0.139186  0.471644 -0.018864   \n",
       "Alamo Square             NaN -0.064068 -0.328143  1.117944  0.249229   \n",
       "Inner Parkside           NaN  0.000000  0.000000  0.000000  1.990458   \n",
       "Inner Sunset             NaN  0.097309  0.076748  0.336731  0.081066   \n",
       "South of Market          NaN -0.157943  0.372567 -0.092684  1.661074   \n",
       "Lower Pacific Heights    NaN -0.188510  0.305151  0.383359  0.307145   \n",
       "Van Ness/ Civic Center   NaN  2.557322 -0.099623 -0.176173  0.667991   \n",
       "Inner Richmond           NaN  0.259654  0.037301 -0.188770  0.422396   \n",
       "Westwood Park            NaN       NaN       NaN       NaN       NaN   \n",
       "Potrero Hill             NaN  0.023784 -0.072526  0.282991  0.745771   \n",
       "Telegraph Hill           NaN -0.078865 -0.036416  0.402552  0.084005   \n",
       "\n",
       "year                        2015      2016  \n",
       "neighborhood                                \n",
       "Outer Mission           1.545000 -0.927796  \n",
       "Anza Vista             -0.249427 -0.810169  \n",
       "Hayes Valley            0.250938 -0.673723  \n",
       "Park North              0.657790 -0.657297  \n",
       "Marina                  0.762243 -0.618706  \n",
       "Alamo Square            0.242902 -0.433694  \n",
       "Inner Parkside          0.276836 -0.320532  \n",
       "Inner Sunset            0.357421 -0.302314  \n",
       "South of Market        -0.359656 -0.259309  \n",
       "Lower Pacific Heights   0.116785 -0.204500  \n",
       "Van Ness/ Civic Center  0.425848 -0.184757  \n",
       "Inner Richmond          0.145440 -0.182945  \n",
       "Westwood Park           0.000000 -0.150454  \n",
       "Potrero Hill           -0.214218 -0.138377  \n",
       "Telegraph Hill          0.407794 -0.094224  "
      ]
     },
     "execution_count": 172,
     "metadata": {},
     "output_type": "execute_result"
    }
   ],
   "source": [
    "# Calculation of the change in prices per square feet per year and neighborhood sorted by the ones that have\n",
    "# more decrease in price in 2016\n",
    "change_in_prices_by_year=prices_by_year_by_neighborhood.sale_price_sqr_foot.unstack().pct_change()\n",
    "change_in_prices_by_year.T.sort_values(2016).head(15)"
   ]
  },
  {
   "cell_type": "code",
   "execution_count": 225,
   "metadata": {},
   "outputs": [
    {
     "name": "stdout",
     "output_type": "stream",
     "text": [
      "year           2010  2011  2012  2013  2014  2015      2016\n",
      "neighborhood                                               \n",
      "Anza Vista      NaN   NaN   NaN   NaN   NaN   NaN -0.670061\n",
      "South Beach     NaN   NaN   NaN   NaN   NaN   NaN -0.494138\n",
      "Hayes Valley    NaN   NaN   NaN   NaN   NaN   NaN -0.357048\n",
      "Park North      NaN   NaN   NaN   NaN   NaN   NaN -0.351870\n",
      "Ingleside       NaN   NaN   NaN   NaN   NaN   NaN -0.301361\n",
      "Oceanview       NaN   NaN   NaN   NaN   NaN   NaN -0.057386\n",
      "Hunters Point   NaN   NaN   NaN   NaN   NaN   NaN  0.000000\n",
      "Marina          NaN   NaN   NaN   NaN   NaN   NaN  0.115004\n",
      "year                    2010  2011  2012  2013  2014  2015      2016\n",
      "neighborhood                                                        \n",
      "Twin Peaks               NaN   NaN   NaN   NaN   NaN   NaN  1.925857\n",
      "Downtown                 NaN   NaN   NaN   NaN   NaN   NaN  1.972553\n",
      "Corona Heights           NaN   NaN   NaN   NaN   NaN   NaN  1.980272\n",
      "Mission Terrace          NaN   NaN   NaN   NaN   NaN   NaN  2.343846\n",
      "Croker Amazon            NaN   NaN   NaN   NaN   NaN   NaN  2.421164\n",
      "Outer Richmond           NaN   NaN   NaN   NaN   NaN   NaN  2.539050\n",
      "Union Square District    NaN   NaN   NaN   NaN   NaN   NaN  2.968252\n",
      "Van Ness/ Civic Center   NaN   NaN   NaN   NaN   NaN   NaN  4.116078\n"
     ]
    },
    {
     "name": "stderr",
     "output_type": "stream",
     "text": [
      "/Users/Paola/Applications/anaconda3/envs/dev/lib/python3.7/site-packages/ipykernel_launcher.py:3: UserWarning:\n",
      "\n",
      "Boolean Series key will be reindexed to match DataFrame index.\n",
      "\n"
     ]
    }
   ],
   "source": [
    "appreciation_full_period=prices_by_year_by_neighborhood.sale_price_sqr_foot.unstack().pct_change(6)\n",
    "print(appreciation_full_period.T.sort_values(2016).head(8))\n",
    "print(appreciation_full_period.T.sort_values(2016)[appreciation_full_period.loc[2016,:]>0].tail(8))"
   ]
  },
  {
   "cell_type": "code",
   "execution_count": 228,
   "metadata": {},
   "outputs": [
    {
     "data": {},
     "metadata": {},
     "output_type": "display_data"
    },
    {
     "data": {
      "application/vnd.holoviews_exec.v0+json": "",
      "text/html": [
       "<div id='13932'>\n",
       "\n",
       "\n",
       "\n",
       "\n",
       "\n",
       "  <div class=\"bk-root\" id=\"d72a0cc2-b8f4-4922-aaad-8257dcde3255\" data-root-id=\"13932\"></div>\n",
       "</div>\n",
       "<script type=\"application/javascript\">(function(root) {\n",
       "  function embed_document(root) {\n",
       "    var docs_json = {\"ac12e69e-1bfb-42bd-b8b7-4129c2a335f9\":{\"defs\":[{\"extends\":null,\"module\":null,\"name\":\"ReactiveHTML1\",\"overrides\":[],\"properties\":[]},{\"extends\":null,\"module\":null,\"name\":\"FlexBox1\",\"overrides\":[],\"properties\":[{\"default\":\"flex-start\",\"kind\":null,\"name\":\"align_content\"},{\"default\":\"flex-start\",\"kind\":null,\"name\":\"align_items\"},{\"default\":\"row\",\"kind\":null,\"name\":\"flex_direction\"},{\"default\":\"wrap\",\"kind\":null,\"name\":\"flex_wrap\"},{\"default\":\"flex-start\",\"kind\":null,\"name\":\"justify_content\"}]},{\"extends\":null,\"module\":null,\"name\":\"TemplateActions1\",\"overrides\":[],\"properties\":[{\"default\":0,\"kind\":null,\"name\":\"open_modal\"},{\"default\":0,\"kind\":null,\"name\":\"close_modal\"}]},{\"extends\":null,\"module\":null,\"name\":\"MaterialTemplateActions1\",\"overrides\":[],\"properties\":[{\"default\":0,\"kind\":null,\"name\":\"open_modal\"},{\"default\":0,\"kind\":null,\"name\":\"close_modal\"}]}],\"roots\":{\"references\":[{\"attributes\":{},\"id\":\"13951\",\"type\":\"CategoricalTicker\"},{\"attributes\":{\"data\":{\"bottom\":{\"__ndarray__\":\"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\",\"dtype\":\"float64\",\"order\":\"little\",\"shape\":[410]},\"neighborhood\":[\"Park North\",\"Outer Richmond \",\"Presidio Heights\",\"Twin Peaks\",\"Cow Hollow\",\"Sunnyside\",\"Glen Park\",\"Buena Vista Park\",\"Downtown \",\"Noe Valley\",\"Outer Sunset\",\"Central Richmond\",\"Central Sunset\",\"Outer Parkside\",\"Croker Amazon\",\"Financial District North\",\"Corona Heights\",\"Diamond Heights\",\"Miraloma Park\",\"South Beach\",\"Portola\",\"Parkside\",\"Union Square District\",\"Lone Mountain\",\"Telegraph Hill\",\"Lower Pacific Heights\",\"South of Market\",\"Alamo Square\",\"Golden Gate Heights\",\"Central Sunset\",\"Russian Hill\",\"Presidio Heights\",\"Bernal Heights \",\"Jordan Park/Laurel Heights\",\"Nob Hill\",\"Bayview\",\"Potrero Hill\",\"West Portal\",\"Telegraph Hill\",\"Van Ness/ Civic Center\",\"Alamo Square\",\"Park North\",\"Diamond Heights\",\"Financial District North\",\"Outer Richmond \",\"Parnassus/Ashbury Heights\",\"Croker Amazon\",\"Outer Sunset\",\"Central Sunset\",\"Pacific Heights\",\"Clarendon Heights\",\"Excelsior\",\"Parkside\",\"Western Addition\",\"Lone Mountain\",\"Portola\",\"North Beach\",\"Inner Richmond\",\"Van Ness/ Civic Center\",\"South of Market\",\"Mission Bay\",\"Bernal Heights \",\"Cow Hollow\",\"Sunnyside\",\"Mission Terrace\",\"Jordan Park/Laurel Heights\",\"Visitacion Valley\",\"Golden Gate Heights\",\"Bayview\",\"Yerba Buena\",\"Lake --The Presidio\",\"North Waterfront\",\"Union Square District\",\"Lone Mountain\",\"Marina\",\"Park North\",\"Hayes Valley\",\"Bernal Heights \",\"Parnassus/Ashbury Heights\",\"Cow Hollow\",\"Sunnyside\",\"Twin Peaks\",\"Inner Mission\",\"Noe Valley\",\"Outer Sunset\",\"Oceanview\",\"Ingleside \",\"Financial District South\",\"Lake --The Presidio\",\"Mission Dolores\",\"Potrero Hill\",\"South of Market\",\"Anza Vista\",\"Central Sunset\",\"Telegraph Hill\",\"Potrero Hill\",\"Westwood Park\",\"Inner Richmond\",\"Van Ness/ Civic Center\",\"Lower Pacific Heights\",\"South of Market\",\"Marina\",\"Inner Parkside\",\"Alamo Square\",\"Park North\",\"Hayes Valley\",\"Anza Vista\",\"Outer Mission\",\"North Beach\",\"Inner Sunset\",\"Haight Ashbury\",\"Anza Vista\",\"Mission Bay\",\"Parnassus/Ashbury Heights\",\"Inner Mission\",\"Nob Hill\",\"Eureka Valley/Dolores Heights\",\"Russian Hill\",\"Excelsior\",\"Jordan Park/Laurel Heights\",\"Pacific Heights\",\"Hunters Point\",\"Ingleside \",\"Bayview\",\"Forest Knolls\",\"Financial District South\",\"Mission Terrace\",\"Lake --The Presidio\",\"Yerba Buena\",\"Hayes Valley\",\"Inner Parkside\",\"Inner Sunset\",\"Van Ness/ Civic Center\",\"Inner Richmond\",\"Marina\",\"Haight Ashbury\",\"Western Addition\",\"Mission Dolores\",\"Oceanview\",\"Potrero Hill\",\"West Portal\",\"Central Richmond\",\"Eureka Valley/Dolores Heights\",\"Excelsior\",\"Outer Parkside\",\"Golden Gate Heights\",\"Hunters Point\",\"Ingleside \",\"Financial District North\",\"Outer Sunset\",\"Forest Knolls\",\"Pacific Heights\",\"Noe Valley\",\"Cow Hollow\",\"Inner Mission\",\"Mission Terrace\",\"Buena Vista Park\",\"Glen Park\",\"Sunnyside\",\"Croker Amazon\",\"Parnassus/Ashbury Heights\",\"Twin Peaks\",\"Ingleside Heights\",\"Mission Bay\",\"Financial District South\",\"Downtown \",\"Corona Heights\",\"Outer Richmond \",\"Duboce Triangle\",\"Anza Vista\",\"Hayes Valley\",\"Marina\",\"Inner Parkside\",\"Inner Sunset\",\"South of Market\",\"Lower Pacific Heights\",\"Inner Richmond\",\"North Beach\",\"Haight Ashbury\",\"Lone Mountain\",\"Outer Mission\",\"Western Addition\",\"Westwood Highlands\",\"Yerba Buena\",\"Lake --The Presidio\",\"Miraloma Park\",\"South Beach\",\"Clarendon Heights\",\"Parkside\",\"Oceanview\",\"North Waterfront\",\"Portola\",\"Mission Dolores\",\"Union Square District\",\"Central Richmond\",\"Eureka Valley/Dolores Heights\",\"Russian Hill\",\"Jordan Park/Laurel Heights\",\"Hunters Point\",\"Nob Hill\",\"Golden Gate Heights\",\"Ingleside \",\"Bayview\",\"Forest Knolls\",\"Outer Parkside\",\"Noe Valley\",\"Mission Terrace\",\"Inner Mission\",\"Buena Vista Park\",\"Glen Park\",\"Cow Hollow\",\"Bernal Heights \",\"Twin Peaks\",\"Presidio Heights\",\"Merced Heights\",\"Ingleside Heights\",\"Financial District South\",\"Mission Bay\",\"Downtown \",\"Sunnyside\",\"Corona Heights\",\"Duboce Triangle\",\"Diamond Heights\",\"Outer Mission\",\"Anza Vista\",\"Hayes Valley\",\"Park North\",\"Marina\",\"Inner Parkside\",\"Inner Sunset\",\"Lower Pacific Heights\",\"Potrero Hill\",\"Telegraph Hill\",\"Alamo Square\",\"Westwood Highlands\",\"Yerba Buena\",\"Haight Ashbury\",\"Lake --The Presidio\",\"Miraloma Park\",\"West Portal\",\"South Beach\",\"North Waterfront\",\"Mission Dolores\",\"Union Square District\",\"Midtown Terrace\",\"Oceanview\",\"Central Richmond\",\"Excelsior\",\"Eureka Valley/Dolores Heights\",\"Russian Hill\",\"Central Sunset\",\"Financial District North\",\"Pacific Heights\",\"Hunters Point\",\"Ingleside \",\"Outer Sunset\",\"Outer Parkside\",\"Nob Hill\",\"Ingleside Heights\",\"Downtown \",\"Inner Mission\",\"Buena Vista Park\",\"Glen Park\",\"Croker Amazon\",\"Parnassus/Ashbury Heights\",\"Twin Peaks\",\"Presidio Heights\",\"Merced Heights\",\"Outer Richmond \",\"Forest Knolls\",\"Noe Valley\",\"Financial District South\",\"Western Addition\",\"Clarendon Heights\",\"Outer Mission\",\"Anza Vista\",\"Alamo Square\",\"Inner Parkside\",\"Inner Sunset\",\"South of Market\",\"Lower Pacific Heights\",\"Inner Richmond\",\"Potrero Hill\",\"Telegraph Hill\",\"North Beach\",\"Haight Ashbury\",\"Van Ness/ Civic Center\",\"Diamond Heights\",\"Westwood Highlands\",\"Duboce Triangle\",\"Miraloma Park\",\"South Beach\",\"Portola\",\"Corona Heights\",\"West Portal\",\"Oceanview\",\"Mission Dolores\",\"Midtown Terrace\",\"Parkside\",\"Jordan Park/Laurel Heights\",\"Outer Parkside\",\"Pacific Heights\",\"Visitacion Valley\",\"Hunters Point\",\"Bayview\",\"Financial District North\",\"Forest Knolls\",\"Corona Heights\",\"Excelsior\",\"Golden Gate Heights\",\"Clarendon Heights\",\"Ingleside Heights\",\"Central Richmond\",\"Nob Hill\",\"Downtown \",\"Mission Terrace\",\"Buena Vista Park\",\"Glen Park\",\"Croker Amazon\",\"Presidio Heights\",\"Merced Heights\",\"Outer Richmond \",\"Diamond Heights\",\"Mission Bay\",\"Russian Hill\",\"Duboce Triangle\",\"Eureka Valley/Dolores Heights\",\"Miraloma Park\",\"Yerba Buena\",\"Outer Mission\",\"Hayes Valley\",\"Park North\",\"Marina\",\"Alamo Square\",\"Inner Parkside\",\"Lower Pacific Heights\",\"Van Ness/ Civic Center\",\"Inner Richmond\",\"Westwood Park\",\"Telegraph Hill\",\"Inner Sunset\",\"Haight Ashbury\",\"North Beach\",\"Silver Terrace\",\"Portola\",\"Parkside\",\"North Waterfront\",\"West Portal\",\"South Beach\",\"Midtown Terrace\",\"Western Addition\",\"Westwood Highlands\",\"Lone Mountain\",\"Union Square District\",\"Central Richmond\",\"Nob Hill\",\"Outer Sunset\",\"Eureka Valley/Dolores Heights\",\"Pacific Heights\",\"Excelsior\",\"Central Sunset\",\"Jordan Park/Laurel Heights\",\"Outer Parkside\",\"Noe Valley\",\"Russian Hill\",\"Downtown \",\"Outer Richmond \",\"Mission Terrace\",\"Buena Vista Park\",\"Glen Park\",\"Sunnyside\",\"Cow Hollow\",\"Croker Amazon\",\"Parnassus/Ashbury Heights\",\"Bernal Heights \",\"Twin Peaks\",\"Presidio Heights\",\"Merced Heights\",\"Visitacion Valley\",\"Inner Mission\",\"Hunters Point\",\"Lake --The Presidio\",\"Ingleside \",\"Ingleside Heights\",\"Lone Mountain\",\"Westwood Highlands\",\"Western Addition\",\"Midtown Terrace\",\"Union Square District\",\"Mission Dolores\",\"North Waterfront\",\"Oceanview\",\"West Portal\",\"Parkside\",\"Portola\",\"Silver Terrace\",\"South Beach\",\"Miraloma Park\",\"Yerba Buena\",\"Duboce Triangle\",\"Diamond Heights\",\"Clarendon Heights\",\"Corona Heights\",\"Financial District South\",\"Forest Knolls\",\"Financial District North\",\"Bayview Heights\",\"Bayview\",\"Golden Gate Heights\",\"Mission Bay\"],\"top\":{\"__ndarray__\":\"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\",\"dtype\":\"float64\",\"order\":\"little\",\"shape\":[410]},\"value\":{\"__ndarray__\":\"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\",\"dtype\":\"float64\",\"order\":\"little\",\"shape\":[410]},\"year\":[\"2011\",\"2011\",\"2011\",\"2011\",\"2011\",\"2011\",\"2011\",\"2011\",\"2011\",\"2011\",\"2011\",\"2011\",\"2011\",\"2011\",\"2011\",\"2011\",\"2011\",\"2011\",\"2011\",\"2011\",\"2011\",\"2011\",\"2011\",\"2011\",\"2011\",\"2011\",\"2011\",\"2011\",\"2011\",\"2012\",\"2012\",\"2012\",\"2012\",\"2012\",\"2012\",\"2012\",\"2012\",\"2012\",\"2012\",\"2012\",\"2012\",\"2012\",\"2012\",\"2013\",\"2013\",\"2013\",\"2013\",\"2013\",\"2013\",\"2013\",\"2013\",\"2013\",\"2013\",\"2013\",\"2013\",\"2013\",\"2013\",\"2013\",\"2013\",\"2013\",\"2014\",\"2014\",\"2014\",\"2014\",\"2014\",\"2014\",\"2014\",\"2014\",\"2014\",\"2014\",\"2014\",\"2014\",\"2014\",\"2014\",\"2014\",\"2014\",\"2014\",\"2015\",\"2015\",\"2015\",\"2015\",\"2015\",\"2015\",\"2015\",\"2015\",\"2015\",\"2015\",\"2015\",\"2015\",\"2015\",\"2015\",\"2015\",\"2015\",\"2015\",\"2016\",\"2016\",\"2016\",\"2016\",\"2016\",\"2016\",\"2016\",\"2016\",\"2016\",\"2016\",\"2016\",\"2016\",\"2016\",\"2016\",\"2016\",\"2016\",\"2016\",\"2011\",\"2011\",\"2011\",\"2011\",\"2011\",\"2011\",\"2011\",\"2011\",\"2011\",\"2011\",\"2011\",\"2011\",\"2011\",\"2011\",\"2011\",\"2011\",\"2011\",\"2011\",\"2011\",\"2011\",\"2011\",\"2011\",\"2011\",\"2011\",\"2011\",\"2011\",\"2011\",\"2011\",\"2011\",\"2011\",\"2012\",\"2012\",\"2012\",\"2012\",\"2012\",\"2012\",\"2012\",\"2012\",\"2012\",\"2012\",\"2012\",\"2012\",\"2012\",\"2012\",\"2012\",\"2012\",\"2012\",\"2012\",\"2012\",\"2012\",\"2012\",\"2012\",\"2012\",\"2012\",\"2012\",\"2012\",\"2012\",\"2012\",\"2012\",\"2012\",\"2012\",\"2012\",\"2012\",\"2012\",\"2012\",\"2012\",\"2012\",\"2012\",\"2012\",\"2012\",\"2012\",\"2012\",\"2012\",\"2012\",\"2012\",\"2012\",\"2012\",\"2012\",\"2012\",\"2012\",\"2012\",\"2012\",\"2012\",\"2013\",\"2013\",\"2013\",\"2013\",\"2013\",\"2013\",\"2013\",\"2013\",\"2013\",\"2013\",\"2013\",\"2013\",\"2013\",\"2013\",\"2013\",\"2013\",\"2013\",\"2013\",\"2013\",\"2013\",\"2013\",\"2013\",\"2013\",\"2013\",\"2013\",\"2013\",\"2013\",\"2013\",\"2013\",\"2013\",\"2013\",\"2013\",\"2013\",\"2013\",\"2013\",\"2013\",\"2013\",\"2013\",\"2013\",\"2013\",\"2013\",\"2013\",\"2013\",\"2013\",\"2013\",\"2013\",\"2013\",\"2013\",\"2013\",\"2013\",\"2013\",\"2013\",\"2014\",\"2014\",\"2014\",\"2014\",\"2014\",\"2014\",\"2014\",\"2014\",\"2014\",\"2014\",\"2014\",\"2014\",\"2014\",\"2014\",\"2014\",\"2014\",\"2014\",\"2014\",\"2014\",\"2014\",\"2014\",\"2014\",\"2014\",\"2014\",\"2014\",\"2014\",\"2014\",\"2014\",\"2014\",\"2014\",\"2014\",\"2014\",\"2014\",\"2014\",\"2014\",\"2014\",\"2014\",\"2014\",\"2014\",\"2014\",\"2014\",\"2014\",\"2014\",\"2014\",\"2014\",\"2014\",\"2014\",\"2014\",\"2014\",\"2014\",\"2014\",\"2014\",\"2014\",\"2015\",\"2015\",\"2015\",\"2015\",\"2015\",\"2015\",\"2015\",\"2015\",\"2015\",\"2015\",\"2015\",\"2015\",\"2015\",\"2015\",\"2015\",\"2015\",\"2015\",\"2015\",\"2015\",\"2015\",\"2015\",\"2015\",\"2015\",\"2015\",\"2015\",\"2015\",\"2015\",\"2015\",\"2015\",\"2015\",\"2015\",\"2015\",\"2015\",\"2015\",\"2015\",\"2015\",\"2015\",\"2015\",\"2015\",\"2015\",\"2015\",\"2015\",\"2015\",\"2015\",\"2015\",\"2015\",\"2015\",\"2015\",\"2015\",\"2015\",\"2015\",\"2015\",\"2015\",\"2015\",\"2015\",\"2016\",\"2016\",\"2016\",\"2016\",\"2016\",\"2016\",\"2016\",\"2016\",\"2016\",\"2016\",\"2016\",\"2016\",\"2016\",\"2016\",\"2016\",\"2016\",\"2016\",\"2016\",\"2016\",\"2016\",\"2016\",\"2016\",\"2016\",\"2016\",\"2016\",\"2016\",\"2016\",\"2016\",\"2016\",\"2016\",\"2016\",\"2016\",\"2016\",\"2016\",\"2016\",\"2016\",\"2016\",\"2016\",\"2016\",\"2016\",\"2016\",\"2016\",\"2016\",\"2016\",\"2016\",\"2016\",\"2016\",\"2016\",\"2016\",\"2016\",\"2016\",\"2016\",\"2016\",\"2016\",\"2016\",\"2016\"]},\"selected\":{\"id\":\"13968\"},\"selection_policy\":{\"id\":\"13982\"}},\"id\":\"13967\",\"type\":\"ColumnDataSource\"},{\"attributes\":{\"factors\":[\"2010\",\"2011\",\"2012\",\"2013\",\"2014\",\"2015\",\"2016\"],\"palette\":[\"#30a2da\",\"#fc4f30\",\"#e5ae38\",\"#6d904f\",\"#8b8b8b\",\"#17becf\",\"#9467bd\"]},\"id\":\"13966\",\"type\":\"CategoricalColorMapper\"},{\"attributes\":{\"children\":[{\"id\":\"13933\"},{\"id\":\"13937\"},{\"id\":\"14014\"}],\"margin\":[0,0,0,0],\"name\":\"Row26392\",\"tags\":[\"embedded\"]},\"id\":\"13932\",\"type\":\"Row\"},{\"attributes\":{\"below\":[{\"id\":\"13946\"}],\"center\":[{\"id\":\"13949\"},{\"id\":\"13952\"},{\"id\":\"13985\"}],\"height\":1000,\"left\":[{\"id\":\"13950\"}],\"margin\":[5,5,5,5],\"min_border_bottom\":10,\"min_border_left\":10,\"min_border_right\":10,\"min_border_top\":10,\"renderers\":[{\"id\":\"13973\"}],\"right\":[{\"id\":\"13985\"}],\"sizing_mode\":\"fixed\",\"title\":{\"id\":\"13938\"},\"toolbar\":{\"id\":\"13959\"},\"width\":700,\"x_range\":{\"id\":\"13934\"},\"x_scale\":{\"id\":\"13942\"},\"y_range\":{\"id\":\"13935\"},\"y_scale\":{\"id\":\"13944\"}},\"id\":\"13937\",\"subtype\":\"Figure\",\"type\":\"Plot\"},{\"attributes\":{\"axis_label\":\"neighborhood\",\"formatter\":{\"id\":\"13976\"},\"major_label_policy\":{\"id\":\"13977\"},\"ticker\":{\"id\":\"13951\"}},\"id\":\"13950\",\"type\":\"CategoricalAxis\"},{\"attributes\":{\"axis\":{\"id\":\"13950\"},\"dimension\":1,\"grid_line_color\":null,\"ticker\":null},\"id\":\"13952\",\"type\":\"Grid\"},{\"attributes\":{\"callback\":null,\"renderers\":[{\"id\":\"13973\"}],\"tags\":[\"hv_created\"],\"tooltips\":[[\"neighborhood\",\"@{neighborhood}\"],[\"year\",\"@{year}\"],[\"value\",\"@{value}\"]]},\"id\":\"13936\",\"type\":\"HoverTool\"},{\"attributes\":{\"factors\":[\"Outer Mission\",\"Anza Vista\",\"Hayes Valley\",\"Park North\",\"Marina\",\"Alamo Square\",\"Inner Parkside\",\"Inner Sunset\",\"South of Market\",\"Lower Pacific Heights\",\"Van Ness/ Civic Center\",\"Inner Richmond\",\"Westwood Park\",\"Potrero Hill\",\"Telegraph Hill\",\"North Beach\",\"Haight Ashbury\",\"Lone Mountain\",\"Westwood Highlands\",\"Western Addition\",\"Midtown Terrace\",\"Union Square District\",\"Mission Dolores\",\"North Waterfront\",\"Oceanview\",\"West Portal\",\"Parkside\",\"Portola\",\"Silver Terrace\",\"South Beach\",\"Miraloma Park\",\"Lake --The Presidio\",\"Yerba Buena\",\"Duboce Triangle\",\"Diamond Heights\",\"Clarendon Heights\",\"Corona Heights\",\"Financial District South\",\"Forest Knolls\",\"Financial District North\",\"Bayview Heights\",\"Bayview\",\"Ingleside \",\"Golden Gate Heights\",\"Hunters Point\",\"Visitacion Valley\",\"Pacific Heights\",\"Outer Parkside\",\"Jordan Park/Laurel Heights\",\"Central Sunset\",\"Excelsior\",\"Russian Hill\",\"Eureka Valley/Dolores Heights\",\"Central Richmond\",\"Outer Sunset\",\"Nob Hill\",\"Noe Valley\",\"Downtown \",\"Inner Mission\",\"Mission Terrace\",\"Buena Vista Park\",\"Glen Park\",\"Sunnyside\",\"Cow Hollow\",\"Croker Amazon\",\"Parnassus/Ashbury Heights\",\"Bernal Heights \",\"Twin Peaks\",\"Presidio Heights\",\"Merced Heights\",\"Outer Richmond \",\"Ingleside Heights\",\"Mission Bay\"],\"tags\":[[[\"neighborhood\",\"neighborhood\",null]]]},\"id\":\"13935\",\"type\":\"FactorRange\"},{\"attributes\":{},\"id\":\"13976\",\"type\":\"CategoricalTickFormatter\"},{\"attributes\":{\"axis_label\":\"Sum of annual appreciation 2010-2016 (%)\",\"formatter\":{\"id\":\"13979\"},\"major_label_policy\":{\"id\":\"13980\"},\"ticker\":{\"id\":\"13947\"}},\"id\":\"13946\",\"type\":\"LinearAxis\"},{\"attributes\":{},\"id\":\"13947\",\"type\":\"BasicTicker\"},{\"attributes\":{\"bottom_units\":\"screen\",\"fill_alpha\":0.5,\"fill_color\":\"lightgrey\",\"left_units\":\"screen\",\"level\":\"overlay\",\"line_alpha\":1.0,\"line_color\":\"black\",\"line_dash\":[4,4],\"line_width\":2,\"right_units\":\"screen\",\"syncable\":false,\"top_units\":\"screen\"},\"id\":\"13958\",\"type\":\"BoxAnnotation\"},{\"attributes\":{\"items\":[{\"id\":\"13986\"}],\"location\":[0,0]},\"id\":\"13985\",\"type\":\"Legend\"},{\"attributes\":{\"fill_alpha\":{\"value\":1.0},\"fill_color\":{\"field\":\"year\",\"transform\":{\"id\":\"13966\"}},\"hatch_alpha\":{\"value\":1.0},\"hatch_color\":{\"value\":\"black\"},\"hatch_scale\":{\"value\":12.0},\"hatch_weight\":{\"value\":1.0},\"height\":{\"value\":0.8},\"left\":{\"field\":\"bottom\"},\"line_alpha\":{\"value\":1.0},\"line_cap\":{\"value\":\"butt\"},\"line_color\":{\"value\":\"black\"},\"line_dash\":{\"value\":[]},\"line_dash_offset\":{\"value\":0},\"line_join\":{\"value\":\"bevel\"},\"line_width\":{\"value\":1},\"right\":{\"field\":\"top\"},\"y\":{\"field\":\"neighborhood\"}},\"id\":\"13987\",\"type\":\"HBar\"},{\"attributes\":{},\"id\":\"13980\",\"type\":\"AllLabels\"},{\"attributes\":{\"data_source\":{\"id\":\"13967\"},\"glyph\":{\"id\":\"13970\"},\"hover_glyph\":null,\"muted_glyph\":{\"id\":\"13972\"},\"nonselection_glyph\":{\"id\":\"13971\"},\"selection_glyph\":{\"id\":\"13987\"},\"view\":{\"id\":\"13974\"}},\"id\":\"13973\",\"type\":\"GlyphRenderer\"},{\"attributes\":{\"text_color\":\"black\",\"text_font_size\":\"12pt\"},\"id\":\"13938\",\"type\":\"Title\"},{\"attributes\":{\"active_multi\":null,\"tools\":[{\"id\":\"13936\"},{\"id\":\"13953\"},{\"id\":\"13954\"},{\"id\":\"13955\"},{\"id\":\"13956\"},{\"id\":\"13957\"}]},\"id\":\"13959\",\"type\":\"Toolbar\"},{\"attributes\":{},\"id\":\"13953\",\"type\":\"SaveTool\"},{\"attributes\":{\"margin\":[5,5,5,5],\"name\":\"HSpacer26396\",\"sizing_mode\":\"stretch_width\"},\"id\":\"13933\",\"type\":\"Spacer\"},{\"attributes\":{\"source\":{\"id\":\"13967\"}},\"id\":\"13974\",\"type\":\"CDSView\"},{\"attributes\":{},\"id\":\"13954\",\"type\":\"PanTool\"},{\"attributes\":{\"axis\":{\"id\":\"13946\"},\"grid_line_color\":null,\"ticker\":null},\"id\":\"13949\",\"type\":\"Grid\"},{\"attributes\":{},\"id\":\"13977\",\"type\":\"AllLabels\"},{\"attributes\":{},\"id\":\"13955\",\"type\":\"WheelZoomTool\"},{\"attributes\":{},\"id\":\"13944\",\"type\":\"CategoricalScale\"},{\"attributes\":{\"label\":{\"field\":\"year\"},\"renderers\":[{\"id\":\"13973\"}]},\"id\":\"13986\",\"type\":\"LegendItem\"},{\"attributes\":{},\"id\":\"13979\",\"type\":\"BasicTickFormatter\"},{\"attributes\":{},\"id\":\"13968\",\"type\":\"Selection\"},{\"attributes\":{\"overlay\":{\"id\":\"13958\"}},\"id\":\"13956\",\"type\":\"BoxZoomTool\"},{\"attributes\":{\"end\":606.5874488522486,\"reset_end\":606.5874488522486,\"reset_start\":-170.7366982378205,\"start\":-170.7366982378205,\"tags\":[[[\"value\",\"value\",null]]]},\"id\":\"13934\",\"type\":\"Range1d\"},{\"attributes\":{},\"id\":\"13982\",\"type\":\"UnionRenderers\"},{\"attributes\":{},\"id\":\"13942\",\"type\":\"LinearScale\"},{\"attributes\":{\"fill_color\":{\"field\":\"year\",\"transform\":{\"id\":\"13966\"}},\"height\":{\"value\":0.8},\"left\":{\"field\":\"bottom\"},\"right\":{\"field\":\"top\"},\"y\":{\"field\":\"neighborhood\"}},\"id\":\"13970\",\"type\":\"HBar\"},{\"attributes\":{\"fill_alpha\":{\"value\":0.1},\"fill_color\":{\"field\":\"year\",\"transform\":{\"id\":\"13966\"}},\"height\":{\"value\":0.8},\"left\":{\"field\":\"bottom\"},\"line_alpha\":{\"value\":0.1},\"right\":{\"field\":\"top\"},\"y\":{\"field\":\"neighborhood\"}},\"id\":\"13971\",\"type\":\"HBar\"},{\"attributes\":{},\"id\":\"13957\",\"type\":\"ResetTool\"},{\"attributes\":{\"margin\":[5,5,5,5],\"name\":\"HSpacer26397\",\"sizing_mode\":\"stretch_width\"},\"id\":\"14014\",\"type\":\"Spacer\"},{\"attributes\":{\"fill_alpha\":{\"value\":0.2},\"fill_color\":{\"field\":\"year\",\"transform\":{\"id\":\"13966\"}},\"height\":{\"value\":0.8},\"left\":{\"field\":\"bottom\"},\"line_alpha\":{\"value\":0.2},\"right\":{\"field\":\"top\"},\"y\":{\"field\":\"neighborhood\"}},\"id\":\"13972\",\"type\":\"HBar\"}],\"root_ids\":[\"13932\"]},\"title\":\"Bokeh Application\",\"version\":\"2.3.2\"}};\n",
       "    var render_items = [{\"docid\":\"ac12e69e-1bfb-42bd-b8b7-4129c2a335f9\",\"root_ids\":[\"13932\"],\"roots\":{\"13932\":\"d72a0cc2-b8f4-4922-aaad-8257dcde3255\"}}];\n",
       "    root.Bokeh.embed.embed_items_notebook(docs_json, render_items);\n",
       "  }\n",
       "  if (root.Bokeh !== undefined && root.Bokeh.Panel !== undefined) {\n",
       "    embed_document(root);\n",
       "  } else {\n",
       "    var attempts = 0;\n",
       "    var timer = setInterval(function(root) {\n",
       "      if (root.Bokeh !== undefined && root.Bokeh.Panel !== undefined) {\n",
       "        clearInterval(timer);\n",
       "        embed_document(root);\n",
       "      } else if (document.readyState == \"complete\") {\n",
       "        attempts++;\n",
       "        if (attempts > 200) {\n",
       "          clearInterval(timer);\n",
       "          console.log(\"Bokeh: ERROR: Unable to run BokehJS code because BokehJS library is missing\");\n",
       "        }\n",
       "      }\n",
       "    }, 25, root)\n",
       "  }\n",
       "})(window);</script>"
      ],
      "text/plain": [
       ":Bars   [neighborhood,year]   (value)"
      ]
     },
     "execution_count": 228,
     "metadata": {
      "application/vnd.holoviews_exec.v0+json": {
       "id": "13932"
      }
     },
     "output_type": "execute_result"
    }
   ],
   "source": [
    "# Yearly change in prices during the period\n",
    "change_in_prices_by_year_sorted=change_in_prices_by_year.T.sort_values(2016)*100\n",
    "change_in_prices_by_year_sorted.hvplot.barh(\n",
    "    height=1000\n",
    "    ,stacked=True\n",
    "    ,ylabel=\"Sum of annual appreciation 2010-2016 (%)\"\n",
    ")"
   ]
  },
  {
   "cell_type": "markdown",
   "metadata": {},
   "source": [
    "## Compose Your Data Story\n",
    "\n",
    "Based on the visualizations, here we compose a data story that synthesizes the analysis by answering the following questions:"
   ]
  },
  {
   "cell_type": "markdown",
   "metadata": {},
   "source": [
    "**Question**  How does the trend in rental income growth compare to the trend in sales prices? Does this same trend hold true for all the neighborhoods across San Francisco?\n",
    "\n",
    "**Answer** # The trend in rental income have been to increase in the period 2010-2016 significantly. The price per square foot as well. At the same time, the amount of units in the same period have almost not increase.. That is to say, we are in the presence of a rental market with increase demand, but stagnant supply. The appreciation in of the real estate is not for all neirborhoods. A few of them did not increase their value in the period, like Anza Vista, Sounth Beach, Hayes Valley, Park North, Ingleside, and Oceanview. However, most of them have an appreciation, many by more than double its price per square foot in the period, such as For example, Van Ness/ Civic Center, Union Square District, Outer Richmond, Croker Amazon, and Mission Terrace.\n",
    "\n",
    "This is the perfect scenario for the one click buy-and-rent strategty. Buying a property would not only see returns for the appreciation of the property itself, but for the increase of rent due to increase of rental demand, since the rent may be expected to continue increasing for the lack of real estate development.\n",
    "\n",
    "Since the general trend for real estate price appreciation is positive, it would be good to focus in buying from neighborhhods that may be selling at a discount. Those may be the ones that had a positive overall appreciation, but a negative change in price per square foot in the last year available, 2016. Those cases are Outer Mission, Anza Vista, Hayes Valley, Park North, Marina, and Alamo Square. Unfortunately, we do not have differentiated rent prices by neighborhood in each year in the census csv file, in order to add that element to the analysis. However, given the explosive increase in rent prices as a whole, we can assume that all rent prices follow an upward trend in the period. \n",
    "\n",
    "Giving the pandemic, data until 2016 does not appear enough to have an updated picture to give a final recommendation.  However, recent analysis, like in https://www.zumper.com/blog/state-of-the-san-francisco-bay-area-renter-2020/ shows that rent prices have dropped in San Francisco due to many people moving out, but many people have started moving in, specially coming from Sacramento, due to the fell in rent prices. This means that we can expect prices to stabilize at some point, and to reach a bottom. If we assume that the behavior of prices after the bottom are going to be similar to the behaviour in 2010-2016 as we get out of the pandemic, and if the trend of almost no new housing development remains after 2021, probably 2021 may be a very good opportunity to enter the real estate market, buy houses at discount, and enjoy rising rental prices in the near future.\n",
    "\n",
    "In conclusion, we see potential for the buy-and-rent strategy for a double source of profit on the real estate appreciation, and the rental income. Among all the neirborhoods that we would recommend to invest giving the data available, Outer Mission presents a high overall appreciation, with a large drop in 2016. Assuming that trend is still valid in 2021, that would be the first choice, since may be the Neirborhood selling at the larger discount."
   ]
  },
  {
   "cell_type": "code",
   "execution_count": null,
   "metadata": {},
   "outputs": [],
   "source": []
  }
 ],
 "metadata": {
  "file_extension": ".py",
  "kernelspec": {
   "display_name": "Python (dev)",
   "language": "python",
   "name": "dev"
  },
  "language_info": {
   "codemirror_mode": {
    "name": "ipython",
    "version": 3
   },
   "file_extension": ".py",
   "mimetype": "text/x-python",
   "name": "python",
   "nbconvert_exporter": "python",
   "pygments_lexer": "ipython3",
   "version": "3.7.10"
  },
  "mimetype": "text/x-python",
  "name": "python",
  "npconvert_exporter": "python",
  "pygments_lexer": "ipython3",
  "version": 3
 },
 "nbformat": 4,
 "nbformat_minor": 4
}
